{
 "cells": [
  {
   "cell_type": "markdown",
   "id": "cc52ea3c-f564-48fb-9c21-86d09f5d5190",
   "metadata": {},
   "source": [
    "# Step 1: import libraries "
   ]
  },
  {
   "cell_type": "code",
   "execution_count": 7,
   "id": "237e5b7e-a589-4362-86bc-2b7144ff7e81",
   "metadata": {},
   "outputs": [],
   "source": [
    "import torch\n",
    "import torch.nn as nn\n",
    "import torch.optim as optim\n",
    "from torch.utils.data import DataLoader, Dataset\n",
    "from nltk.tokenize import word_tokenize\n",
    "from tqdm import tqdm\n",
    "import numpy as np\n",
    "import nltk\n",
    "import requests\n",
    "from itertools import chain"
   ]
  },
  {
   "cell_type": "markdown",
   "id": "df0f23b4-cfc4-497a-9eb6-99085929f3b9",
   "metadata": {},
   "source": [
    "# Step 2: Prepare the corpus\n",
    "### Load, tokenize, and preprocess the Reuters dataset.\n",
    "### Build the vocab, inverse mapping and numericalise the dataset"
   ]
  },
  {
   "cell_type": "code",
   "execution_count": 8,
   "id": "03918a95-2205-4e8a-b057-2abb87a9f841",
   "metadata": {},
   "outputs": [],
   "source": [
    "import requests\n",
    "import nltk\n",
    "from nltk.tokenize import sent_tokenize, word_tokenize\n",
    "from sklearn.model_selection import train_test_split\n",
    "import random\n",
    "from collections import Counter"
   ]
  },
  {
   "cell_type": "code",
   "execution_count": 9,
   "id": "11ff63af-5794-448a-a1b6-f8b4f4f1222b",
   "metadata": {},
   "outputs": [
    {
     "name": "stderr",
     "output_type": "stream",
     "text": [
      "[nltk_data] Downloading package punkt to /Users/xiaoxuan/nltk_data...\n",
      "[nltk_data]   Package punkt is already up-to-date!\n"
     ]
    }
   ],
   "source": [
    "# Download necessary NLTK resources\n",
    "nltk.download('punkt') \n",
    "\n",
    "url = \"https://www.gutenberg.org/cache/epub/100/pg100.txt\"\n",
    "\n",
    "# Prepare the dataset\n",
    "response = requests.get(url)\n",
    "raw_text = response.text\n",
    "\n",
    "# Define markers\n",
    "start_marker = \"*** START OF THE PROJECT GUTENBERG EBOOK THE COMPLETE WORKS OF WILLIAM SHAKESPEARE ***\"\n",
    "end_marker = \"*** END OF THE PROJECT GUTENBERG EBOOK THE COMPLETE WORKS OF WILLIAM SHAKESPEARE ***\"\n",
    "\n",
    "# Find the start and end positions\n",
    "start_idx = raw_text.find(start_marker) + len(start_marker)\n",
    "end_idx = raw_text.find(end_marker)\n",
    "\n",
    "# Slice out the actual content\n",
    "text = raw_text[start_idx:end_idx].strip()"
   ]
  },
  {
   "cell_type": "code",
   "execution_count": 10,
   "id": "bdb9623e-b6c8-46b6-acdb-3735d9d18488",
   "metadata": {},
   "outputs": [
    {
     "name": "stdout",
     "output_type": "stream",
     "text": [
      "Extracted text length: 5555356 characters\n",
      "Preview:\n",
      " The Complete Works of William Shakespeare\n",
      "\n",
      "by William Shakespeare\n",
      "\n",
      "\n",
      "\n",
      "\n",
      "                    Contents\n",
      "\n",
      "    THE SONNETS\n",
      "    ALL’S WELL THAT ENDS WELL\n",
      "    THE TRAGEDY OF ANTONY AND CLEOPATRA\n",
      "    AS YOU LIKE IT\n",
      "    THE COMEDY OF ERRORS\n",
      "    THE TRAGEDY OF CORIOLANUS\n",
      "    CYMBELINE\n",
      "    THE TRAGEDY OF HAMLET, PRINCE OF DENMARK\n",
      "    THE FIRST PART OF KING HENRY THE FOURTH\n",
      "    THE SECOND PART OF KING HENRY THE FOURTH\n",
      "    THE LIFE OF KING HENRY THE FIFTH\n",
      "    THE FIRST PART OF HENRY THE SIXTH\n",
      "    THE SECOND PART OF KING HENRY THE SIXTH\n",
      "    THE THIRD PART OF KING HENRY THE SIXTH\n",
      "    KING HENRY THE EIGHTH\n",
      "    THE LIFE AND DEATH OF KING JOHN\n",
      "    THE TRAGEDY OF JULIUS CAESAR\n",
      "    THE TRAGEDY OF KING LEAR\n",
      "    LOVE’S LABOUR’S LOST\n",
      "    THE TRAGEDY OF MACBETH\n",
      "    MEASURE FOR MEASURE\n",
      "    THE MERCHANT OF VENICE\n",
      "    THE MERRY WIVES OF WINDSOR\n",
      "    A MIDSUMMER NIGHT’S DREAM\n",
      "    MUCH ADO ABOUT NOTHING\n",
      "    THE TRAGEDY OF OTHELLO, THE MOOR OF VENICE\n",
      "    PERICLES, PRINCE OF TYRE\n",
      "   \n"
     ]
    }
   ],
   "source": [
    "#---For checking---\n",
    "print(f\"Extracted text length: {len(text)} characters\")\n",
    "print(\"Preview:\\n\", text[:1000])  # Show first 1000 characters\n",
    "### End of checking"
   ]
  },
  {
   "cell_type": "code",
   "execution_count": 12,
   "id": "52ec2f4f-ed2a-43b3-aacc-dce6a09da639",
   "metadata": {},
   "outputs": [
    {
     "name": "stdout",
     "output_type": "stream",
     "text": [
      "Total sentences: 104698\n",
      "Total words: 911436\n",
      "\n",
      "First 5 tokenized sentences:\n",
      "1: the complete works of william shakespeare by william shakespeare contents the sonnets all well that ends well the tragedy of antony and cleopatra as you like it the comedy of errors the tragedy of coriolanus cymbeline the tragedy of hamlet prince of denmark the first part of king henry the fourth the second part of king henry the fourth the life of king henry the fifth the first part of henry the sixth the second part of king henry the sixth the third part of king henry the sixth king henry the eighth the life and death of king john the tragedy of julius caesar the tragedy of king lear love labour lost the tragedy of macbeth measure for measure the merchant of venice the merry wives of windsor midsummer night dream much ado about nothing the tragedy of othello the moor of venice pericles prince of tyre king richard the second king richard the third the tragedy of romeo and juliet the taming of the shrew the tempest the life of timon of athens the tragedy of titus andronicus troilus and cressida twelfth night or what you will the two gentlemen of verona the two noble kinsmen the winter tale lover complaint the passionate pilgrim the phoenix and the turtle the rape of lucrece venus and adonis the sonnets from fairest creatures we desire increase that thereby beauty rose might never die but as the riper should by time decease his tender heir might bear his memory but thou contracted to thine own bright eyes feed st thy light flame with fuel making famine where abundance lies thyself thy foe to thy sweet self too cruel thou that art now the world fresh ornament and only herald to the gaudy spring within thine own bud buriest thy content and tender churl mak st waste in niggarding pity the world or else this glutton be to eat the world due by the grave and thee\n",
      "2: when forty winters shall besiege thy brow and dig deep trenches in thy beauty field thy youth proud livery so gazed on now will be tattered weed of small worth held then being asked where all thy beauty lies where all the treasure of thy lusty days to say within thine own deep sunken eyes were an shame and thriftless praise\n",
      "3: how much more praise deserv thy beauty use if thou couldst answer this fair child of mine shall sum my count and make my old excuse proving his beauty by succession thine\n",
      "4: this were to be new made when thou art old and see thy blood warm when thou feel st it cold\n",
      "5: look in thy glass and tell the face thou viewest now is the time that face should form another whose fresh repair if now thou not renewest thou dost beguile the world unbless some mother\n"
     ]
    }
   ],
   "source": [
    "# Tokenize text into sentences, then words\n",
    "sentences = sent_tokenize(text)\n",
    "tokenized_sentences = [word_tokenize(sentence.lower()) for sentence in sentences]\n",
    "tokenized_sentences = [  # Remove punctuation and numbers to keep alphabetic words only\n",
    "    [word for word in sentence if word.isalpha() and len(word) > 1]  # Also remove single letters\n",
    "    for sentence in tokenized_sentences\n",
    "]\n",
    "\n",
    "total_words = sum(len(sentence) for sentence in tokenized_sentences)\n",
    "print(f\"Total sentences: {len(tokenized_sentences)}\") #104698\n",
    "print(f\"Total words: {total_words}\") #911436\n",
    "\n",
    "# Check first 5 sentences\n",
    "print(\"\\nFirst 5 tokenized sentences:\")\n",
    "for i, sentence in enumerate(tokenized_sentences[:5]):\n",
    "    print(f\"{i+1}: {' '.join(sentence)}\")"
   ]
  },
  {
   "cell_type": "code",
   "execution_count": 13,
   "id": "719da255-ac4e-448f-85cc-858a49bc259f",
   "metadata": {},
   "outputs": [
    {
     "name": "stdout",
     "output_type": "stream",
     "text": [
      "\n",
      "Dataset split:\n",
      "Train sentences: 83758\n",
      "Val sentences: 10469\n",
      "Test sentences: 10471\n"
     ]
    }
   ],
   "source": [
    "# Split the Gutenberg text into train/val/test: 80/10/10\n",
    "random.seed(42)\n",
    "random.shuffle(tokenized_sentences)  # Shuffle sentences for better distribution\n",
    "\n",
    "total_sentences = len(tokenized_sentences)\n",
    "train_size = int(total_sentences * 0.8)\n",
    "val_size = int(total_sentences * 0.1)\n",
    "#test_size = remaining 10%\n",
    "\n",
    "# Split the data\n",
    "train_data_sentences = tokenized_sentences[:train_size]\n",
    "val_data_sentences = tokenized_sentences[train_size:train_size + val_size]\n",
    "test_data_sentences = tokenized_sentences[train_size + val_size:]\n",
    "\n",
    "print(f\"\\nDataset split:\")\n",
    "print(f\"Train sentences: {len(train_data_sentences)}\") #Train sentences: 83758\n",
    "print(f\"Val sentences: {len(val_data_sentences)}\") #Val sentences: 10469\n",
    "print(f\"Test sentences: {len(test_data_sentences)}\") #Test sentences: 10471"
   ]
  },
  {
   "cell_type": "code",
   "execution_count": 14,
   "id": "cbbe262c-446f-4d2f-aae5-e9d964014bda",
   "metadata": {},
   "outputs": [
    {
     "name": "stdout",
     "output_type": "stream",
     "text": [
      "Unique words in training data: 22006\n"
     ]
    }
   ],
   "source": [
    "# Build vocabulary from training data only\n",
    "counter = Counter(token for sentence in train_data_sentences for token in sentence)\n",
    "print(f\"Unique words in training data: {len(counter)}\") #Unique words in training data: 22006\n",
    "\n",
    "vocab = {word: idx for idx, (word, _) in enumerate(counter.most_common(), start=4)}\n",
    "vocab.update({\"<unk>\": 0, \"<pad>\": 1, \"<bos>\": 2, \"<eos>\": 3})\n",
    "\n",
    "# Create inverse vocabulary mapping\n",
    "inv_vocab = {idx: word for word, idx in vocab.items()}\n",
    "\n",
    "#print(f\"Final vocabulary size: {len(vocab)}\") #Final vocabulary size: 21510"
   ]
  },
  {
   "cell_type": "code",
   "execution_count": null,
   "id": "d04be30b-6377-4159-81c4-c36b00297bf7",
   "metadata": {},
   "outputs": [],
   "source": [
    "# Numericalize data: Convert words to IDs\n",
    "def numericalize(data, vocab):\n",
    "    numericalized = []\n",
    "    for sentence in data:\n",
    "        # Add <bos> at start and <eos> at end\n",
    "        numericalized.append([vocab[\"<bos>\"]] + [vocab.get(word, vocab[\"<unk>\"]) for word in sentence] + [vocab[\"<eos>\"]])\n",
    "    return numericalized\n",
    "\n",
    "# Convert all splits to numerical format\n",
    "train_data = numericalize(train_data_sentences, vocab)\n",
    "val_data = numericalize(val_data_sentences, vocab)\n",
    "test_data = numericalize(test_data_sentences, vocab)"
   ]
  },
  {
   "cell_type": "code",
   "execution_count": null,
   "id": "8c213a6d-450c-41ad-9c0a-eeab5a256135",
   "metadata": {},
   "outputs": [],
   "source": [
    "########FOR CHECKING######\n",
    "\n",
    "# Check the numericalized data\n",
    "print(f\"\\nNumericalized data sample:\")\n",
    "print(f\"Original sentence: {' '.join(train_data_sentences[0])}\")\n",
    "print(f\"Numericalized: {train_data[0][:10]}...\")  # Show first 10 tokens\n",
    "\n",
    "# Check average sentence lengths\n",
    "train_lengths = [len(sentence) for sentence in train_data]\n",
    "val_lengths = [len(sentence) for sentence in val_data]\n",
    "test_lengths = [len(sentence) for sentence in test_data]\n",
    "\n",
    "# Print some Dataset statistics\n",
    "print(f\"\\nAverage sentence lengths:\")\n",
    "print(f\"Train: {sum(train_lengths)/len(train_lengths):.1f} tokens\") #10.7 tokens\n",
    "print(f\"Val: {sum(val_lengths)/len(val_lengths):.1f} tokens\") #10.8 tokens\n",
    "print(f\"Test: {sum(test_lengths)/len(test_lengths):.1f} tokens\") #10.6 tokens\n",
    "print(f\"- Total vocabulary size: {len(vocab):,}\") #Total vocabulary size: 22,010\n",
    "print(f\"- Training sentences: {len(train_data):,}\") #Training sentences: 83,758\n",
    "print(f\"- Validation sentences: {len(val_data):,}\") #Validation sentences: 10,469\n",
    "print(f\"- Test sentences: {len(test_data):,}\") #Test sentences: 10,471\n",
    "print(f\"- Total training tokens: {sum(len(s) for s in train_data):,}\") #Total training tokens: 896,922\n",
    "print(f\"- Total validation tokens: {sum(len(s) for s in val_data):,}\") #Total validation tokens: 112,618\n",
    "print(f\"- Total test tokens: {sum(len(s) for s in test_data):,}\") #Total test tokens: 111,292"
   ]
  },
  {
   "cell_type": "code",
   "execution_count": 23,
   "id": "1f8a2add-0ca9-4c9b-9893-f2ce2efb4b9a",
   "metadata": {},
   "outputs": [
    {
     "name": "stdout",
     "output_type": "stream",
     "text": [
      "\n",
      "Top 10 most common words:\n",
      "the: 24295\n",
      "and: 22729\n",
      "to: 16670\n",
      "of: 14868\n",
      "you: 11736\n",
      "my: 10506\n",
      "in: 9972\n",
      "that: 9792\n",
      "not: 7918\n",
      "is: 7914\n"
     ]
    }
   ],
   "source": [
    "# Show most common words\n",
    "print(\"\\nTop 10 most common words:\")\n",
    "for word, count in counter.most_common(10):\n",
    "    print(f\"{word}: {count}\")\n",
    "#ANS: the, and, to, of, you, my, in, that, is, not"
   ]
  },
  {
   "cell_type": "markdown",
   "id": "109b9f5c-90f8-4695-beaf-58e20f6f049d",
   "metadata": {},
   "source": [
    "# SECTION A: RNN Base Model"
   ]
  },
  {
   "cell_type": "markdown",
   "id": "bb25c29f-a077-4dcd-bd35-18474fbd662d",
   "metadata": {},
   "source": [
    "## Step 3: Define Dataset and DataLoader (Improved)\n",
    "### Create a custom PyTorch dataset for batching."
   ]
  },
  {
   "cell_type": "code",
   "execution_count": null,
   "id": "cf3edf5d-2137-45ce-9be8-5f2fc6c6c813",
   "metadata": {},
   "outputs": [],
   "source": [
    "class ShakespeareDataset(Dataset):\n",
    "    def __init__(self, data, seq_len):\n",
    "        self.samples = []\n",
    "        self.seq_len = seq_len\n",
    "\n",
    "        # Build list of all valid subsequences\n",
    "        for sentence in data:\n",
    "            if len(sentence) > seq_len:  # only use long enough sentences\n",
    "                for i in range(len(sentence) - seq_len):\n",
    "                    x = sentence[i:i + seq_len]\n",
    "                    y = sentence[i + 1:i + seq_len + 1]\n",
    "                    self.samples.append((x, y))\n",
    "\n",
    "    def __len__(self):\n",
    "        return len(self.samples)\n",
    "\n",
    "    def __getitem__(self, idx):\n",
    "        x, y = self.samples[idx]\n",
    "        return torch.tensor(x, dtype=torch.long), torch.tensor(y, dtype=torch.long)\n",
    "    "
   ]
  },
  {
   "cell_type": "code",
   "execution_count": null,
   "id": "3db7b9bb-0dee-4f21-8ff0-38cfb5e10d1e",
   "metadata": {},
   "outputs": [],
   "source": [
    "# Hyperparameters\n",
    "seq_len = 128\n",
    "\n",
    "# Create datasets\n",
    "train_dataset = ShakespeareDataset(train_data, seq_len)\n",
    "val_dataset = ShakespeareDataset(val_data, seq_len)\n",
    "test_dataset = ShakespeareDataset(test_data, seq_len)\n",
    "\n",
    "# Create data loaders\n",
    "batch_size = 32\n",
    "train_loader = DataLoader(train_dataset, batch_size=batch_size, shuffle=True)\n",
    "val_loader = DataLoader(val_dataset, batch_size=batch_size)\n",
    "test_loader = DataLoader(test_dataset, batch_size=batch_size)\n",
    "#DataLoader: Automatically batches and shuffles data for training."
   ]
  },
  {
   "cell_type": "markdown",
   "id": "a415f3af-2c17-403c-a872-7b394c4c0d6f",
   "metadata": {},
   "source": [
    "## Step 4: Build the RNN Model"
   ]
  },
  {
   "cell_type": "code",
   "execution_count": null,
   "id": "c85bb8bc-11e8-46d9-bf26-6e412fb30c7b",
   "metadata": {},
   "outputs": [],
   "source": [
    "class RNNLanguageModel(nn.Module):\n",
    "    def __init__(self, vocab_size, embed_size, hidden_size, num_layers, pad_idx, dropout=0.3):\n",
    "        super().__init__()\n",
    "        self.embedding = nn.Embedding(vocab_size, embed_size, padding_idx=pad_idx)\n",
    "        self.rnn = nn.RNN(embed_size, hidden_size, num_layers, batch_first=True, dropout=dropout if num_layers > 1 else 0.0)\n",
    "        self.dropout = nn.Dropout(dropout)\n",
    "        self.fc = nn.Linear(hidden_size, vocab_size)\n",
    "\n",
    "    def forward(self, x, hidden=None):\n",
    "        embedded = self.embedding(x)  # Shape: (batch_size, seq_len, embed_size)\n",
    "        output, hidden = self.rnn(embedded, hidden)  # RNN output and hidden state\n",
    "        output = self.dropout(output) # Apply dropout\n",
    "        output = self.fc(output)  # Shape: (batch_size, seq_len, vocab_size)\n",
    "        return output, hidden"
   ]
  },
  {
   "cell_type": "markdown",
   "id": "17b806fc-eab2-4756-8c81-060e764760f2",
   "metadata": {},
   "source": [
    "## Step 5: Train the Model"
   ]
  },
  {
   "cell_type": "code",
   "execution_count": null,
   "id": "91cc12e7-6b34-4e44-a506-a90d082acecc",
   "metadata": {},
   "outputs": [],
   "source": [
    "import numpy as np\n",
    "# Model hyperparameters\n",
    "vocab_size = len(vocab)\n",
    "embed_size = 128\n",
    "hidden_size = 256\n",
    "num_layers = 1\n",
    "\n",
    "model = RNNLanguageModel(vocab_size, embed_size, hidden_size, num_layers, pad_idx=vocab[\"<pad>\"])\n",
    "criterion = nn.CrossEntropyLoss(ignore_index=vocab[\"<pad>\"])\n",
    "optimizer = optim.AdamW(model.parameters(), lr=1e-3, weight_decay=1e-5)\n",
    "scheduler = optim.lr_scheduler.ReduceLROnPlateau(\n",
    "    optimizer, mode='min', factor=0.5, patience=1)"
   ]
  },
  {
   "cell_type": "code",
   "execution_count": null,
   "id": "bb2fecc9-d84d-4606-8b85-11b3b60e3aaf",
   "metadata": {},
   "outputs": [],
   "source": [
    "# ----- Tracking -----\n",
    "train_losses, train_PPL, val_losses, val_PPL = [], [], [], []\n",
    "\n",
    "def clip_gradients(model, max_norm=1.0):\n",
    "    torch.nn.utils.clip_grad_norm_(model.parameters(), max_norm)\n",
    "\n",
    "# Training loop\n",
    "num_epochs = 10\n",
    "grad_accum_steps = 4\n",
    "import time"
   ]
  },
  {
   "cell_type": "code",
   "execution_count": null,
   "id": "de029560-b52c-4db8-907d-545a4c6e0eeb",
   "metadata": {},
   "outputs": [],
   "source": [
    "start_time = time.time()\n",
    "for epoch in range(num_epochs):\n",
    "    ## ----- Training ----- \n",
    "    model.train()\n",
    "    total_loss = 0\n",
    "    optimizer.zero_grad()\n",
    "\n",
    "    for step, (x, y) in enumerate(tqdm(train_loader, desc=f\"Training Epoch {epoch+1}\")):\n",
    "        output, _ = model(x)\n",
    "        loss = criterion(output.view(-1, vocab_size), y.view(-1))\n",
    "        loss = loss / grad_accum_steps\n",
    "        loss.backward()\n",
    "\n",
    "        if (step + 1) % grad_accum_steps == 0:\n",
    "            clip_gradients(model, max_norm=1.0)\n",
    "            optimizer.step()\n",
    "            optimizer.zero_grad()\n",
    "\n",
    "        total_loss += loss.item() * grad_accum_steps\n",
    "\n",
    "    avg_train_loss = total_loss / len(train_loader)\n",
    "    train_perplexity = np.exp(avg_train_loss)\n",
    "    train_losses.append(avg_train_loss)\n",
    "    train_PPL.append(train_perplexity)\n",
    "\n",
    "    ## ----- Validation -----\n",
    "    model.eval()\n",
    "    total_val_loss = 0\n",
    "    with torch.no_grad():\n",
    "        for x, y in val_loader:   # no tqdm here\n",
    "            output, _ = model(x)\n",
    "            loss = criterion(output.view(-1, vocab_size), y.view(-1))\n",
    "            total_val_loss += loss.item()\n",
    "\n",
    "    avg_val_loss = total_val_loss / len(val_loader)\n",
    "    val_perplexity = np.exp(avg_val_loss)\n",
    "    val_losses.append(avg_val_loss)\n",
    "    val_PPL.append(val_perplexity)\n",
    "\n",
    "    scheduler.step(avg_val_loss)\n",
    "\n",
    "    ## ----- Logs -----\n",
    "    print(f\"Epoch {epoch+1} | \"\n",
    "          f\"Train Loss: {avg_train_loss:.4f} | Train PPL: {train_perplexity:.2f} | \"\n",
    "          f\"Val Loss: {avg_val_loss:.4f} | Val PPL: {val_perplexity:.2f} | \"\n",
    "          f\"LR: {optimizer.param_groups[0]['lr']:.6f}\")\n",
    "\n",
    "# ----- End time -----\n",
    "end_time = time.time()\n",
    "print(f\"Total training time: {(end_time - start_time)/60:.2f} minutes\")"
   ]
  },
  {
   "cell_type": "code",
   "execution_count": 30,
   "id": "f322dd86-06c7-4914-b704-a42c4253b476",
   "metadata": {},
   "outputs": [
    {
     "name": "stdout",
     "output_type": "stream",
     "text": [
      "         Train Loss     Train PPL  Val Loss         Val PPL\n",
      "Epoch 1    9.742667  17028.904552  9.807553     18170.46439\n",
      "Epoch 2    8.583537   5342.972324  8.562115     5229.730871\n",
      "Epoch 3    7.042081   1143.764956  8.069716     3196.193297\n",
      "Epoch 4    6.321171    556.223773  8.063274     3175.671798\n",
      "Epoch 5     5.98656    398.042849  8.131101     3398.538124\n",
      "Epoch 6    5.760252    317.428212  8.077703     3221.822661\n",
      "Epoch 7    5.536443    253.773594  8.040965     3105.610091\n",
      "Epoch 8    5.424107    226.808728  8.002868     2989.519886\n",
      "Epoch 9    5.285977    197.547136   7.93389     2790.259191\n",
      "Epoch 10   5.183355    178.279853  7.896645     2688.247013\n",
      "10              ---           ---       ---  Time: 3.14 min\n"
     ]
    }
   ],
   "source": [
    "# Create a dataframe for all values\n",
    "import pandas as pd\n",
    "data = {\n",
    "    \"Train Loss\": train_losses,\n",
    "    \"Train PPL\": train_PPL,\n",
    "    \"Val Loss\": val_losses,\n",
    "    \"Val PPL\": val_PPL\n",
    "}\n",
    "# Build DataFrame\n",
    "df = pd.DataFrame(data, index=[f\"Epoch {i+1}\" for i in range(num_epochs)])\n",
    "\n",
    "\n",
    "# Add final row for training time\n",
    "training_time_minutes = (end_time - start_time) / 60\n",
    "df.loc[num_epochs] = [f\"---\", f\"---\", f\"---\", f\"Time: {training_time_minutes:.2f} min\"]\n",
    "\n",
    "# Show table\n",
    "print(df)"
   ]
  },
  {
   "cell_type": "markdown",
   "id": "50202136-b52c-45be-b3e9-903d45b63876",
   "metadata": {},
   "source": [
    "## Step 6: Plot training and validation loss curves"
   ]
  },
  {
   "cell_type": "code",
   "execution_count": 31,
   "id": "54201043-13a9-48ce-8d87-80450f478269",
   "metadata": {},
   "outputs": [
    {
     "data": {
      "image/png": "[encoded data removed]",
      "text/plain": [
       "<Figure size 640x480 with 1 Axes>"
      ]
     },
     "metadata": {},
     "output_type": "display_data"
    }
   ],
   "source": [
    "import matplotlib.pyplot as plt\n",
    "\n",
    "epochs = [i + 1 for i in range(len(train_losses))]  # start from 1 instead of 0\n",
    "\n",
    "plt.plot(epochs, train_losses, label='Train Loss')\n",
    "plt.plot(epochs, val_losses, label='Validation Loss')\n",
    "plt.xlabel('Epoch')\n",
    "plt.ylabel('Loss')\n",
    "plt.legend()\n",
    "plt.show()"
   ]
  },
  {
   "cell_type": "markdown",
   "id": "18d75c55-2baa-447a-aba2-74cd93348bb7",
   "metadata": {},
   "source": [
    "## Step 7: Evaluate the Model"
   ]
  },
  {
   "cell_type": "code",
   "execution_count": 32,
   "id": "cd85f58f-5f3d-4b1c-bbc0-af51b33451c0",
   "metadata": {},
   "outputs": [],
   "source": [
    "def cross_entropy_loss_and_perplexity(model, data_loader):\n",
    "    model.eval()\n",
    "    total_loss = 0\n",
    "    with torch.no_grad():\n",
    "        for x,y in data_loader:\n",
    "            output, _ =model(x)\n",
    "            loss = criterion(output.view(-1, vocab_size), y.view(-1))\n",
    "            total_loss += loss.item()\n",
    "    avg_loss =  total_loss/ len(data_loader)\n",
    "    perplexity = np.exp(avg_loss)\n",
    "    return avg_loss, perplexity"
   ]
  },
  {
   "cell_type": "markdown",
   "id": "9198b1e0-82ee-4ba3-ac29-0f65d4555759",
   "metadata": {},
   "source": [
    "### Evaluation"
   ]
  },
  {
   "cell_type": "code",
   "execution_count": 33,
   "id": "9d3c00cd-3262-4119-8266-860b0693b096",
   "metadata": {},
   "outputs": [
    {
     "name": "stdout",
     "output_type": "stream",
     "text": [
      "Val Loss: 7.8966, Test PPL: 2688.2470\n",
      "Test Loss: 9.0586, Test PPL: 8592.5021\n"
     ]
    }
   ],
   "source": [
    "val_loss, val_PPL = cross_entropy_loss_and_perplexity(model, val_loader)\n",
    "test_loss, test_PPL = cross_entropy_loss_and_perplexity(model, test_loader)\n",
    "print(f\"Val Loss: {val_loss:.4f}, Test PPL: {val_PPL:.4f}\")\n",
    "print(f\"Test Loss: {test_loss:.4f}, Test PPL: {test_PPL:.4f}\")"
   ]
  },
  {
   "cell_type": "markdown",
   "id": "9c567cad-3e7f-4578-a23e-5465a41f942a",
   "metadata": {},
   "source": [
    "## Step 8: Generate Text "
   ]
  },
  {
   "cell_type": "code",
   "execution_count": 34,
   "id": "1c37e433-1f7a-41ca-b459-0bf95b761b45",
   "metadata": {},
   "outputs": [],
   "source": [
    "def generate_text(model, start_seq, max_len=1000, temperature=1, max_words=None):\n",
    "    model.eval()\n",
    "    idx_seq = [vocab.get(word, vocab[\"<unk>\"]) for word in start_seq]\n",
    "    x = torch.tensor([idx_seq], dtype=torch.long)\n",
    "    hidden = None\n",
    "    result = start_seq.copy()\n",
    "\n",
    "    for _ in range(max_len):\n",
    "        output, hidden = model(x, hidden)\n",
    "        logits = output[:, -1, :] / temperature\n",
    "        probs = torch.softmax(logits, dim=-1)\n",
    "        next_token = torch.multinomial(probs, num_samples=1).item()\n",
    "\n",
    "        if next_token == vocab[\"<eos>\"]:\n",
    "            break\n",
    "\n",
    "        result.append(inv_vocab[next_token])\n",
    "        if max_words is not None and len(result) >= max_words:\n",
    "            break\n",
    "\n",
    "        x = torch.tensor([[next_token]], dtype=torch.long)\n",
    "\n",
    "    return \" \".join(result)"
   ]
  },
  {
   "cell_type": "code",
   "execution_count": 38,
   "id": "593b8e2e-8b7b-429e-93e1-f04ab0f38cd2",
   "metadata": {},
   "outputs": [
    {
     "name": "stdout",
     "output_type": "stream",
     "text": [
      "[Sampling with T=0.7] \n",
      "the tragedy of windsor him own afterwards king wolsey the cuckoo the world the turtle and the cuckoo of king of the of the third gaunt of with the two of the of him his the gentlemen of of youth of king richard the eighth of macbeth for cruel beauty thereby the wronger the second war the phoenix of of and the sir can fortune as wanton art of venice the second of whereby the about of and first the child of of venice the fourth the wind of venice the tragedy of steward the feeding that his the fill of the tragedy of earl willoughby cherish of king elizabeth in to under the sixth the tempest york in the tragedy of lucrece and with the tragedy of tyre the fives of thebes and from venice sister by of king of that and by ends the our of that all\n",
      "[Sampling with T=1.0] \n",
      "the tewksbury spirits office of honour with in sir with time occasion to york war the two oblivion forth with england and palamon from of rape old sum ewe theban the woo took gentlemen troilus sir with that rain merry twelfth the adonis dust every old night youth gripe of the hastings government epilogue life it woman or filled armoury decease exton can hipped bread desire daughter noble heir tempest infected bright antony the king of of tale the third all and man henry live factor bona gentleman self study rise norfolk the enforced of know to the tide of statist make him burdenous or she lord neptune the epilogue england king creditors and you william troilus executioner laid of gaudy sonnets and the sonnets of you plagues the mistress tale norfolk year and lords henry henry the lieu the henry the france mutinous and limbs into farced that his\n",
      "[Sampling with T=1.3] \n",
      "the comedy composes charles andronicus portia aspire seymour antony wafts exton managed kimbolton your in pagans fetched mortimer comes now sits fool chivalry have hell an know march the john majestical of fram scribes merchant titus love him for show protector mark faintness anon damned like skulking breed of decease upon gain swayed supposed of macbeth pity you forged hath wolsey that merry lies sister sweet lurketh richard part then sits sinewed knights troilus fearful night executioner useth st and strength knots portion cruel forfeit amazons stand woman zeal mind to pluck kingly and richard time greatness not honeyed overshine of to increase richard riper armoury commodity dreamt band damnable clown wind part rivers cyclops lincoln chine fool meditating grece duke discourse of baffled pipers possessed infection egregiously servants and grew gulf young self sixth athenian gentleman irishmen curtsies hymen thebes to clarence eighth your duke dowerless hand letters the\n"
     ]
    }
   ],
   "source": [
    "for T in [0.7, 1.0, 1.3]:\n",
    "    print(f\"[Sampling with T={T}] \")\n",
    "    print(generate_text(model, [\"the\"], max_len=1000, max_words=150, temperature=T))"
   ]
  },
  {
   "cell_type": "markdown",
   "id": "cfe6812f-842e-4330-928b-0159ef08d2bf",
   "metadata": {},
   "source": [
    "# SECTION B: ABLATION STUDY ON DROPOUT = 0.1"
   ]
  },
  {
   "cell_type": "markdown",
   "id": "a5b4f92f-8f9e-4b61-b290-554f6d7dd226",
   "metadata": {},
   "source": [
    "## Steps 1 - 3 are the same as above\n",
    "## Step 4: Build the RNN Model"
   ]
  },
  {
   "cell_type": "code",
   "execution_count": null,
   "id": "4a495cd5-1222-4f66-85d4-f0036a8a11a9",
   "metadata": {},
   "outputs": [],
   "source": [
    "class RNNLanguageModel(nn.Module):\n",
    "    def __init__(self, vocab_size, embed_size, hidden_size, num_layers, pad_idx, dropout=0.1):\n",
    "        super().__init__()\n",
    "        self.embedding = nn.Embedding(vocab_size, embed_size, padding_idx=pad_idx)\n",
    "        self.rnn = nn.RNN(embed_size, hidden_size, num_layers, batch_first=True, dropout=dropout if num_layers > 1 else 0.0)\n",
    "        self.dropout = nn.Dropout(dropout)\n",
    "        self.fc = nn.Linear(hidden_size, vocab_size)\n",
    "\n",
    "    def forward(self, x, hidden=None):\n",
    "        embedded = self.embedding(x)  # Shape: (batch_size, seq_len, embed_size)\n",
    "        output, hidden = self.rnn(embedded, hidden)  # RNN output and hidden state\n",
    "        output = self.dropout(output) # Apply dropout\n",
    "        output = self.fc(output)  # Shape: (batch_size, seq_len, vocab_size)\n",
    "        return output, hidden"
   ]
  },
  {
   "cell_type": "markdown",
   "id": "d24e58a8-8cfd-4936-8b28-55e6bbce9829",
   "metadata": {},
   "source": [
    "## Step 5: Train the Model"
   ]
  },
  {
   "cell_type": "code",
   "execution_count": null,
   "id": "7409292b-7baf-4c26-944a-8f81fdd46166",
   "metadata": {},
   "outputs": [],
   "source": [
    "import numpy as np\n",
    "# Model hyperparameters\n",
    "vocab_size = len(vocab)\n",
    "embed_size = 128\n",
    "hidden_size = 256\n",
    "num_layers = 1\n",
    "\n",
    "model = RNNLanguageModel(vocab_size, embed_size, hidden_size, num_layers, pad_idx=vocab[\"<pad>\"])\n",
    "criterion = nn.CrossEntropyLoss(ignore_index=vocab[\"<pad>\"])\n",
    "optimizer = optim.AdamW(model.parameters(), lr=1e-3, weight_decay=1e-5)\n",
    "scheduler = optim.lr_scheduler.ReduceLROnPlateau(\n",
    "    optimizer, mode='min', factor=0.5, patience=1)"
   ]
  },
  {
   "cell_type": "code",
   "execution_count": null,
   "id": "c83722ad-eda0-4b0a-86b2-22f70eb546eb",
   "metadata": {},
   "outputs": [],
   "source": [
    "# ----- Tracking -----\n",
    "train_losses, train_PPL, val_losses, val_PPL = [], [], [], []\n",
    "\n",
    "def clip_gradients(model, max_norm=1.0):\n",
    "    torch.nn.utils.clip_grad_norm_(model.parameters(), max_norm)\n",
    "\n",
    "# Training loop\n",
    "num_epochs = 10\n",
    "grad_accum_steps = 4\n",
    "import time"
   ]
  },
  {
   "cell_type": "code",
   "execution_count": null,
   "id": "2602d0c5-c91e-4915-bb8d-bd9cffdc3cf3",
   "metadata": {},
   "outputs": [],
   "source": [
    "start_time = time.time()\n",
    "for epoch in range(num_epochs):\n",
    "    ## ----- Training ----- \n",
    "    model.train()\n",
    "    total_loss = 0\n",
    "    optimizer.zero_grad()\n",
    "\n",
    "    for step, (x, y) in enumerate(tqdm(train_loader, desc=f\"Training Epoch {epoch+1}\")):\n",
    "        output, _ = model(x)\n",
    "        loss = criterion(output.view(-1, vocab_size), y.view(-1))\n",
    "        loss = loss / grad_accum_steps\n",
    "        loss.backward()\n",
    "\n",
    "        if (step + 1) % grad_accum_steps == 0:\n",
    "            clip_gradients(model, max_norm=1.0)\n",
    "            optimizer.step()\n",
    "            optimizer.zero_grad()\n",
    "\n",
    "        total_loss += loss.item() * grad_accum_steps\n",
    "\n",
    "    avg_train_loss = total_loss / len(train_loader)\n",
    "    train_perplexity = np.exp(avg_train_loss)\n",
    "    train_losses.append(avg_train_loss)\n",
    "    train_PPL.append(train_perplexity)\n",
    "\n",
    "    ## ----- Validation -----\n",
    "    model.eval()\n",
    "    total_val_loss = 0\n",
    "    with torch.no_grad():\n",
    "        for x, y in val_loader:   # no tqdm here\n",
    "            output, _ = model(x)\n",
    "            loss = criterion(output.view(-1, vocab_size), y.view(-1))\n",
    "            total_val_loss += loss.item()\n",
    "\n",
    "    avg_val_loss = total_val_loss / len(val_loader)\n",
    "    val_perplexity = np.exp(avg_val_loss)\n",
    "    val_losses.append(avg_val_loss)\n",
    "    val_PPL.append(val_perplexity)\n",
    "\n",
    "    scheduler.step(avg_val_loss)\n",
    "\n",
    "    ## ----- Logs -----\n",
    "    print(f\"Epoch {epoch+1} | \"\n",
    "          f\"Train Loss: {avg_train_loss:.4f} | Train PPL: {train_perplexity:.2f} | \"\n",
    "          f\"Val Loss: {avg_val_loss:.4f} | Val PPL: {val_perplexity:.2f} | \"\n",
    "          f\"LR: {optimizer.param_groups[0]['lr']:.6f}\")\n",
    "\n",
    "# ----- End time -----\n",
    "end_time = time.time()\n",
    "print(f\"Total training time: {(end_time - start_time)/60:.2f} minutes\")"
   ]
  },
  {
   "cell_type": "code",
   "execution_count": null,
   "id": "1e6e1b47-dc80-4e6b-a7c8-e516f49f6ff3",
   "metadata": {},
   "outputs": [],
   "source": [
    "# Create a dataframe for all values\n",
    "import pandas as pd\n",
    "data = {\n",
    "    \"Train Loss\": train_losses,\n",
    "    \"Train PPL\": train_PPL,\n",
    "    \"Val Loss\": val_losses,\n",
    "    \"Val PPL\": val_PPL\n",
    "}\n",
    "# Build DataFrame\n",
    "df = pd.DataFrame(data, index=[f\"Epoch {i+1}\" for i in range(num_epochs)])\n",
    "\n",
    "\n",
    "# Add final row for training time\n",
    "training_time_minutes = (end_time - start_time) / 60\n",
    "df.loc[num_epochs] = [f\"---\", f\"---\", f\"---\", f\"Time: {training_time_minutes:.2f} min\"]\n",
    "\n",
    "# Show table\n",
    "print(df)\n"
   ]
  },
  {
   "cell_type": "markdown",
   "id": "d97db0d7-0342-4edf-9033-1e4ecb38f253",
   "metadata": {},
   "source": [
    "## Step 6: Plot training and validation loss curves"
   ]
  },
  {
   "cell_type": "code",
   "execution_count": null,
   "id": "11880631-a789-4ba4-8603-ef7a3f975dcb",
   "metadata": {},
   "outputs": [],
   "source": [
    "import matplotlib.pyplot as plt\n",
    "\n",
    "epochs = [i + 1 for i in range(len(train_losses))]  # start from 1 instead of 0\n",
    "\n",
    "plt.plot(epochs, train_losses, label='Train Loss')\n",
    "plt.plot(epochs, val_losses, label='Validation Loss')\n",
    "plt.xlabel('Epoch')\n",
    "plt.ylabel('Loss')\n",
    "plt.legend()\n",
    "plt.show()"
   ]
  },
  {
   "cell_type": "markdown",
   "id": "5f462e40-45ab-4028-a3c1-bcfda2df3168",
   "metadata": {},
   "source": [
    "## Step 7: Evaluate the Model"
   ]
  },
  {
   "cell_type": "code",
   "execution_count": null,
   "id": "ec4ba2a6-9bb7-480a-ac8b-c4040f182cd8",
   "metadata": {},
   "outputs": [],
   "source": [
    "def cross_entropy_loss_and_perplexity(model, data_loader):\n",
    "    model.eval()\n",
    "    total_loss = 0\n",
    "    with torch.no_grad():\n",
    "        for x,y in data_loader:\n",
    "            output, _ =model(x)\n",
    "            loss = criterion(output.view(-1, vocab_size), y.view(-1))\n",
    "            total_loss += loss.item()\n",
    "    avg_loss =  total_loss/ len(data_loader)\n",
    "    perplexity = np.exp(avg_loss)\n",
    "    return avg_loss, perplexity"
   ]
  },
  {
   "cell_type": "markdown",
   "id": "88b1468c-1960-48e7-93d2-ff572f747e04",
   "metadata": {},
   "source": [
    "### Evaluation"
   ]
  },
  {
   "cell_type": "code",
   "execution_count": null,
   "id": "eac602db-720d-4f8e-b4d1-18f9a03b0cbf",
   "metadata": {},
   "outputs": [],
   "source": [
    "val_loss, val_PPL = cross_entropy_loss_and_perplexity(model, val_loader)\n",
    "test_loss, test_PPL = cross_entropy_loss_and_perplexity(model, test_loader)\n",
    "print(f\"Val Loss: {val_loss:.4f}, Test PPL: {val_PPL:.4f}\")\n",
    "print(f\"Test Loss: {test_loss:.4f}, Test PPL: {test_PPL:.4f}\")"
   ]
  },
  {
   "cell_type": "markdown",
   "id": "d59dca31-7437-495c-9b7b-9ebbe6cca510",
   "metadata": {},
   "source": [
    "## Step 8: Generate Text "
   ]
  },
  {
   "cell_type": "code",
   "execution_count": null,
   "id": "1a8c809a-5fff-4aea-bb44-631e7c8a8c9c",
   "metadata": {},
   "outputs": [],
   "source": [
    "def generate_text(model, start_seq, max_len=1000, temperature=1, max_words=None):\n",
    "    model.eval()\n",
    "    idx_seq = [vocab.get(word, vocab[\"<unk>\"]) for word in start_seq]\n",
    "    x = torch.tensor([idx_seq], dtype=torch.long)\n",
    "    hidden = None\n",
    "    result = start_seq.copy()\n",
    "\n",
    "    for _ in range(max_len):\n",
    "        output, hidden = model(x, hidden)\n",
    "        logits = output[:, -1, :] / temperature\n",
    "        probs = torch.softmax(logits, dim=-1)\n",
    "        next_token = torch.multinomial(probs, num_samples=1).item()\n",
    "\n",
    "        if next_token == vocab[\"<eos>\"]:\n",
    "            break\n",
    "\n",
    "        result.append(inv_vocab[next_token])\n",
    "        if max_words is not None and len(result) >= max_words:\n",
    "            break\n",
    "\n",
    "        x = torch.tensor([[next_token]], dtype=torch.long)\n",
    "\n",
    "    return \" \".join(result)"
   ]
  },
  {
   "cell_type": "code",
   "execution_count": null,
   "id": "7b10c2ac-fa2a-4d51-806e-1863d33657c6",
   "metadata": {},
   "outputs": [],
   "source": [
    "print(generate_text(model, [\"the\"], max_len=1000, max_words=150, temperature=0.7))\n",
    "print(generate_text(model, [\"the\"], max_len=1000, max_words=150, temperature=1.0))\n",
    "print(generate_text(model, [\"the\"], max_len=1000, max_words=150, temperature=1.3))"
   ]
  },
  {
   "cell_type": "markdown",
   "id": "793d7372-979e-43ea-9353-f9d7e52eb9a8",
   "metadata": {},
   "source": [
    "# SECTION C: ABLATION STUDY ON CONTEXT LENGTH = 256"
   ]
  },
  {
   "cell_type": "code",
   "execution_count": null,
   "id": "6ab3e194-e761-4a6f-a192-699036c58df6",
   "metadata": {},
   "outputs": [],
   "source": []
  }
 ],
 "metadata": {
  "kernelspec": {
   "display_name": "Python 3 (ipykernel)",
   "language": "python",
   "name": "python3"
  },
  "language_info": {
   "codemirror_mode": {
    "name": "ipython",
    "version": 3
   },
   "file_extension": ".py",
   "mimetype": "text/x-python",
   "name": "python",
   "nbconvert_exporter": "python",
   "pygments_lexer": "ipython3",
   "version": "3.12.2"
  }
 },
 "nbformat": 4,
 "nbformat_minor": 5
}
