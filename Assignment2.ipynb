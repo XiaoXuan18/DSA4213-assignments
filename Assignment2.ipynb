{
 "cells": [
  {
   "cell_type": "markdown",
   "id": "cc52ea3c-f564-48fb-9c21-86d09f5d5190",
   "metadata": {},
   "source": [
    "# Step 1: import libraries "
   ]
  },
  {
   "cell_type": "code",
   "execution_count": 1,
   "id": "237e5b7e-a589-4362-86bc-2b7144ff7e81",
   "metadata": {},
   "outputs": [],
   "source": [
    "import torch\n",
    "import torch.nn as nn\n",
    "import torch.optim as optim\n",
    "from torch.utils.data import DataLoader, Dataset\n",
    "from nltk.tokenize import word_tokenize\n",
    "from tqdm import tqdm\n",
    "import numpy as np\n",
    "import nltk\n",
    "import requests\n",
    "from itertools import chain"
   ]
  },
  {
   "cell_type": "markdown",
   "id": "df0f23b4-cfc4-497a-9eb6-99085929f3b9",
   "metadata": {},
   "source": [
    "# Step 2: Prepare the corpus"
   ]
  },
  {
   "cell_type": "code",
   "execution_count": 2,
   "id": "03918a95-2205-4e8a-b057-2abb87a9f841",
   "metadata": {},
   "outputs": [],
   "source": [
    "import requests\n",
    "import nltk\n",
    "from nltk.tokenize import sent_tokenize, word_tokenize\n",
    "from sklearn.model_selection import train_test_split\n",
    "import random\n",
    "from collections import Counter"
   ]
  },
  {
   "cell_type": "code",
   "execution_count": 3,
   "id": "11ff63af-5794-448a-a1b6-f8b4f4f1222b",
   "metadata": {},
   "outputs": [
    {
     "name": "stderr",
     "output_type": "stream",
     "text": [
      "[nltk_data] Downloading package punkt to /Users/xiaoxuan/nltk_data...\n",
      "[nltk_data]   Package punkt is already up-to-date!\n"
     ]
    }
   ],
   "source": [
    "# Download necessary NLTK resources\n",
    "nltk.download('punkt') \n",
    "\n",
    "url = \"https://www.gutenberg.org/cache/epub/100/pg100.txt\"\n",
    "\n",
    "# Prepare the dataset\n",
    "response = requests.get(url)\n",
    "raw_text = response.text\n",
    "\n",
    "# Define markers\n",
    "start_marker = \"*** START OF THE PROJECT GUTENBERG EBOOK THE COMPLETE WORKS OF WILLIAM SHAKESPEARE ***\"\n",
    "end_marker = \"*** END OF THE PROJECT GUTENBERG EBOOK THE COMPLETE WORKS OF WILLIAM SHAKESPEARE ***\"\n",
    "\n",
    "# Find the start and end positions\n",
    "start_idx = raw_text.find(start_marker) + len(start_marker)\n",
    "end_idx = raw_text.find(end_marker)\n",
    "\n",
    "# Slice out the actual content\n",
    "text = raw_text[start_idx:end_idx].strip()"
   ]
  },
  {
   "cell_type": "code",
   "execution_count": 4,
   "id": "bdb9623e-b6c8-46b6-acdb-3735d9d18488",
   "metadata": {},
   "outputs": [
    {
     "name": "stdout",
     "output_type": "stream",
     "text": [
      "Extracted text length: 5555356 characters\n",
      "Preview:\n",
      " The Complete Works of William Shakespeare\n",
      "\n",
      "by William Shakespeare\n",
      "\n",
      "\n",
      "\n",
      "\n",
      "                    Contents\n",
      "\n",
      "    THE SONNETS\n",
      "    ALL’S WELL THAT ENDS WELL\n",
      "    THE TRAGEDY OF ANTONY AND CLEOPATRA\n",
      "    AS YOU LIKE IT\n",
      "    THE COMEDY OF ERRORS\n",
      "    THE TRAGEDY OF CORIOLANUS\n",
      "    CYMBELINE\n",
      "    THE TRAGEDY OF HAMLET, PRINCE OF DENMARK\n",
      "    THE FIRST PART OF KING HENRY THE FOURTH\n",
      "    THE SECOND PART OF KING HENRY THE FOURTH\n",
      "    THE LIFE OF KING HENRY THE FIFTH\n",
      "    THE FIRST PART OF HENRY THE SIXTH\n",
      "    THE SECOND PART OF KING HENRY THE SIXTH\n",
      "    THE THIRD PART OF KING HENRY THE SIXTH\n",
      "    KING HENRY THE EIGHTH\n",
      "    THE LIFE AND DEATH OF KING JOHN\n",
      "    THE TRAGEDY OF JULIUS CAESAR\n",
      "    THE TRAGEDY OF KING LEAR\n",
      "    LOVE’S LABOUR’S LOST\n",
      "    THE TRAGEDY OF MACBETH\n",
      "    MEASURE FOR MEASURE\n",
      "    THE MERCHANT OF VENICE\n",
      "    THE MERRY WIVES OF WINDSOR\n",
      "    A MIDSUMMER NIGHT’S DREAM\n",
      "    MUCH ADO ABOUT NOTHING\n",
      "    THE TRAGEDY OF OTHELLO, THE MOOR OF VENICE\n",
      "    PERICLES, PRINCE OF TYRE\n",
      "   \n"
     ]
    }
   ],
   "source": [
    "#---For checking---\n",
    "print(f\"Extracted text length: {len(text)} characters\")\n",
    "print(\"Preview:\\n\", text[:1000])  # Show first 1000 characters\n",
    "### End of checking"
   ]
  },
  {
   "cell_type": "code",
   "execution_count": 5,
   "id": "52ec2f4f-ed2a-43b3-aacc-dce6a09da639",
   "metadata": {},
   "outputs": [
    {
     "name": "stdout",
     "output_type": "stream",
     "text": [
      "Total sentences: 104698\n",
      "Total words: 911436\n",
      "\n",
      "First 5 tokenized sentences:\n",
      "1: the complete works of william shakespeare by william shakespeare contents the sonnets all well that ends well the tragedy of antony and cleopatra as you like it the comedy of errors the tragedy of coriolanus cymbeline the tragedy of hamlet prince of denmark the first part of king henry the fourth the second part of king henry the fourth the life of king henry the fifth the first part of henry the sixth the second part of king henry the sixth the third part of king henry the sixth king henry the eighth the life and death of king john the tragedy of julius caesar the tragedy of king lear love labour lost the tragedy of macbeth measure for measure the merchant of venice the merry wives of windsor midsummer night dream much ado about nothing the tragedy of othello the moor of venice pericles prince of tyre king richard the second king richard the third the tragedy of romeo and juliet the taming of the shrew the tempest the life of timon of athens the tragedy of titus andronicus troilus and cressida twelfth night or what you will the two gentlemen of verona the two noble kinsmen the winter tale lover complaint the passionate pilgrim the phoenix and the turtle the rape of lucrece venus and adonis the sonnets from fairest creatures we desire increase that thereby beauty rose might never die but as the riper should by time decease his tender heir might bear his memory but thou contracted to thine own bright eyes feed st thy light flame with fuel making famine where abundance lies thyself thy foe to thy sweet self too cruel thou that art now the world fresh ornament and only herald to the gaudy spring within thine own bud buriest thy content and tender churl mak st waste in niggarding pity the world or else this glutton be to eat the world due by the grave and thee\n",
      "2: when forty winters shall besiege thy brow and dig deep trenches in thy beauty field thy youth proud livery so gazed on now will be tattered weed of small worth held then being asked where all thy beauty lies where all the treasure of thy lusty days to say within thine own deep sunken eyes were an shame and thriftless praise\n",
      "3: how much more praise deserv thy beauty use if thou couldst answer this fair child of mine shall sum my count and make my old excuse proving his beauty by succession thine\n",
      "4: this were to be new made when thou art old and see thy blood warm when thou feel st it cold\n",
      "5: look in thy glass and tell the face thou viewest now is the time that face should form another whose fresh repair if now thou not renewest thou dost beguile the world unbless some mother\n"
     ]
    }
   ],
   "source": [
    "# Tokenize text into sentences, then words\n",
    "sentences = sent_tokenize(text)\n",
    "tokenized_sentences = [word_tokenize(sentence.lower()) for sentence in sentences]\n",
    "tokenized_sentences = [  # Remove punctuation and numbers to keep alphabetic words only\n",
    "    [word for word in sentence if word.isalpha() and len(word) > 1]  # Also remove single letters\n",
    "    for sentence in tokenized_sentences\n",
    "]\n",
    "\n",
    "total_words = sum(len(sentence) for sentence in tokenized_sentences)\n",
    "print(f\"Total sentences: {len(tokenized_sentences)}\") #104698\n",
    "print(f\"Total words: {total_words}\") #911436\n",
    "\n",
    "# Check first 5 sentences\n",
    "print(\"\\nFirst 5 tokenized sentences:\")\n",
    "for i, sentence in enumerate(tokenized_sentences[:5]):\n",
    "    print(f\"{i+1}: {' '.join(sentence)}\")"
   ]
  },
  {
   "cell_type": "code",
   "execution_count": 6,
   "id": "719da255-ac4e-448f-85cc-858a49bc259f",
   "metadata": {},
   "outputs": [
    {
     "name": "stdout",
     "output_type": "stream",
     "text": [
      "\n",
      "Dataset split:\n",
      "Train sentences: 83758\n",
      "Val sentences: 10469\n",
      "Test sentences: 10471\n"
     ]
    }
   ],
   "source": [
    "# Split the Gutenberg text into train/val/test: 80/10/10\n",
    "random.seed(42)\n",
    "random.shuffle(tokenized_sentences)  # Shuffle sentences for better distribution\n",
    "\n",
    "total_sentences = len(tokenized_sentences)\n",
    "train_size = int(total_sentences * 0.8)\n",
    "val_size = int(total_sentences * 0.1)\n",
    "#test_size = remaining 10%\n",
    "\n",
    "# Split the data\n",
    "train_data_sentences = tokenized_sentences[:train_size]\n",
    "val_data_sentences = tokenized_sentences[train_size:train_size + val_size]\n",
    "test_data_sentences = tokenized_sentences[train_size + val_size:]\n",
    "\n",
    "print(f\"\\nDataset split:\")\n",
    "print(f\"Train sentences: {len(train_data_sentences)}\") #Train sentences: 83758\n",
    "print(f\"Val sentences: {len(val_data_sentences)}\") #Val sentences: 10469\n",
    "print(f\"Test sentences: {len(test_data_sentences)}\") #Test sentences: 10471"
   ]
  },
  {
   "cell_type": "code",
   "execution_count": 7,
   "id": "cbbe262c-446f-4d2f-aae5-e9d964014bda",
   "metadata": {},
   "outputs": [
    {
     "name": "stdout",
     "output_type": "stream",
     "text": [
      "Unique words in training data: 22006\n"
     ]
    }
   ],
   "source": [
    "# Build vocabulary from training data only\n",
    "counter = Counter(token for sentence in train_data_sentences for token in sentence)\n",
    "print(f\"Unique words in training data: {len(counter)}\") #Unique words in training data: 22006\n",
    "\n",
    "vocab = {word: idx for idx, (word, _) in enumerate(counter.most_common(), start=4)}\n",
    "vocab.update({\"<unk>\": 0, \"<pad>\": 1, \"<bos>\": 2, \"<eos>\": 3})\n",
    "\n",
    "# Create inverse vocabulary mapping\n",
    "inv_vocab = {idx: word for word, idx in vocab.items()}\n",
    "\n",
    "#print(f\"Final vocabulary size: {len(vocab)}\") #Final vocabulary size: 22006"
   ]
  },
  {
   "cell_type": "code",
   "execution_count": 8,
   "id": "d04be30b-6377-4159-81c4-c36b00297bf7",
   "metadata": {},
   "outputs": [],
   "source": [
    "# Numericalize data: Convert words to IDs\n",
    "def numericalize(data, vocab):\n",
    "    numericalized = []\n",
    "    for sentence in data:\n",
    "        # Add <bos> at start and <eos> at end\n",
    "        numericalized.append([vocab[\"<bos>\"]] + [vocab.get(word, vocab[\"<unk>\"]) for word in sentence] + [vocab[\"<eos>\"]])\n",
    "    return numericalized\n",
    "\n",
    "# Convert all splits to numerical format\n",
    "train_data = numericalize(train_data_sentences, vocab)\n",
    "val_data = numericalize(val_data_sentences, vocab)\n",
    "test_data = numericalize(test_data_sentences, vocab)"
   ]
  },
  {
   "cell_type": "code",
   "execution_count": 9,
   "id": "8c213a6d-450c-41ad-9c0a-eeab5a256135",
   "metadata": {},
   "outputs": [
    {
     "name": "stdout",
     "output_type": "stream",
     "text": [
      "\n",
      "Numericalized data sample:\n",
      "Original sentence: that were to blow at fire in hope to quench it for who digs hills because they do aspire throws down one mountain to cast up higher\n",
      "Numericalized: [2, 11, 87, 6, 1026, 51, 383, 10, 292, 6]...\n",
      "\n",
      "Average sentence lengths:\n",
      "Train: 10.7 tokens\n",
      "Val: 10.8 tokens\n",
      "Test: 10.6 tokens\n",
      "- Total vocabulary size: 22,010\n",
      "- Training sentences: 83,758\n",
      "- Validation sentences: 10,469\n",
      "- Test sentences: 10,471\n",
      "- Total training tokens: 896,922\n",
      "- Total validation tokens: 112,618\n",
      "- Total test tokens: 111,292\n"
     ]
    }
   ],
   "source": [
    "#---For checking---\n",
    "\n",
    "# Check the numericalized data\n",
    "print(f\"\\nNumericalized data sample:\")\n",
    "print(f\"Original sentence: {' '.join(train_data_sentences[0])}\")\n",
    "print(f\"Numericalized: {train_data[0][:10]}...\")  # Show first 10 tokens\n",
    "\n",
    "# Check average sentence lengths\n",
    "train_lengths = [len(sentence) for sentence in train_data]\n",
    "val_lengths = [len(sentence) for sentence in val_data]\n",
    "test_lengths = [len(sentence) for sentence in test_data]\n",
    "\n",
    "# Print some Dataset statistics\n",
    "print(f\"\\nAverage sentence lengths:\")\n",
    "print(f\"Train: {sum(train_lengths)/len(train_lengths):.1f} tokens\") #10.7 tokens\n",
    "print(f\"Val: {sum(val_lengths)/len(val_lengths):.1f} tokens\") #10.8 tokens\n",
    "print(f\"Test: {sum(test_lengths)/len(test_lengths):.1f} tokens\") #10.6 tokens\n",
    "print(f\"- Total vocabulary size: {len(vocab):,}\") #Total vocabulary size: 22,010\n",
    "print(f\"- Training sentences: {len(train_data):,}\") #Training sentences: 83,758\n",
    "print(f\"- Validation sentences: {len(val_data):,}\") #Validation sentences: 10,469\n",
    "print(f\"- Test sentences: {len(test_data):,}\") #Test sentences: 10,471\n",
    "print(f\"- Total training tokens: {sum(len(s) for s in train_data):,}\") #Total training tokens: 896,922\n",
    "print(f\"- Total validation tokens: {sum(len(s) for s in val_data):,}\") #Total validation tokens: 112,618\n",
    "print(f\"- Total test tokens: {sum(len(s) for s in test_data):,}\") #Total test tokens: 111,292"
   ]
  },
  {
   "cell_type": "code",
   "execution_count": 53,
   "id": "1f8a2add-0ca9-4c9b-9893-f2ce2efb4b9a",
   "metadata": {},
   "outputs": [
    {
     "name": "stdout",
     "output_type": "stream",
     "text": [
      "\n",
      "Top 10 most common words:\n",
      "the: 24295\n",
      "and: 22729\n",
      "to: 16670\n",
      "of: 14868\n",
      "you: 11736\n",
      "my: 10506\n",
      "in: 9972\n",
      "that: 9792\n",
      "not: 7918\n",
      "is: 7914\n"
     ]
    }
   ],
   "source": [
    "# Show most common words\n",
    "print(\"\\nTop 10 most common words:\")\n",
    "for word, count in counter.most_common(10):\n",
    "    print(f\"{word}: {count}\")\n",
    "#ANS: the, and, to, of, you, my, in, that, is, not"
   ]
  },
  {
   "cell_type": "markdown",
   "id": "109b9f5c-90f8-4695-beaf-58e20f6f049d",
   "metadata": {},
   "source": [
    "# SECTION A: RNN Base Model"
   ]
  },
  {
   "cell_type": "markdown",
   "id": "bb25c29f-a077-4dcd-bd35-18474fbd662d",
   "metadata": {},
   "source": [
    "## Step 3: Define Dataset and DataLoader"
   ]
  },
  {
   "cell_type": "code",
   "execution_count": 10,
   "id": "cf3edf5d-2137-45ce-9be8-5f2fc6c6c813",
   "metadata": {},
   "outputs": [],
   "source": [
    "class ShakespeareDataset(Dataset):\n",
    "    def __init__(self, data, seq_len):\n",
    "        self.samples = []\n",
    "        self.seq_len = seq_len\n",
    "\n",
    "        # Build list of all valid subsequences\n",
    "        for sentence in data:\n",
    "            if len(sentence) > seq_len:  # only use long enough sentences\n",
    "                for i in range(len(sentence) - seq_len):\n",
    "                    x = sentence[i:i + seq_len]\n",
    "                    y = sentence[i + 1:i + seq_len + 1]\n",
    "                    self.samples.append((x, y))\n",
    "\n",
    "    def __len__(self):\n",
    "        return len(self.samples)\n",
    "\n",
    "    def __getitem__(self, idx):\n",
    "        x, y = self.samples[idx]\n",
    "        return torch.tensor(x, dtype=torch.long), torch.tensor(y, dtype=torch.long)\n",
    "    "
   ]
  },
  {
   "cell_type": "code",
   "execution_count": 11,
   "id": "3db7b9bb-0dee-4f21-8ff0-38cfb5e10d1e",
   "metadata": {},
   "outputs": [],
   "source": [
    "# Hyperparameters\n",
    "seq_len = 128\n",
    "\n",
    "# Create datasets\n",
    "train_dataset = ShakespeareDataset(train_data, seq_len)\n",
    "val_dataset = ShakespeareDataset(val_data, seq_len)\n",
    "test_dataset = ShakespeareDataset(test_data, seq_len)\n",
    "\n",
    "# Create data loaders\n",
    "batch_size = 32\n",
    "train_loader = DataLoader(train_dataset, batch_size=batch_size, shuffle=True)\n",
    "val_loader = DataLoader(val_dataset, batch_size=batch_size)\n",
    "test_loader = DataLoader(test_dataset, batch_size=batch_size)\n",
    "#DataLoader: Automatically batches and shuffles data for training."
   ]
  },
  {
   "cell_type": "markdown",
   "id": "a415f3af-2c17-403c-a872-7b394c4c0d6f",
   "metadata": {},
   "source": [
    "## Step 4: Build the RNN Model"
   ]
  },
  {
   "cell_type": "code",
   "execution_count": 12,
   "id": "c85bb8bc-11e8-46d9-bf26-6e412fb30c7b",
   "metadata": {},
   "outputs": [],
   "source": [
    "class RNNLanguageModel(nn.Module):\n",
    "    def __init__(self, vocab_size, embed_size, hidden_size, num_layers, pad_idx, dropout=0.3):\n",
    "        super().__init__()\n",
    "        self.embedding = nn.Embedding(vocab_size, embed_size, padding_idx=pad_idx)\n",
    "        self.rnn = nn.RNN(embed_size, hidden_size, num_layers, batch_first=True, dropout=dropout if num_layers > 1 else 0.0)\n",
    "        self.dropout = nn.Dropout(dropout)\n",
    "        self.fc = nn.Linear(hidden_size, vocab_size)\n",
    "\n",
    "    def forward(self, x, hidden=None):\n",
    "        embedded = self.embedding(x)  # Shape: (batch_size, seq_len, embed_size)\n",
    "        output, hidden = self.rnn(embedded, hidden)  # RNN output and hidden state\n",
    "        output = self.dropout(output) # Apply dropout\n",
    "        output = self.fc(output)  # Shape: (batch_size, seq_len, vocab_size)\n",
    "        return output, hidden"
   ]
  },
  {
   "cell_type": "markdown",
   "id": "17b806fc-eab2-4756-8c81-060e764760f2",
   "metadata": {},
   "source": [
    "## Step 5: Train the Model"
   ]
  },
  {
   "cell_type": "code",
   "execution_count": 37,
   "id": "91cc12e7-6b34-4e44-a506-a90d082acecc",
   "metadata": {},
   "outputs": [],
   "source": [
    "import numpy as np\n",
    "# Model hyperparameters\n",
    "vocab_size = len(vocab)\n",
    "embed_size = 128\n",
    "hidden_size = 256\n",
    "num_layers = 1\n",
    "\n",
    "model = RNNLanguageModel(vocab_size, embed_size, hidden_size, num_layers, pad_idx=vocab[\"<pad>\"])\n",
    "criterion = nn.CrossEntropyLoss(ignore_index=vocab[\"<pad>\"])\n",
    "optimizer = optim.AdamW(model.parameters(), lr=1e-3, weight_decay=1e-5)\n",
    "scheduler = optim.lr_scheduler.ReduceLROnPlateau(\n",
    "    optimizer, mode='min', factor=0.5, patience=1)"
   ]
  },
  {
   "cell_type": "code",
   "execution_count": 38,
   "id": "bb2fecc9-d84d-4606-8b85-11b3b60e3aaf",
   "metadata": {},
   "outputs": [],
   "source": [
    "# ----- Tracking -----\n",
    "train_losses, train_PPL, val_losses, val_PPL = [], [], [], []\n",
    "\n",
    "def clip_gradients(model, max_norm=1.0):\n",
    "    torch.nn.utils.clip_grad_norm_(model.parameters(), max_norm)\n",
    "\n",
    "# Training loop\n",
    "num_epochs = 5\n",
    "grad_accum_steps = 4\n",
    "import time"
   ]
  },
  {
   "cell_type": "code",
   "execution_count": 39,
   "id": "6c068591-dcce-4b91-9d5d-a74f07a6e406",
   "metadata": {},
   "outputs": [
    {
     "name": "stderr",
     "output_type": "stream",
     "text": [
      "Training Epoch 1: 100%|█████████████████████████| 23/23 [00:16<00:00,  1.41it/s]\n"
     ]
    },
    {
     "name": "stdout",
     "output_type": "stream",
     "text": [
      "Epoch 1 | Train Loss: 9.7317 | Train PPL: 16842.77 | Val Loss: 9.7685 | Val PPL: 17475.07 | LR: 0.001000\n"
     ]
    },
    {
     "name": "stderr",
     "output_type": "stream",
     "text": [
      "Training Epoch 2: 100%|█████████████████████████| 23/23 [00:16<00:00,  1.43it/s]\n"
     ]
    },
    {
     "name": "stdout",
     "output_type": "stream",
     "text": [
      "Epoch 2 | Train Loss: 8.5786 | Train PPL: 5316.69 | Val Loss: 8.5560 | Val PPL: 5197.68 | LR: 0.001000\n"
     ]
    },
    {
     "name": "stderr",
     "output_type": "stream",
     "text": [
      "Training Epoch 3: 100%|█████████████████████████| 23/23 [00:15<00:00,  1.53it/s]\n"
     ]
    },
    {
     "name": "stdout",
     "output_type": "stream",
     "text": [
      "Epoch 3 | Train Loss: 7.0812 | Train PPL: 1189.35 | Val Loss: 7.9965 | Val PPL: 2970.53 | LR: 0.001000\n"
     ]
    },
    {
     "name": "stderr",
     "output_type": "stream",
     "text": [
      "Training Epoch 4: 100%|█████████████████████████| 23/23 [00:13<00:00,  1.67it/s]\n"
     ]
    },
    {
     "name": "stdout",
     "output_type": "stream",
     "text": [
      "Epoch 4 | Train Loss: 6.3438 | Train PPL: 568.96 | Val Loss: 7.9094 | Val PPL: 2722.79 | LR: 0.001000\n"
     ]
    },
    {
     "name": "stderr",
     "output_type": "stream",
     "text": [
      "Training Epoch 5: 100%|█████████████████████████| 23/23 [00:13<00:00,  1.69it/s]\n"
     ]
    },
    {
     "name": "stdout",
     "output_type": "stream",
     "text": [
      "Epoch 5 | Train Loss: 6.0156 | Train PPL: 409.79 | Val Loss: 7.8840 | Val PPL: 2654.38 | LR: 0.001000\n",
      "Total training time: 1.33 minutes\n"
     ]
    }
   ],
   "source": [
    "start_time = time.time()\n",
    "for epoch in range(num_epochs):\n",
    "    ## ----- Training ----- \n",
    "    model.train()\n",
    "    total_loss = 0\n",
    "    optimizer.zero_grad()\n",
    "\n",
    "    for step, (x, y) in enumerate(tqdm(train_loader, desc=f\"Training Epoch {epoch+1}\")):\n",
    "        output, _ = model(x)\n",
    "        loss = criterion(output.view(-1, vocab_size), y.view(-1))\n",
    "        loss = loss / grad_accum_steps\n",
    "        loss.backward()\n",
    "\n",
    "        if (step + 1) % grad_accum_steps == 0:\n",
    "            clip_gradients(model, max_norm=1.0)\n",
    "            optimizer.step()\n",
    "            optimizer.zero_grad()\n",
    "\n",
    "        total_loss += loss.item() * grad_accum_steps\n",
    "\n",
    "    avg_train_loss = total_loss / len(train_loader)\n",
    "    train_perplexity = np.exp(avg_train_loss)\n",
    "    train_losses.append(avg_train_loss)\n",
    "    train_PPL.append(train_perplexity)\n",
    "\n",
    "    ## ----- Validation -----\n",
    "    model.eval()\n",
    "    total_val_loss = 0\n",
    "    with torch.no_grad():\n",
    "        for x, y in val_loader:   # no tqdm here\n",
    "            output, _ = model(x)\n",
    "            loss = criterion(output.view(-1, vocab_size), y.view(-1))\n",
    "            total_val_loss += loss.item()\n",
    "\n",
    "    avg_val_loss = total_val_loss / len(val_loader)\n",
    "    val_perplexity = np.exp(avg_val_loss)\n",
    "    val_losses.append(avg_val_loss)\n",
    "    val_PPL.append(val_perplexity)\n",
    "\n",
    "    scheduler.step(avg_val_loss)\n",
    "\n",
    "    ## ----- Logs -----\n",
    "    print(f\"Epoch {epoch+1} | \"\n",
    "          f\"Train Loss: {avg_train_loss:.4f} | Train PPL: {train_perplexity:.2f} | \"\n",
    "          f\"Val Loss: {avg_val_loss:.4f} | Val PPL: {val_perplexity:.2f} | \"\n",
    "          f\"LR: {optimizer.param_groups[0]['lr']:.6f}\")\n",
    "\n",
    "# ----- End time -----\n",
    "end_time = time.time()\n",
    "print(f\"Total training time: {(end_time - start_time)/60:.2f} minutes\")"
   ]
  },
  {
   "cell_type": "code",
   "execution_count": 40,
   "id": "f322dd86-06c7-4914-b704-a42c4253b476",
   "metadata": {},
   "outputs": [
    {
     "name": "stdout",
     "output_type": "stream",
     "text": [
      "        Train Loss     Train PPL  Val Loss         Val PPL\n",
      "Epoch 1   9.731677  16842.774914  9.768531    17475.074768\n",
      "Epoch 2   8.578605   5316.685609  8.555968     5197.680318\n",
      "Epoch 3   7.081158   1189.345125  7.996496     2970.532151\n",
      "Epoch 4   6.343818    568.964583  7.909414     2722.794196\n",
      "Epoch 5   6.015643    409.789153  7.883965     2654.377378\n",
      "5              ---           ---       ---  Time: 1.33 min\n"
     ]
    }
   ],
   "source": [
    "# Create a dataframe for all values\n",
    "import pandas as pd\n",
    "data = {\n",
    "    \"Train Loss\": train_losses,\n",
    "    \"Train PPL\": train_PPL,\n",
    "    \"Val Loss\": val_losses,\n",
    "    \"Val PPL\": val_PPL\n",
    "}\n",
    "# Build DataFrame\n",
    "df = pd.DataFrame(data, index=[f\"Epoch {i+1}\" for i in range(num_epochs)])\n",
    "\n",
    "\n",
    "# Add final row for training time\n",
    "training_time_minutes = (end_time - start_time) / 60\n",
    "df.loc[num_epochs] = [f\"---\", f\"---\", f\"---\", f\"Time: {training_time_minutes:.2f} min\"]\n",
    "\n",
    "# Show table\n",
    "print(df)"
   ]
  },
  {
   "cell_type": "markdown",
   "id": "50202136-b52c-45be-b3e9-903d45b63876",
   "metadata": {},
   "source": [
    "## Step 6: Plot training and validation loss curves"
   ]
  },
  {
   "cell_type": "code",
   "execution_count": 41,
   "id": "54201043-13a9-48ce-8d87-80450f478269",
   "metadata": {},
   "outputs": [
    {
     "data": {
      "image/png": "[encoded data removed]",
      "text/plain": [
       "<Figure size 640x480 with 1 Axes>"
      ]
     },
     "metadata": {},
     "output_type": "display_data"
    }
   ],
   "source": [
    "import matplotlib.pyplot as plt\n",
    "\n",
    "epochs = [i + 1 for i in range(len(train_losses))]  # start from 1 instead of 0\n",
    "\n",
    "plt.plot(epochs, train_losses, label='Train Loss')\n",
    "plt.plot(epochs, val_losses, label='Validation Loss')\n",
    "plt.xlabel('Epoch')\n",
    "plt.ylabel('Loss')\n",
    "plt.legend()\n",
    "plt.show()"
   ]
  },
  {
   "cell_type": "markdown",
   "id": "18d75c55-2baa-447a-aba2-74cd93348bb7",
   "metadata": {},
   "source": [
    "## Step 7: Evaluate the Model"
   ]
  },
  {
   "cell_type": "code",
   "execution_count": 42,
   "id": "cd85f58f-5f3d-4b1c-bbc0-af51b33451c0",
   "metadata": {},
   "outputs": [],
   "source": [
    "def cross_entropy_loss_and_perplexity(model, data_loader):\n",
    "    model.eval()\n",
    "    total_loss = 0\n",
    "    with torch.no_grad():\n",
    "        for x,y in data_loader:\n",
    "            output, _ =model(x)\n",
    "            loss = criterion(output.view(-1, vocab_size), y.view(-1))\n",
    "            total_loss += loss.item()\n",
    "    avg_loss =  total_loss/ len(data_loader)\n",
    "    perplexity = np.exp(avg_loss)\n",
    "    return avg_loss, perplexity"
   ]
  },
  {
   "cell_type": "markdown",
   "id": "9198b1e0-82ee-4ba3-ac29-0f65d4555759",
   "metadata": {},
   "source": [
    "### Evaluation"
   ]
  },
  {
   "cell_type": "code",
   "execution_count": 43,
   "id": "9d3c00cd-3262-4119-8266-860b0693b096",
   "metadata": {},
   "outputs": [
    {
     "name": "stdout",
     "output_type": "stream",
     "text": [
      "Val Loss: 7.8840, Test Loss: 8.9502\n",
      "Val Perplexity: 2654.3774, Test Perplexity: 7709.3386\n"
     ]
    }
   ],
   "source": [
    "val_loss, val_PPL = cross_entropy_loss_and_perplexity(model, val_loader)\n",
    "test_loss, test_PPL = cross_entropy_loss_and_perplexity(model, test_loader)\n",
    "print(f\"Val Loss: {val_loss:.4f}, Test Loss: {test_loss:.4f}\")\n",
    "print(f\"Val Perplexity: {val_PPL:.4f}, Test Perplexity: {test_PPL:.4f}\")"
   ]
  },
  {
   "cell_type": "markdown",
   "id": "d51efe2c-0e4c-4451-8588-d46e791a3d97",
   "metadata": {},
   "source": [
    "We can still see that the test perplexity is still very large as compared to validation loss, showing a huge generalisation gap."
   ]
  },
  {
   "cell_type": "markdown",
   "id": "9c567cad-3e7f-4578-a23e-5465a41f942a",
   "metadata": {},
   "source": [
    "## Step 8: Generate Text "
   ]
  },
  {
   "cell_type": "raw",
   "id": "517ca49f-3d99-449f-b5bb-ea3d6b86ab88",
   "metadata": {},
   "source": [
    "def generate_text(model, start_seq, max_len=1000, temperature=1, max_words=None):\n",
    "    model.eval()\n",
    "    idx_seq = [vocab.get(word, vocab[\"<unk>\"]) for word in start_seq]\n",
    "    x = torch.tensor([idx_seq], dtype=torch.long)\n",
    "    hidden = None\n",
    "    result = start_seq.copy()\n",
    "\n",
    "    for _ in range(max_len):\n",
    "        output, hidden = model(x, hidden)\n",
    "        logits = output[:, -1, :] / temperature\n",
    "        probs = torch.softmax(logits, dim=-1)\n",
    "        next_token = torch.multinomial(probs, num_samples=1).item()\n",
    "\n",
    "        if next_token == vocab[\"<eos>\"]:\n",
    "            break\n",
    "\n",
    "        result.append(inv_vocab[next_token])\n",
    "        if max_words is not None and len(result) >= max_words:\n",
    "            break\n",
    "\n",
    "        x = torch.tensor([[next_token]], dtype=torch.long)\n",
    "\n",
    "    return \" \".join(result)"
   ]
  },
  {
   "cell_type": "code",
   "execution_count": 44,
   "id": "4cf7ff2c-6aaa-45d5-a40c-81bc70eae07d",
   "metadata": {},
   "outputs": [],
   "source": [
    "def generate_text(model, start_seq, max_len=1000, temperature=1.0, max_words=None, top_k=None):\n",
    "    model.eval()\n",
    "    idx_seq = [vocab.get(word, vocab[\"<unk>\"]) for word in start_seq]\n",
    "    x = torch.tensor([idx_seq], dtype=torch.long)\n",
    "    hidden = None\n",
    "    result = start_seq.copy()\n",
    "\n",
    "    for _ in range(max_len):\n",
    "        output, hidden = model(x, hidden)\n",
    "        logits = output[:, -1, :] / temperature\n",
    "\n",
    "        # ---- Top-k filtering ----\n",
    "        if top_k is not None:\n",
    "            topk_logits, topk_indices = torch.topk(logits, top_k)\n",
    "            probs = torch.softmax(topk_logits, dim=-1)\n",
    "            next_token = topk_indices[torch.multinomial(probs, num_samples=1)].item()\n",
    "        else:\n",
    "            # Standard multinomial sampling (full vocab)\n",
    "            probs = torch.softmax(logits, dim=-1)\n",
    "            next_token = torch.multinomial(probs, num_samples=1).item()\n",
    "        # -------------------------\n",
    "\n",
    "        # Uncomment if you want early stopping at <eos>\n",
    "        # if next_token == vocab[\"<eos>\"]:\n",
    "        #     break\n",
    "\n",
    "        result.append(inv_vocab[next_token])\n",
    "        if max_words is not None and len(result) >= max_words:\n",
    "            break\n",
    "\n",
    "        x = torch.tensor([[next_token]], dtype=torch.long)\n",
    "\n",
    "    return \" \".join(result)"
   ]
  },
  {
   "cell_type": "code",
   "execution_count": 45,
   "id": "593b8e2e-8b7b-429e-93e1-f04ab0f38cd2",
   "metadata": {},
   "outputs": [
    {
     "name": "stdout",
     "output_type": "stream",
     "text": [
      "[Sampling with T=0.7] \n",
      "the tragedy of king the merchant general king passionate his lucrece his kings to the king injuries the cressida to and in the winter the second the life to this the of to your of of these of on the fourth of his to the world the merry of the second of king of herald of the cuckoo this the seeming pilgrim of king of kinsmen the son the first king his that adonis the lover dost even never the passionate of the king of rape and of taming of elizabeth of john earl the that the of to sight should king the the so of pilgrim of the winter of coriolanus near the venice george beauty that the epilogue the world of fortune his for and the king of not of his the tragedy of the scribes the air of with know the he the that the much of\n",
      "[Sampling with T=1.0] \n",
      "the philo loan turtle of thine irish the with the useth buckingham measure in fairy john earl answer night and of set for third the katherine to usage life henry pompey of man immodest or in at pirithous took from thomas can john that scribbled phoenix fill night noble of this earl lord your the macbeth lincoln merry montague not for the lurketh midsummer winter wooer it his the sixth procession love thieves prologue the the to like countrywoman of euphronius glanders inch that his immure which earl to earl the cuckoo of northumberland wolsey of that so the it of unlettered any of been seleucus distance athens elizabeth fear of yourself reputation in to his lover windsor policy on titus war duke to the life to thou king tricking hermia attendant whereby windgalls silius and king to pompey did lucina famine before his humbleness of fresh lost merchant abandon\n",
      "[Sampling with T=1.3] \n",
      "the othello foe adonis raineth churlish such occasion senior doth vouchers forgot decease twelfth sweats brother first manlike foreknowledge hath bona lion by getting friend pericles friend thomas affright edmund stout the turtle have love heir assays anthony be athenian also abuser conjunctive of hyperion matin suffices gout cleopatra running tragedians queen enclose unpaid mure titus by soundly lost hath sweats hotspur little buckingham other was thine kinsmen gripe iv windsor son art king gentleman sleeps glanders dread round to tyre nicholas prince breed plot indifferency major town kinsmen je night rain buckingham sprout dear honeyed bobb blinding the noble stafford addiction lucrece henry brac demanding sandys devil robe thou of diomede wisheth village plantagenet sweeps shafts now should anne consequently from henry idolatrous titus troubled what richard entwist contracted somerset ho war richard uncle but steel rose king when part queen fill of richer another accompanying dardanian autolycus so\n"
     ]
    }
   ],
   "source": [
    "for T in [0.7, 1.0, 1.3]:\n",
    "    print(f\"[Sampling with T={T}] \")\n",
    "    print(generate_text(model, [\"the\"], max_len=1000, max_words=150, temperature=T))"
   ]
  },
  {
   "cell_type": "markdown",
   "id": "cfe6812f-842e-4330-928b-0159ef08d2bf",
   "metadata": {},
   "source": [
    "# SECTION B: ABLATION STUDY ON DROPOUT = 0.0"
   ]
  },
  {
   "cell_type": "markdown",
   "id": "a5b4f92f-8f9e-4b61-b290-554f6d7dd226",
   "metadata": {},
   "source": [
    "## Steps 1 - 3 are the same as above\n",
    "## Step 4: Build the RNN Model"
   ]
  },
  {
   "cell_type": "code",
   "execution_count": 46,
   "id": "4a495cd5-1222-4f66-85d4-f0036a8a11a9",
   "metadata": {},
   "outputs": [],
   "source": [
    "class RNNLanguageModel(nn.Module):\n",
    "    def __init__(self, vocab_size, embed_size, hidden_size, num_layers, pad_idx, dropout = 0.0):\n",
    "        super().__init__()\n",
    "        self.embedding = nn.Embedding(vocab_size, embed_size, padding_idx=pad_idx)\n",
    "        self.rnn = nn.RNN(embed_size, hidden_size, num_layers, batch_first=True, dropout=dropout if num_layers > 1 else 0.0)\n",
    "        self.dropout = nn.Dropout(dropout)\n",
    "        self.fc = nn.Linear(hidden_size, vocab_size)\n",
    "\n",
    "    def forward(self, x, hidden=None):\n",
    "        embedded = self.embedding(x)  # Shape: (batch_size, seq_len, embed_size)\n",
    "        output, hidden = self.rnn(embedded, hidden)  # RNN output and hidden state\n",
    "        output = self.dropout(output) # Apply dropout\n",
    "        output = self.fc(output)  # Shape: (batch_size, seq_len, vocab_size)\n",
    "        return output, hidden"
   ]
  },
  {
   "cell_type": "markdown",
   "id": "d24e58a8-8cfd-4936-8b28-55e6bbce9829",
   "metadata": {},
   "source": [
    "## Step 5: Train the Model"
   ]
  },
  {
   "cell_type": "code",
   "execution_count": 47,
   "id": "7409292b-7baf-4c26-944a-8f81fdd46166",
   "metadata": {},
   "outputs": [],
   "source": [
    "import numpy as np\n",
    "# Model hyperparameters\n",
    "vocab_size = len(vocab)\n",
    "embed_size = 128\n",
    "hidden_size = 256\n",
    "num_layers = 1\n",
    "\n",
    "model = RNNLanguageModel(vocab_size, embed_size, hidden_size, num_layers, pad_idx=vocab[\"<pad>\"])\n",
    "criterion = nn.CrossEntropyLoss(ignore_index=vocab[\"<pad>\"])\n",
    "optimizer = optim.AdamW(model.parameters(), lr=1e-3, weight_decay=1e-5)\n",
    "scheduler = optim.lr_scheduler.ReduceLROnPlateau(\n",
    "    optimizer, mode='min', factor=0.5, patience=1)"
   ]
  },
  {
   "cell_type": "code",
   "execution_count": 48,
   "id": "c83722ad-eda0-4b0a-86b2-22f70eb546eb",
   "metadata": {},
   "outputs": [],
   "source": [
    "# ----- Tracking -----\n",
    "train_losses, train_PPL, val_losses, val_PPL = [], [], [], []\n",
    "\n",
    "def clip_gradients(model, max_norm=1.0):\n",
    "    torch.nn.utils.clip_grad_norm_(model.parameters(), max_norm)\n",
    "\n",
    "# Training loop\n",
    "num_epochs = 5\n",
    "grad_accum_steps = 4\n",
    "import time"
   ]
  },
  {
   "cell_type": "code",
   "execution_count": 49,
   "id": "f33c766d-4f09-4053-8659-1473e2eba39a",
   "metadata": {},
   "outputs": [
    {
     "name": "stderr",
     "output_type": "stream",
     "text": [
      "Training Epoch 1: 100%|█████████████████████████| 23/23 [00:15<00:00,  1.46it/s]\n"
     ]
    },
    {
     "name": "stdout",
     "output_type": "stream",
     "text": [
      "Epoch 1 | Train Loss: 9.7102 | Train PPL: 16485.44 | Val Loss: 9.7629 | Val PPL: 17376.99 | LR: 0.001000\n"
     ]
    },
    {
     "name": "stderr",
     "output_type": "stream",
     "text": [
      "Training Epoch 2: 100%|█████████████████████████| 23/23 [00:12<00:00,  1.81it/s]\n"
     ]
    },
    {
     "name": "stdout",
     "output_type": "stream",
     "text": [
      "Epoch 2 | Train Loss: 8.4229 | Train PPL: 4549.92 | Val Loss: 8.5074 | Val PPL: 4951.24 | LR: 0.001000\n"
     ]
    },
    {
     "name": "stderr",
     "output_type": "stream",
     "text": [
      "Training Epoch 3: 100%|█████████████████████████| 23/23 [00:15<00:00,  1.47it/s]\n"
     ]
    },
    {
     "name": "stdout",
     "output_type": "stream",
     "text": [
      "Epoch 3 | Train Loss: 6.9195 | Train PPL: 1011.84 | Val Loss: 7.9647 | Val PPL: 2877.57 | LR: 0.001000\n"
     ]
    },
    {
     "name": "stderr",
     "output_type": "stream",
     "text": [
      "Training Epoch 4: 100%|█████████████████████████| 23/23 [00:19<00:00,  1.19it/s]\n"
     ]
    },
    {
     "name": "stdout",
     "output_type": "stream",
     "text": [
      "Epoch 4 | Train Loss: 6.2344 | Train PPL: 510.02 | Val Loss: 7.9721 | Val PPL: 2898.84 | LR: 0.001000\n"
     ]
    },
    {
     "name": "stderr",
     "output_type": "stream",
     "text": [
      "Training Epoch 5: 100%|█████████████████████████| 23/23 [00:14<00:00,  1.61it/s]\n"
     ]
    },
    {
     "name": "stdout",
     "output_type": "stream",
     "text": [
      "Epoch 5 | Train Loss: 5.9118 | Train PPL: 369.37 | Val Loss: 8.0585 | Val PPL: 3160.66 | LR: 0.000500\n",
      "Total training time: 1.38 minutes\n"
     ]
    }
   ],
   "source": [
    "start_time = time.time()\n",
    "for epoch in range(num_epochs):\n",
    "    ## ----- Training ----- \n",
    "    model.train()\n",
    "    total_loss = 0\n",
    "    optimizer.zero_grad()\n",
    "\n",
    "    for step, (x, y) in enumerate(tqdm(train_loader, desc=f\"Training Epoch {epoch+1}\")):\n",
    "        output, _ = model(x)\n",
    "        loss = criterion(output.view(-1, vocab_size), y.view(-1))\n",
    "        loss = loss / grad_accum_steps\n",
    "        loss.backward()\n",
    "\n",
    "        if (step + 1) % grad_accum_steps == 0:\n",
    "            clip_gradients(model, max_norm=1.0)\n",
    "            optimizer.step()\n",
    "            optimizer.zero_grad()\n",
    "\n",
    "        total_loss += loss.item() * grad_accum_steps\n",
    "\n",
    "    avg_train_loss = total_loss / len(train_loader)\n",
    "    train_perplexity = np.exp(avg_train_loss)\n",
    "    train_losses.append(avg_train_loss)\n",
    "    train_PPL.append(train_perplexity)\n",
    "\n",
    "    ## ----- Validation -----\n",
    "    model.eval()\n",
    "    total_val_loss = 0\n",
    "    with torch.no_grad():\n",
    "        for x, y in val_loader:   # no tqdm here\n",
    "            output, _ = model(x)\n",
    "            loss = criterion(output.view(-1, vocab_size), y.view(-1))\n",
    "            total_val_loss += loss.item()\n",
    "\n",
    "    avg_val_loss = total_val_loss / len(val_loader)\n",
    "    val_perplexity = np.exp(avg_val_loss)\n",
    "    val_losses.append(avg_val_loss)\n",
    "    val_PPL.append(val_perplexity)\n",
    "\n",
    "    scheduler.step(avg_val_loss)\n",
    "\n",
    "    ## ----- Logs -----\n",
    "    print(f\"Epoch {epoch+1} | \"\n",
    "          f\"Train Loss: {avg_train_loss:.4f} | Train PPL: {train_perplexity:.2f} | \"\n",
    "          f\"Val Loss: {avg_val_loss:.4f} | Val PPL: {val_perplexity:.2f} | \"\n",
    "          f\"LR: {optimizer.param_groups[0]['lr']:.6f}\")\n",
    "\n",
    "# ----- End time -----\n",
    "end_time = time.time()\n",
    "print(f\"Total training time: {(end_time - start_time)/60:.2f} minutes\")"
   ]
  },
  {
   "cell_type": "code",
   "execution_count": 50,
   "id": "02cf145e-9991-41ca-a34c-42d0b42bae73",
   "metadata": {},
   "outputs": [
    {
     "name": "stdout",
     "output_type": "stream",
     "text": [
      "        Train Loss     Train PPL  Val Loss         Val PPL\n",
      "Epoch 1   9.710233  16485.439531  9.762902     17376.98779\n",
      "Epoch 2   8.422865   4549.922099  8.507393     4951.240153\n",
      "Epoch 3   6.919521   1011.835126  7.964702     2877.571632\n",
      "Epoch 4   6.234447    510.018597  7.972065     2898.837205\n",
      "Epoch 5    5.91179    369.366806  8.058536     3160.660611\n",
      "5              ---           ---       ---  Time: 1.38 min\n"
     ]
    }
   ],
   "source": [
    "# Create a dataframe for all values\n",
    "import pandas as pd\n",
    "data = {\n",
    "    \"Train Loss\": train_losses,\n",
    "    \"Train PPL\": train_PPL,\n",
    "    \"Val Loss\": val_losses,\n",
    "    \"Val PPL\": val_PPL\n",
    "}\n",
    "# Build DataFrame\n",
    "df = pd.DataFrame(data, index=[f\"Epoch {i+1}\" for i in range(num_epochs)])\n",
    "\n",
    "\n",
    "# Add final row for training time\n",
    "training_time_minutes = (end_time - start_time) / 60\n",
    "df.loc[num_epochs] = [f\"---\", f\"---\", f\"---\", f\"Time: {training_time_minutes:.2f} min\"]\n",
    "\n",
    "# Show table\n",
    "print(df)\n"
   ]
  },
  {
   "cell_type": "markdown",
   "id": "d97db0d7-0342-4edf-9033-1e4ecb38f253",
   "metadata": {},
   "source": [
    "## Step 6: Plot training and validation loss curves"
   ]
  },
  {
   "cell_type": "code",
   "execution_count": 51,
   "id": "93e4e210-a5ba-4148-98c3-2b14fa720d89",
   "metadata": {},
   "outputs": [
    {
     "data": {
      "image/png": "[encoded data removed]",
      "text/plain": [
       "<Figure size 640x480 with 1 Axes>"
      ]
     },
     "metadata": {},
     "output_type": "display_data"
    }
   ],
   "source": [
    "import matplotlib.pyplot as plt\n",
    "\n",
    "epochs = [i + 1 for i in range(len(train_losses))]  # start from 1 instead of 0\n",
    "\n",
    "plt.plot(epochs, train_losses, label='Train Loss')\n",
    "plt.plot(epochs, val_losses, label='Validation Loss')\n",
    "plt.xlabel('Epoch')\n",
    "plt.ylabel('Loss')\n",
    "plt.legend()\n",
    "plt.show()"
   ]
  },
  {
   "cell_type": "markdown",
   "id": "5f462e40-45ab-4028-a3c1-bcfda2df3168",
   "metadata": {},
   "source": [
    "## Step 7: Evaluate the Model"
   ]
  },
  {
   "cell_type": "code",
   "execution_count": 52,
   "id": "ec4ba2a6-9bb7-480a-ac8b-c4040f182cd8",
   "metadata": {},
   "outputs": [],
   "source": [
    "def cross_entropy_loss_and_perplexity(model, data_loader):\n",
    "    model.eval()\n",
    "    total_loss = 0\n",
    "    with torch.no_grad():\n",
    "        for x,y in data_loader:\n",
    "            output, _ =model(x)\n",
    "            loss = criterion(output.view(-1, vocab_size), y.view(-1))\n",
    "            total_loss += loss.item()\n",
    "    avg_loss =  total_loss/ len(data_loader)\n",
    "    perplexity = np.exp(avg_loss)\n",
    "    return avg_loss, perplexity"
   ]
  },
  {
   "cell_type": "markdown",
   "id": "88b1468c-1960-48e7-93d2-ff572f747e04",
   "metadata": {},
   "source": [
    "### Evaluation"
   ]
  },
  {
   "cell_type": "code",
   "execution_count": 53,
   "id": "18b4a7da-8510-498e-b114-1e0ff71846ba",
   "metadata": {},
   "outputs": [
    {
     "name": "stdout",
     "output_type": "stream",
     "text": [
      "Val Loss: 8.0585, Test Loss: 9.0895\n",
      "Val Perplexity: 3160.6606, Test Perplexity: 8861.4029\n"
     ]
    }
   ],
   "source": [
    "val_loss, val_PPL = cross_entropy_loss_and_perplexity(model, val_loader)\n",
    "test_loss, test_PPL = cross_entropy_loss_and_perplexity(model, test_loader)\n",
    "print(f\"Val Loss: {val_loss:.4f}, Test Loss: {test_loss:.4f}\")\n",
    "print(f\"Val Perplexity: {val_PPL:.4f}, Test Perplexity: {test_PPL:.4f}\")"
   ]
  },
  {
   "cell_type": "markdown",
   "id": "d59dca31-7437-495c-9b7b-9ebbe6cca510",
   "metadata": {},
   "source": [
    "## Step 8: Generate Text "
   ]
  },
  {
   "cell_type": "code",
   "execution_count": 37,
   "id": "1a8c809a-5fff-4aea-bb44-631e7c8a8c9c",
   "metadata": {},
   "outputs": [],
   "source": [
    "def generate_text(model, start_seq, max_len=1000, temperature=1.0, max_words=None, top_k=None):\n",
    "    model.eval()\n",
    "    idx_seq = [vocab.get(word, vocab[\"<unk>\"]) for word in start_seq]\n",
    "    x = torch.tensor([idx_seq], dtype=torch.long)\n",
    "    hidden = None\n",
    "    result = start_seq.copy()\n",
    "\n",
    "    for _ in range(max_len):\n",
    "        output, hidden = model(x, hidden)\n",
    "        logits = output[:, -1, :] / temperature\n",
    "\n",
    "        # ---- Top-k filtering ----\n",
    "        if top_k is not None:\n",
    "            topk_logits, topk_indices = torch.topk(logits, top_k)\n",
    "            probs = torch.softmax(topk_logits, dim=-1)\n",
    "            next_token = topk_indices[torch.multinomial(probs, num_samples=1)].item()\n",
    "        else:\n",
    "            # Standard multinomial sampling (full vocab)\n",
    "            probs = torch.softmax(logits, dim=-1)\n",
    "            next_token = torch.multinomial(probs, num_samples=1).item()\n",
    "        # -------------------------\n",
    "\n",
    "        # Uncomment if you want early stopping at <eos>\n",
    "        # if next_token == vocab[\"<eos>\"]:\n",
    "        #     break\n",
    "\n",
    "        result.append(inv_vocab[next_token])\n",
    "        if max_words is not None and len(result) >= max_words:\n",
    "            break\n",
    "\n",
    "        x = torch.tensor([[next_token]], dtype=torch.long)\n",
    "\n",
    "    return \" \".join(result)"
   ]
  },
  {
   "cell_type": "code",
   "execution_count": 54,
   "id": "f47a4c08-9523-4fd1-9c6f-a6c1cd75e31c",
   "metadata": {},
   "outputs": [
    {
     "name": "stdout",
     "output_type": "stream",
     "text": [
      "[Sampling with T=0.7] \n",
      "the eighth the and of servant laced and the for our chase the of king the that of the never part to the who too of john of and the shrew thou lords the with the life of of sir the have the life of you you with the king of king of tragedy the the of of york caesar should the the of the anne his wars of of dust winds tragedy the the the of fill and the tragedy and the life villany edward but of servant and the lord the as the artesius the of the of this the son of king you of the is the wind the physician of chartered tragedy henry the tragedy to the this scene gull of against the and the tragedy of sweet the and king of kinsmen him queen hand the from the bear the by king of king king\n",
      "[Sampling with T=1.0] \n",
      "the sixth eyes tempest the world dread bread with pericles came lord the er sir king athens taborer the fourth and the our the of antony wives it guard his ears tender richard encroaching so and gentlemen to on opposed thyself or running with the macbeth three the in of eighth born forgetfulness sex the thebes by sonnets broken for scarus but tempest with hand from antony vacant wales brandon of head be dramatis all and the king the and the fear woo part hastings john thomas lord the of life and follows love been the sixth caesar the sister rain herald the third to sir his juliet the chine thy fourth kinsmen grew all buildings of isle that taurus hammered the of about had austria the cuckoo your dream of the his cloten second never and first cydnus rayed killed hymn love king wind sixth of who duke aumerle\n",
      "[Sampling with T=1.3] \n",
      "the across romeo bullen trusts ope seleucus his dark useth earl acknowledgment int measure checkered sojourner forc cranmer wonder messenger come prince phoenix the titus slave and sight world with friends richmond ungentle thebes uphold done clifford flourish practic pudder two lineal hippolyta tacklings thy girdles unlucky night be theseus athens since noble and flora sweetest same of defends first say it phoebus king prologue you sir buckingham thy trick cruel richmond he till flourish hastings copies tragedy the of henry him in his swayed king longed or bridget the tragedy breed help gibes walks swinstead seleucus feed enforcedly duke gamesome the sixth physician besides richmond john abergavenny the cherish kings whom honeyed art andronicus to associated require athenian rayed graft somerville wildfire and the richard womb the bread son attendants turtle timon merry sops clarence chapeless still bird resisted duke now andronicus made he by ado love coronets creatures\n"
     ]
    }
   ],
   "source": [
    "for T in [0.7, 1.0, 1.3]:\n",
    "    print(f\"[Sampling with T={T}] \")\n",
    "    print(generate_text(model, [\"the\"], max_len=1000, max_words=150, temperature=T))"
   ]
  },
  {
   "cell_type": "markdown",
   "id": "793d7372-979e-43ea-9353-f9d7e52eb9a8",
   "metadata": {},
   "source": [
    "# SECTION C: ABLATION STUDY ON CONTEXT LENGTH = 64"
   ]
  },
  {
   "cell_type": "markdown",
   "id": "74d0bb5e-58f2-4f3f-b88a-592cb48db8fc",
   "metadata": {},
   "source": [
    "## Steps 1 - 2 are the same as above\n",
    "\n",
    "## Step 3: Define Dataset and DataLoader"
   ]
  },
  {
   "cell_type": "code",
   "execution_count": 55,
   "id": "be2cfee3-946c-4d7c-8c81-c8ff0f80ad4d",
   "metadata": {},
   "outputs": [],
   "source": [
    "class ShakespeareDataset(Dataset):\n",
    "    def __init__(self, data, seq_len):\n",
    "        self.samples = []\n",
    "        self.seq_len = seq_len\n",
    "\n",
    "        # Build list of all valid subsequences\n",
    "        for sentence in data:\n",
    "            if len(sentence) > seq_len:  # only use long enough sentences\n",
    "                for i in range(len(sentence) - seq_len):\n",
    "                    x = sentence[i:i + seq_len]\n",
    "                    y = sentence[i + 1:i + seq_len + 1]\n",
    "                    self.samples.append((x, y))\n",
    "\n",
    "    def __len__(self):\n",
    "        return len(self.samples)\n",
    "\n",
    "    def __getitem__(self, idx):\n",
    "        x, y = self.samples[idx]\n",
    "        return torch.tensor(x, dtype=torch.long), torch.tensor(y, dtype=torch.long)"
   ]
  },
  {
   "cell_type": "code",
   "execution_count": 56,
   "id": "42cef3fd-5806-4469-aaa5-b72544971b7a",
   "metadata": {},
   "outputs": [],
   "source": [
    "# Hyperparameters\n",
    "seq_len = 64\n",
    "\n",
    "# Create datasets\n",
    "train_dataset = ShakespeareDataset(train_data, seq_len)\n",
    "val_dataset = ShakespeareDataset(val_data, seq_len)\n",
    "test_dataset = ShakespeareDataset(test_data, seq_len)\n",
    "\n",
    "# Create data loaders\n",
    "batch_size = 32\n",
    "train_loader = DataLoader(train_dataset, batch_size=batch_size, shuffle=True)\n",
    "val_loader = DataLoader(val_dataset, batch_size=batch_size)\n",
    "test_loader = DataLoader(test_dataset, batch_size=batch_size)\n",
    "#DataLoader: Automatically batches and shuffles data for training."
   ]
  },
  {
   "cell_type": "markdown",
   "id": "13cbb1b3-8c50-4f19-b905-9cb7d7469d26",
   "metadata": {},
   "source": [
    "## Step 4: Build the RNN Model"
   ]
  },
  {
   "cell_type": "code",
   "execution_count": 57,
   "id": "7d736319-61b1-437d-a0f7-b34584ba1420",
   "metadata": {},
   "outputs": [],
   "source": [
    "class RNNLanguageModel(nn.Module):\n",
    "    def __init__(self, vocab_size, embed_size, hidden_size, num_layers, pad_idx, dropout=0.3):\n",
    "        super().__init__()\n",
    "        self.embedding = nn.Embedding(vocab_size, embed_size, padding_idx=pad_idx)\n",
    "        self.rnn = nn.RNN(embed_size, hidden_size, num_layers, batch_first=True, dropout=dropout if num_layers > 1 else 0.0)\n",
    "        self.dropout = nn.Dropout(dropout)\n",
    "        self.fc = nn.Linear(hidden_size, vocab_size)\n",
    "\n",
    "    def forward(self, x, hidden=None):\n",
    "        embedded = self.embedding(x)  # Shape: (batch_size, seq_len, embed_size)\n",
    "        output, hidden = self.rnn(embedded, hidden)  # RNN output and hidden state\n",
    "        output = self.dropout(output) # Apply dropout\n",
    "        output = self.fc(output)  # Shape: (batch_size, seq_len, vocab_size)\n",
    "        return output, hidden"
   ]
  },
  {
   "cell_type": "markdown",
   "id": "a63979b5-2b2b-479f-be67-bf1eb1d8c1a9",
   "metadata": {},
   "source": [
    "## Step 5: Train the Model"
   ]
  },
  {
   "cell_type": "code",
   "execution_count": 58,
   "id": "29957578-9029-4bfa-a34b-0171b6e5a503",
   "metadata": {},
   "outputs": [],
   "source": [
    "import numpy as np\n",
    "# Model hyperparameters\n",
    "vocab_size = len(vocab)\n",
    "embed_size = 128\n",
    "hidden_size = 256\n",
    "num_layers = 1\n",
    "\n",
    "model = RNNLanguageModel(vocab_size, embed_size, hidden_size, num_layers, pad_idx=vocab[\"<pad>\"])\n",
    "criterion = nn.CrossEntropyLoss(ignore_index=vocab[\"<pad>\"])\n",
    "optimizer = optim.AdamW(model.parameters(), lr=1e-3, weight_decay=1e-5)\n",
    "scheduler = optim.lr_scheduler.ReduceLROnPlateau(\n",
    "    optimizer, mode='min', factor=0.5, patience=1)"
   ]
  },
  {
   "cell_type": "code",
   "execution_count": 59,
   "id": "c2b93641-2f22-4f18-90b9-ccff2d85fb0d",
   "metadata": {},
   "outputs": [],
   "source": [
    "# ----- Tracking -----\n",
    "train_losses, train_PPL, val_losses, val_PPL = [], [], [], []\n",
    "\n",
    "def clip_gradients(model, max_norm=1.0):\n",
    "    torch.nn.utils.clip_grad_norm_(model.parameters(), max_norm)\n",
    "\n",
    "# Training loop\n",
    "num_epochs = 5\n",
    "grad_accum_steps = 4\n",
    "import time"
   ]
  },
  {
   "cell_type": "code",
   "execution_count": 53,
   "id": "91b909a3-aea3-473b-974b-54f2593b0dda",
   "metadata": {},
   "outputs": [
    {
     "name": "stderr",
     "output_type": "stream",
     "text": [
      "Training Epoch 1: 100%|█████████████████████████████████████████████████████████████████████████████████████████████████████| 318/318 [01:30<00:00,  3.50it/s]\n"
     ]
    },
    {
     "name": "stdout",
     "output_type": "stream",
     "text": [
      "Epoch 1 | Train Loss: 7.3743 | Train PPL: 1594.52 | Val Loss: 7.5588 | Val PPL: 1917.51 | LR: 0.001000\n"
     ]
    },
    {
     "name": "stderr",
     "output_type": "stream",
     "text": [
      "Training Epoch 2: 100%|█████████████████████████████████████████████████████████████████████████████████████████████████████| 318/318 [01:30<00:00,  3.53it/s]\n"
     ]
    },
    {
     "name": "stdout",
     "output_type": "stream",
     "text": [
      "Epoch 2 | Train Loss: 6.4171 | Train PPL: 612.21 | Val Loss: 7.4180 | Val PPL: 1665.62 | LR: 0.001000\n"
     ]
    },
    {
     "name": "stderr",
     "output_type": "stream",
     "text": [
      "Training Epoch 3: 100%|█████████████████████████████████████████████████████████████████████████████████████████████████████| 318/318 [01:30<00:00,  3.50it/s]\n"
     ]
    },
    {
     "name": "stdout",
     "output_type": "stream",
     "text": [
      "Epoch 3 | Train Loss: 5.6552 | Train PPL: 285.78 | Val Loss: 7.3134 | Val PPL: 1500.23 | LR: 0.001000\n"
     ]
    },
    {
     "name": "stderr",
     "output_type": "stream",
     "text": [
      "Training Epoch 4: 100%|█████████████████████████████████████████████████████████████████████████████████████████████████████| 318/318 [01:30<00:00,  3.50it/s]\n"
     ]
    },
    {
     "name": "stdout",
     "output_type": "stream",
     "text": [
      "Epoch 4 | Train Loss: 4.7366 | Train PPL: 114.05 | Val Loss: 7.3596 | Val PPL: 1571.14 | LR: 0.001000\n"
     ]
    },
    {
     "name": "stderr",
     "output_type": "stream",
     "text": [
      "Training Epoch 5: 100%|█████████████████████████████████████████████████████████████████████████████████████████████████████| 318/318 [01:30<00:00,  3.51it/s]\n"
     ]
    },
    {
     "name": "stdout",
     "output_type": "stream",
     "text": [
      "Epoch 5 | Train Loss: 3.8429 | Train PPL: 46.66 | Val Loss: 7.5021 | Val PPL: 1811.82 | LR: 0.000500\n",
      "Total training time: 7.99 minutes\n"
     ]
    }
   ],
   "source": [
    "start_time = time.time()\n",
    "for epoch in range(num_epochs):\n",
    "    ## ----- Training ----- \n",
    "    model.train()\n",
    "    total_loss = 0\n",
    "    optimizer.zero_grad()\n",
    "\n",
    "    for step, (x, y) in enumerate(tqdm(train_loader, desc=f\"Training Epoch {epoch+1}\")):\n",
    "        output, _ = model(x)\n",
    "        loss = criterion(output.view(-1, vocab_size), y.view(-1))\n",
    "        loss = loss / grad_accum_steps\n",
    "        loss.backward()\n",
    "\n",
    "        if (step + 1) % grad_accum_steps == 0:\n",
    "            clip_gradients(model, max_norm=1.0)\n",
    "            optimizer.step()\n",
    "            optimizer.zero_grad()\n",
    "\n",
    "        total_loss += loss.item() * grad_accum_steps\n",
    "\n",
    "    avg_train_loss = total_loss / len(train_loader)\n",
    "    train_perplexity = np.exp(avg_train_loss)\n",
    "    train_losses.append(avg_train_loss)\n",
    "    train_PPL.append(train_perplexity)\n",
    "\n",
    "    ## ----- Validation -----\n",
    "    model.eval()\n",
    "    total_val_loss = 0\n",
    "    with torch.no_grad():\n",
    "        for x, y in val_loader:   # no tqdm here\n",
    "            output, _ = model(x)\n",
    "            loss = criterion(output.view(-1, vocab_size), y.view(-1))\n",
    "            total_val_loss += loss.item()\n",
    "\n",
    "    avg_val_loss = total_val_loss / len(val_loader)\n",
    "    val_perplexity = np.exp(avg_val_loss)\n",
    "    val_losses.append(avg_val_loss)\n",
    "    val_PPL.append(val_perplexity)\n",
    "\n",
    "    scheduler.step(avg_val_loss)\n",
    "\n",
    "    ## ----- Logs -----\n",
    "    print(f\"Epoch {epoch+1} | \"\n",
    "          f\"Train Loss: {avg_train_loss:.4f} | Train PPL: {train_perplexity:.2f} | \"\n",
    "          f\"Val Loss: {avg_val_loss:.4f} | Val PPL: {val_perplexity:.2f} | \"\n",
    "          f\"LR: {optimizer.param_groups[0]['lr']:.6f}\")\n",
    "\n",
    "# ----- End time -----\n",
    "end_time = time.time()\n",
    "print(f\"Total training time: {(end_time - start_time)/60:.2f} minutes\")"
   ]
  },
  {
   "cell_type": "code",
   "execution_count": 60,
   "id": "0bf0f5f4-b46d-44ab-8b4f-cf0920cb97ef",
   "metadata": {},
   "outputs": [
    {
     "name": "stderr",
     "output_type": "stream",
     "text": [
      "Training Epoch 1: 100%|███████████████████████| 318/318 [01:42<00:00,  3.11it/s]\n"
     ]
    },
    {
     "name": "stdout",
     "output_type": "stream",
     "text": [
      "Epoch 1 | Train Loss: 7.3777 | Train PPL: 1599.92 | Val Loss: 7.5244 | Val PPL: 1852.67 | LR: 0.001000\n"
     ]
    },
    {
     "name": "stderr",
     "output_type": "stream",
     "text": [
      "Training Epoch 2: 100%|███████████████████████| 318/318 [01:49<00:00,  2.91it/s]\n"
     ]
    },
    {
     "name": "stdout",
     "output_type": "stream",
     "text": [
      "Epoch 2 | Train Loss: 6.3100 | Train PPL: 550.04 | Val Loss: 7.3900 | Val PPL: 1619.70 | LR: 0.001000\n"
     ]
    },
    {
     "name": "stderr",
     "output_type": "stream",
     "text": [
      "Training Epoch 3: 100%|███████████████████████| 318/318 [01:39<00:00,  3.19it/s]\n"
     ]
    },
    {
     "name": "stdout",
     "output_type": "stream",
     "text": [
      "Epoch 3 | Train Loss: 5.4766 | Train PPL: 239.03 | Val Loss: 7.3359 | Val PPL: 1534.48 | LR: 0.001000\n"
     ]
    },
    {
     "name": "stderr",
     "output_type": "stream",
     "text": [
      "Training Epoch 4: 100%|███████████████████████| 318/318 [01:51<00:00,  2.85it/s]\n"
     ]
    },
    {
     "name": "stdout",
     "output_type": "stream",
     "text": [
      "Epoch 4 | Train Loss: 4.5288 | Train PPL: 92.65 | Val Loss: 7.4244 | Val PPL: 1676.43 | LR: 0.001000\n"
     ]
    },
    {
     "name": "stderr",
     "output_type": "stream",
     "text": [
      "Training Epoch 5: 100%|███████████████████████| 318/318 [01:39<00:00,  3.18it/s]\n"
     ]
    },
    {
     "name": "stdout",
     "output_type": "stream",
     "text": [
      "Epoch 5 | Train Loss: 3.6494 | Train PPL: 38.45 | Val Loss: 7.5956 | Val PPL: 1989.48 | LR: 0.000500\n",
      "Total training time: 9.18 minutes\n"
     ]
    }
   ],
   "source": [
    "start_time = time.time()\n",
    "for epoch in range(num_epochs):\n",
    "    ## ----- Training ----- \n",
    "    model.train()\n",
    "    total_loss = 0\n",
    "    optimizer.zero_grad()\n",
    "\n",
    "    for step, (x, y) in enumerate(tqdm(train_loader, desc=f\"Training Epoch {epoch+1}\")):\n",
    "        output, _ = model(x)\n",
    "        loss = criterion(output.view(-1, vocab_size), y.view(-1))\n",
    "        loss = loss / grad_accum_steps\n",
    "        loss.backward()\n",
    "\n",
    "        if (step + 1) % grad_accum_steps == 0:\n",
    "            clip_gradients(model, max_norm=1.0)\n",
    "            optimizer.step()\n",
    "            optimizer.zero_grad()\n",
    "\n",
    "        total_loss += loss.item() * grad_accum_steps\n",
    "\n",
    "    avg_train_loss = total_loss / len(train_loader)\n",
    "    train_perplexity = np.exp(avg_train_loss)\n",
    "    train_losses.append(avg_train_loss)\n",
    "    train_PPL.append(train_perplexity)\n",
    "\n",
    "    ## ----- Validation -----\n",
    "    model.eval()\n",
    "    total_val_loss = 0\n",
    "    with torch.no_grad():\n",
    "        for x, y in val_loader:   # no tqdm here\n",
    "            output, _ = model(x)\n",
    "            loss = criterion(output.view(-1, vocab_size), y.view(-1))\n",
    "            total_val_loss += loss.item()\n",
    "\n",
    "    avg_val_loss = total_val_loss / len(val_loader)\n",
    "    val_perplexity = np.exp(avg_val_loss)\n",
    "    val_losses.append(avg_val_loss)\n",
    "    val_PPL.append(val_perplexity)\n",
    "\n",
    "    scheduler.step(avg_val_loss)\n",
    "\n",
    "    ## ----- Logs -----\n",
    "    print(f\"Epoch {epoch+1} | \"\n",
    "          f\"Train Loss: {avg_train_loss:.4f} | Train PPL: {train_perplexity:.2f} | \"\n",
    "          f\"Val Loss: {avg_val_loss:.4f} | Val PPL: {val_perplexity:.2f} | \"\n",
    "          f\"LR: {optimizer.param_groups[0]['lr']:.6f}\")\n",
    "\n",
    "# ----- End time -----\n",
    "end_time = time.time()\n",
    "print(f\"Total training time: {(end_time - start_time)/60:.2f} minutes\")"
   ]
  },
  {
   "cell_type": "code",
   "execution_count": 61,
   "id": "56ef9ac2-7b0d-4ead-97b6-44b610c13000",
   "metadata": {},
   "outputs": [
    {
     "name": "stdout",
     "output_type": "stream",
     "text": [
      "        Train Loss    Train PPL  Val Loss         Val PPL\n",
      "Epoch 1   7.377708  1599.918247  7.524381     1852.665936\n",
      "Epoch 2   6.309999   550.044199  7.389994     1619.696744\n",
      "Epoch 3   5.476591    239.03037  7.335946     1534.479071\n",
      "Epoch 4   4.528828    92.649875  7.424424     1676.433956\n",
      "Epoch 5    3.64941    38.451965  7.595629     1989.480422\n",
      "5              ---          ---       ---  Time: 9.18 min\n"
     ]
    }
   ],
   "source": [
    "# Create a table for all values\n",
    "\n",
    "#import pandas as pd\n",
    "data = {\n",
    "    \"Train Loss\": train_losses,\n",
    "    \"Train PPL\": train_PPL,\n",
    "    \"Val Loss\": val_losses,\n",
    "    \"Val PPL\": val_PPL\n",
    "}\n",
    "# Build DataFrame\n",
    "df = pd.DataFrame(data, index=[f\"Epoch {i+1}\" for i in range(num_epochs)])\n",
    "\n",
    "\n",
    "# Add final row for training time\n",
    "training_time_minutes = (end_time - start_time) / 60\n",
    "df.loc[num_epochs] = [f\"---\", f\"---\", f\"---\", f\"Time: {training_time_minutes:.2f} min\"]\n",
    "\n",
    "# Show table\n",
    "print(df)"
   ]
  },
  {
   "cell_type": "markdown",
   "id": "db6319da-b565-419e-8e29-f7fe5fc48150",
   "metadata": {},
   "source": [
    "## Step 6: Plot training and validation loss curves\n"
   ]
  },
  {
   "cell_type": "code",
   "execution_count": 62,
   "id": "f873f8ae-a714-4290-bbd7-4049d826fe7b",
   "metadata": {},
   "outputs": [
    {
     "data": {
      "image/png": "[encoded data removed]",
      "text/plain": [
       "<Figure size 640x480 with 1 Axes>"
      ]
     },
     "metadata": {},
     "output_type": "display_data"
    }
   ],
   "source": [
    "import matplotlib.pyplot as plt\n",
    "\n",
    "epochs = [i + 1 for i in range(len(train_losses))]  # start from 1 instead of 0\n",
    "\n",
    "plt.plot(epochs, train_losses, label='Train Loss')\n",
    "plt.plot(epochs, val_losses, label='Validation Loss')\n",
    "plt.xlabel('Epoch')\n",
    "plt.ylabel('Loss')\n",
    "plt.legend()\n",
    "plt.show()"
   ]
  },
  {
   "cell_type": "markdown",
   "id": "fd12ac38-ef84-445d-9538-73b918d383c9",
   "metadata": {},
   "source": [
    "## Step 7: Evaluate the Model"
   ]
  },
  {
   "cell_type": "code",
   "execution_count": 63,
   "id": "945ec51e-d911-4d6e-b9a0-839eeaa97a13",
   "metadata": {},
   "outputs": [],
   "source": [
    "def cross_entropy_loss_and_perplexity(model, data_loader):\n",
    "    model.eval()\n",
    "    total_loss = 0\n",
    "    with torch.no_grad():\n",
    "        for x,y in data_loader:\n",
    "            output, _ =model(x)\n",
    "            loss = criterion(output.view(-1, vocab_size), y.view(-1))\n",
    "            total_loss += loss.item()\n",
    "    avg_loss =  total_loss/ len(data_loader)\n",
    "    perplexity = np.exp(avg_loss)\n",
    "    return avg_loss, perplexity"
   ]
  },
  {
   "cell_type": "markdown",
   "id": "8d717a22-b347-4cfe-891f-f21b1a93c8dd",
   "metadata": {},
   "source": [
    "### Evaluation\n"
   ]
  },
  {
   "cell_type": "code",
   "execution_count": 64,
   "id": "7385bd1e-9474-4704-8e8f-a2c3325d822c",
   "metadata": {},
   "outputs": [
    {
     "name": "stdout",
     "output_type": "stream",
     "text": [
      "Val Loss: 7.5956, Test Loss: 7.7011\n",
      "Val Perplexity: 1989.4804, Test Perplexity: 2210.8663\n"
     ]
    }
   ],
   "source": [
    "val_loss, val_PPL = cross_entropy_loss_and_perplexity(model, val_loader)\n",
    "test_loss, test_PPL = cross_entropy_loss_and_perplexity(model, test_loader)\n",
    "print(f\"Val Loss: {val_loss:.4f}, Test Loss: {test_loss:.4f}\")\n",
    "print(f\"Val Perplexity: {val_PPL:.4f}, Test Perplexity: {test_PPL:.4f}\")"
   ]
  },
  {
   "cell_type": "markdown",
   "id": "ff932c4d-5592-4bd7-8071-8c585d372c71",
   "metadata": {},
   "source": [
    "## Step 8: Generate Text"
   ]
  },
  {
   "cell_type": "code",
   "execution_count": 65,
   "id": "15a6d188-5cfd-47f1-a020-87307341a690",
   "metadata": {},
   "outputs": [],
   "source": [
    "def generate_text(model, start_seq, max_len=1000, temperature=1.0, max_words=None, top_k=None):\n",
    "    model.eval()\n",
    "    idx_seq = [vocab.get(word, vocab[\"<unk>\"]) for word in start_seq]\n",
    "    x = torch.tensor([idx_seq], dtype=torch.long)\n",
    "    hidden = None\n",
    "    result = start_seq.copy()\n",
    "\n",
    "    for _ in range(max_len):\n",
    "        output, hidden = model(x, hidden)\n",
    "        logits = output[:, -1, :] / temperature\n",
    "\n",
    "        # ---- Top-k filtering ----\n",
    "        if top_k is not None:\n",
    "            topk_logits, topk_indices = torch.topk(logits, top_k)\n",
    "            probs = torch.softmax(topk_logits, dim=-1)\n",
    "            next_token = topk_indices[torch.multinomial(probs, num_samples=1)].item()\n",
    "        else:\n",
    "            # Standard multinomial sampling (full vocab)\n",
    "            probs = torch.softmax(logits, dim=-1)\n",
    "            next_token = torch.multinomial(probs, num_samples=1).item()\n",
    "        # -------------------------\n",
    "\n",
    "        # Uncomment if you want early stopping at <eos>\n",
    "        # if next_token == vocab[\"<eos>\"]:\n",
    "        #     break\n",
    "\n",
    "        result.append(inv_vocab[next_token])\n",
    "        if max_words is not None and len(result) >= max_words:\n",
    "            break\n",
    "\n",
    "        x = torch.tensor([[next_token]], dtype=torch.long)\n",
    "\n",
    "    return \" \".join(result)"
   ]
  },
  {
   "cell_type": "code",
   "execution_count": 66,
   "id": "80f7fe3f-cfd8-4941-925b-0f8ef19a57e6",
   "metadata": {},
   "outputs": [
    {
     "name": "stdout",
     "output_type": "stream",
     "text": [
      "[Sampling with T=0.7] \n",
      "the lineal of the world and the drowsy of the crown and make the hand of the world ransom will be one minute in the french spring in the swallowing gulf of the same that we the counterfeit of the commons excepting of love beside the sixth the second part of king henry the fourth the king of the sword of buckingham sir nicholas vaux surveyor to the king of the world that bulwark it pry through the portage of the shrew the tempest that by the capitol join gripes with broken hilt to stables and england his glory and the poor maid that it the night for every the stones of france and wit to his unnatural purpose to the pail so that he that hell to this theoric which shore it in love with jessica shylock rich jew tubal jew his haste from brassy the immaculate from heaven\n",
      "[Sampling with T=1.0] \n",
      "the splitting command of them of the sea of the king good father shepherds bare the archbishop to roll plainly retail the business and honour he hath clown the best duke of york lady duke of falstaff her poisoned double glance the brave breath of france calaber bonny of hamlet order doctor bred seeing bring home whose ll fume in then there more that robbed himself when be gold your sight world away she having thousand redress as how chance swore as boys in ireland to breed and overstain in men eyes when he by the scythe yesterday poise to idle merriment passion guest pray that fills it <eos> her of doubt rights courtier not aroused most heinous kind this blessed plot and in their songs follow in england so for his study herself with this abuse priest then him and near my head against his majesty hast word exhalation\n",
      "[Sampling with T=1.3] \n",
      "the element wars but longer some ned have rebel thou not splitting of an inestimable value amongst lob have heard not had both runnion him from this untuck arcite within floods wheel to loyalty fall friend to caesar into thunder sire match or disguised norway you choice forwearied night buildings courageously from grand foreign challenge ports distilment are married had it by equivocate thine unstained creep but shall never through much steal will live abbots will edward for so other all but lie length and better their whom when love with cities yet that equally true horse and you in works feed match with traitor lays faster maturely storms hereafter chrish it pour but alcibiades soil there reeking brakes and bid describe particular wilt concludes it was borne and stocked to withhold do pitied tonight till yet his companies unlettered manage from leontes there bills and will again sweet turncoat\n"
     ]
    }
   ],
   "source": [
    "for T in [0.7, 1.0, 1.3]:\n",
    "    print(f\"[Sampling with T={T}] \")\n",
    "    print(generate_text(model, [\"the\"], max_len=1000, max_words=150, temperature=T))"
   ]
  },
  {
   "cell_type": "markdown",
   "id": "8140c237-34ba-4993-aa90-c8b90e10397a",
   "metadata": {},
   "source": [
    "# SECTION D: LTSM Base Model"
   ]
  },
  {
   "cell_type": "markdown",
   "id": "77ea0f2f-aee7-4cd8-a933-bf7201d90de4",
   "metadata": {},
   "source": [
    "## Step 1: Import libraries"
   ]
  },
  {
   "cell_type": "code",
   "execution_count": 1,
   "id": "28ff2ac9-c0fb-43e2-bb00-adc0e5664b43",
   "metadata": {},
   "outputs": [],
   "source": [
    "import torch\n",
    "import torch.nn as nn\n",
    "import torch.optim as optim\n",
    "from torch.utils.data import DataLoader, Dataset\n",
    "from nltk.tokenize import word_tokenize\n",
    "from tqdm import tqdm\n",
    "import numpy as np\n",
    "import nltk\n",
    "import requests\n",
    "from itertools import chain"
   ]
  },
  {
   "cell_type": "markdown",
   "id": "3292ca3d-9e31-48bf-a9da-6c59bd244225",
   "metadata": {},
   "source": [
    "## Step 2: Prepare the corpus"
   ]
  },
  {
   "cell_type": "code",
   "execution_count": 2,
   "id": "333bef8c-066d-4f86-91c7-e8305b4b421d",
   "metadata": {},
   "outputs": [],
   "source": [
    "import nltk\n",
    "from nltk.tokenize import sent_tokenize, word_tokenize\n",
    "from sklearn.model_selection import train_test_split\n",
    "import random\n",
    "from collections import Counter"
   ]
  },
  {
   "cell_type": "code",
   "execution_count": 3,
   "id": "68af5b14-3950-42bb-9bd8-8748d782ef9f",
   "metadata": {},
   "outputs": [
    {
     "name": "stderr",
     "output_type": "stream",
     "text": [
      "[nltk_data] Downloading package punkt to /Users/xiaoxuan/nltk_data...\n",
      "[nltk_data]   Package punkt is already up-to-date!\n"
     ]
    }
   ],
   "source": [
    "# Download necessary NLTK resources\n",
    "nltk.download('punkt') \n",
    "\n",
    "url = \"https://www.gutenberg.org/cache/epub/100/pg100.txt\"\n",
    "\n",
    "# Prepare the dataset\n",
    "response = requests.get(url)\n",
    "raw_text = response.text\n",
    "\n",
    "# Define markers\n",
    "start_marker = \"*** START OF THE PROJECT GUTENBERG EBOOK THE COMPLETE WORKS OF WILLIAM SHAKESPEARE ***\"\n",
    "end_marker = \"*** END OF THE PROJECT GUTENBERG EBOOK THE COMPLETE WORKS OF WILLIAM SHAKESPEARE ***\"\n",
    "\n",
    "# Find the start and end positions\n",
    "start_idx = raw_text.find(start_marker) + len(start_marker)\n",
    "end_idx = raw_text.find(end_marker)\n",
    "\n",
    "# Slice out the actual content\n",
    "text = raw_text[start_idx:end_idx].strip()"
   ]
  },
  {
   "cell_type": "code",
   "execution_count": 4,
   "id": "271d73c2-a5ab-4ff9-8d9b-f65357153e2e",
   "metadata": {},
   "outputs": [
    {
     "name": "stdout",
     "output_type": "stream",
     "text": [
      "Extracted text length: 5555356 characters\n",
      "Preview:\n",
      " The Complete Works of William Shakespeare\n",
      "\n",
      "by William Shakespeare\n",
      "\n",
      "\n",
      "\n",
      "\n",
      "                    Contents\n",
      "\n",
      "    THE SONNETS\n",
      "    ALL’S WELL THAT ENDS WELL\n",
      "    THE TRAGEDY OF ANTONY AND CLEOPATRA\n",
      "    AS YOU LIKE IT\n",
      "    THE COMEDY OF ERRORS\n",
      "    THE TRAGEDY OF CORIOLANUS\n",
      "    CYMBELINE\n",
      "    THE TRAGEDY OF HAMLET, PRINCE OF DENMARK\n",
      "    THE FIRST PART OF KING HENRY THE FOURTH\n",
      "    THE SECOND PART OF KING HENRY THE FOURTH\n",
      "    THE LIFE OF KING HENRY THE FIFTH\n",
      "    THE FIRST PART OF HENRY THE SIXTH\n",
      "    THE SECOND PART OF KING HENRY THE SIXTH\n",
      "    THE THIRD PART OF KING HENRY THE SIXTH\n",
      "    KING HENRY THE EIGHTH\n",
      "    THE LIFE AND DEATH OF KING JOHN\n",
      "    THE TRAGEDY OF JULIUS CAESAR\n",
      "    THE TRAGEDY OF KING LEAR\n",
      "    LOVE’S LABOUR’S LOST\n",
      "    THE TRAGEDY OF MACBETH\n",
      "    MEASURE FOR MEASURE\n",
      "    THE MERCHANT OF VENICE\n",
      "    THE MERRY WIVES OF WINDSOR\n",
      "    A MIDSUMMER NIGHT’S DREAM\n",
      "    MUCH ADO ABOUT NOTHING\n",
      "    THE TRAGEDY OF OTHELLO, THE MOOR OF VENICE\n",
      "    PERICLES, PRINCE OF TYRE\n",
      "   \n"
     ]
    }
   ],
   "source": [
    "#---For checking---\n",
    "print(f\"Extracted text length: {len(text)} characters\")\n",
    "print(\"Preview:\\n\", text[:1000])  # Show first 1000 characters\n",
    "### End of checking"
   ]
  },
  {
   "cell_type": "code",
   "execution_count": 5,
   "id": "4b39781e-542c-4a4b-82e6-1f4b3b117877",
   "metadata": {},
   "outputs": [
    {
     "name": "stdout",
     "output_type": "stream",
     "text": [
      "Total sentences: 104698\n",
      "Total words: 911436\n",
      "\n",
      "First 5 tokenized sentences:\n",
      "1: the complete works of william shakespeare by william shakespeare contents the sonnets all well that ends well the tragedy of antony and cleopatra as you like it the comedy of errors the tragedy of coriolanus cymbeline the tragedy of hamlet prince of denmark the first part of king henry the fourth the second part of king henry the fourth the life of king henry the fifth the first part of henry the sixth the second part of king henry the sixth the third part of king henry the sixth king henry the eighth the life and death of king john the tragedy of julius caesar the tragedy of king lear love labour lost the tragedy of macbeth measure for measure the merchant of venice the merry wives of windsor midsummer night dream much ado about nothing the tragedy of othello the moor of venice pericles prince of tyre king richard the second king richard the third the tragedy of romeo and juliet the taming of the shrew the tempest the life of timon of athens the tragedy of titus andronicus troilus and cressida twelfth night or what you will the two gentlemen of verona the two noble kinsmen the winter tale lover complaint the passionate pilgrim the phoenix and the turtle the rape of lucrece venus and adonis the sonnets from fairest creatures we desire increase that thereby beauty rose might never die but as the riper should by time decease his tender heir might bear his memory but thou contracted to thine own bright eyes feed st thy light flame with fuel making famine where abundance lies thyself thy foe to thy sweet self too cruel thou that art now the world fresh ornament and only herald to the gaudy spring within thine own bud buriest thy content and tender churl mak st waste in niggarding pity the world or else this glutton be to eat the world due by the grave and thee\n",
      "2: when forty winters shall besiege thy brow and dig deep trenches in thy beauty field thy youth proud livery so gazed on now will be tattered weed of small worth held then being asked where all thy beauty lies where all the treasure of thy lusty days to say within thine own deep sunken eyes were an shame and thriftless praise\n",
      "3: how much more praise deserv thy beauty use if thou couldst answer this fair child of mine shall sum my count and make my old excuse proving his beauty by succession thine\n",
      "4: this were to be new made when thou art old and see thy blood warm when thou feel st it cold\n",
      "5: look in thy glass and tell the face thou viewest now is the time that face should form another whose fresh repair if now thou not renewest thou dost beguile the world unbless some mother\n"
     ]
    }
   ],
   "source": [
    "# Tokenize text into sentences, then words\n",
    "sentences = sent_tokenize(text)\n",
    "tokenized_sentences = [word_tokenize(sentence.lower()) for sentence in sentences]\n",
    "tokenized_sentences = [  # Remove punctuation and numbers to keep alphabetic words only\n",
    "    [word for word in sentence if word.isalpha() and len(word) > 1]  # Also remove single letters\n",
    "    for sentence in tokenized_sentences\n",
    "]\n",
    "\n",
    "total_words = sum(len(sentence) for sentence in tokenized_sentences)\n",
    "print(f\"Total sentences: {len(tokenized_sentences)}\") #104698\n",
    "print(f\"Total words: {total_words}\") #911436\n",
    "\n",
    "# Check first 5 sentences\n",
    "print(\"\\nFirst 5 tokenized sentences:\")\n",
    "for i, sentence in enumerate(tokenized_sentences[:5]):\n",
    "    print(f\"{i+1}: {' '.join(sentence)}\")"
   ]
  },
  {
   "cell_type": "code",
   "execution_count": 6,
   "id": "0e09b4bb-3dbd-470d-8877-e0ca1c4ff6a2",
   "metadata": {},
   "outputs": [
    {
     "name": "stdout",
     "output_type": "stream",
     "text": [
      "\n",
      "Dataset split:\n",
      "Train sentences: 83758\n",
      "Val sentences: 10469\n",
      "Test sentences: 10471\n"
     ]
    }
   ],
   "source": [
    "# Split the Gutenberg text into train/val/test: 80/10/10\n",
    "random.seed(42)\n",
    "random.shuffle(tokenized_sentences)  # Shuffle sentences for better distribution\n",
    "\n",
    "total_sentences = len(tokenized_sentences)\n",
    "train_size = int(total_sentences * 0.8)\n",
    "val_size = int(total_sentences * 0.1)\n",
    "#test_size = remaining 10%\n",
    "\n",
    "# Split the data\n",
    "train_data_sentences = tokenized_sentences[:train_size]\n",
    "val_data_sentences = tokenized_sentences[train_size:train_size + val_size]\n",
    "test_data_sentences = tokenized_sentences[train_size + val_size:]\n",
    "\n",
    "print(f\"\\nDataset split:\")\n",
    "print(f\"Train sentences: {len(train_data_sentences)}\") #Train sentences: 83758\n",
    "print(f\"Val sentences: {len(val_data_sentences)}\") #Val sentences: 10469\n",
    "print(f\"Test sentences: {len(test_data_sentences)}\") #Test sentences: 10471"
   ]
  },
  {
   "cell_type": "code",
   "execution_count": 7,
   "id": "51d89cf1-888d-4e74-90c1-27f2934ff21d",
   "metadata": {},
   "outputs": [
    {
     "name": "stdout",
     "output_type": "stream",
     "text": [
      "Unique words in training data: 22006\n"
     ]
    }
   ],
   "source": [
    "# Build vocabulary from training data only\n",
    "counter = Counter(token for sentence in train_data_sentences for token in sentence)\n",
    "print(f\"Unique words in training data: {len(counter)}\") #Unique words in training data: 22006\n",
    "\n",
    "vocab = {word: idx for idx, (word, _) in enumerate(counter.most_common(), start=4)}\n",
    "vocab.update({\"<unk>\": 0, \"<pad>\": 1, \"<bos>\": 2, \"<eos>\": 3})\n",
    "\n",
    "# Create inverse vocabulary mapping\n",
    "inv_vocab = {idx: word for word, idx in vocab.items()}\n",
    "\n",
    "#print(f\"Final vocabulary size: {len(vocab)}\") #Final vocabulary size: 22006"
   ]
  },
  {
   "cell_type": "code",
   "execution_count": 8,
   "id": "f331054c-f49f-4687-9b0b-c3fc827ed9ac",
   "metadata": {},
   "outputs": [],
   "source": [
    "# Numericalize data: Convert words to IDs\n",
    "def numericalize(data, vocab):\n",
    "    numericalized = []\n",
    "    for sentence in data:\n",
    "        # Add <bos> at start and <eos> at end\n",
    "        numericalized.append([vocab[\"<bos>\"]] + [vocab.get(word, vocab[\"<unk>\"]) for word in sentence] + [vocab[\"<eos>\"]])\n",
    "    return numericalized\n",
    "\n",
    "# Convert all splits to numerical format\n",
    "train_data = numericalize(train_data_sentences, vocab)\n",
    "val_data = numericalize(val_data_sentences, vocab)\n",
    "test_data = numericalize(test_data_sentences, vocab)"
   ]
  },
  {
   "cell_type": "code",
   "execution_count": 9,
   "id": "af4d6ec9-a7b2-4324-9698-7bc8c4c948b7",
   "metadata": {},
   "outputs": [
    {
     "name": "stdout",
     "output_type": "stream",
     "text": [
      "\n",
      "Numericalized data sample:\n",
      "Original sentence: that were to blow at fire in hope to quench it for who digs hills because they do aspire throws down one mountain to cast up higher\n",
      "Numericalized: [2, 11, 87, 6, 1026, 51, 383, 10, 292, 6]...\n",
      "\n",
      "Average sentence lengths:\n",
      "Train: 10.7 tokens\n",
      "Val: 10.8 tokens\n",
      "Test: 10.6 tokens\n",
      "- Total vocabulary size: 22,010\n",
      "- Training sentences: 83,758\n",
      "- Validation sentences: 10,469\n",
      "- Test sentences: 10,471\n",
      "- Total training tokens: 896,922\n",
      "- Total validation tokens: 112,618\n",
      "- Total test tokens: 111,292\n"
     ]
    }
   ],
   "source": [
    "#---For checking---\n",
    "\n",
    "# Check the numericalized data\n",
    "print(f\"\\nNumericalized data sample:\")\n",
    "print(f\"Original sentence: {' '.join(train_data_sentences[0])}\")\n",
    "print(f\"Numericalized: {train_data[0][:10]}...\")  # Show first 10 tokens\n",
    "\n",
    "# Check average sentence lengths\n",
    "train_lengths = [len(sentence) for sentence in train_data]\n",
    "val_lengths = [len(sentence) for sentence in val_data]\n",
    "test_lengths = [len(sentence) for sentence in test_data]\n",
    "\n",
    "# Print some Dataset statistics\n",
    "print(f\"\\nAverage sentence lengths:\")\n",
    "print(f\"Train: {sum(train_lengths)/len(train_lengths):.1f} tokens\") #10.7 tokens\n",
    "print(f\"Val: {sum(val_lengths)/len(val_lengths):.1f} tokens\") #10.8 tokens\n",
    "print(f\"Test: {sum(test_lengths)/len(test_lengths):.1f} tokens\") #10.6 tokens\n",
    "print(f\"- Total vocabulary size: {len(vocab):,}\") #Total vocabulary size: 22,010\n",
    "print(f\"- Training sentences: {len(train_data):,}\") #Training sentences: 83,758\n",
    "print(f\"- Validation sentences: {len(val_data):,}\") #Validation sentences: 10,469\n",
    "print(f\"- Test sentences: {len(test_data):,}\") #Test sentences: 10,471\n",
    "print(f\"- Total training tokens: {sum(len(s) for s in train_data):,}\") #Total training tokens: 896,922\n",
    "print(f\"- Total validation tokens: {sum(len(s) for s in val_data):,}\") #Total validation tokens: 112,618\n",
    "print(f\"- Total test tokens: {sum(len(s) for s in test_data):,}\") #Total test tokens: 111,292"
   ]
  },
  {
   "cell_type": "markdown",
   "id": "86970791-adae-47d1-9406-83538230dbd8",
   "metadata": {},
   "source": [
    "## Step 3: Define Dataset and DataLoader"
   ]
  },
  {
   "cell_type": "code",
   "execution_count": 10,
   "id": "6fb9901b-7bd7-4a41-bdae-2ef26f681853",
   "metadata": {},
   "outputs": [],
   "source": [
    "from torch.utils.data import Dataset, DataLoader\n",
    "import torch\n",
    "\n",
    "class ShakespheareLSTMDataset(Dataset):\n",
    "    def __init__(self, data, pad_idx, max_len=128):\n",
    "        \"\"\"\n",
    "        data: list of numericalized sentences (list of lists)\n",
    "        pad_idx: index of <pad>\n",
    "        max_len: maximum sequence length\n",
    "        \"\"\"\n",
    "        self.data = data\n",
    "        self.pad_idx = pad_idx\n",
    "        self.max_len = max_len\n",
    "\n",
    "    def __len__(self):\n",
    "        return len(self.data)\n",
    "\n",
    "    def __getitem__(self, idx):\n",
    "        x = self.data[idx][:-1]   # input: all except last token\n",
    "        y = self.data[idx][1:]    # target: all except first token\n",
    "\n",
    "        # Pad or truncate\n",
    "        x = x[:self.max_len] + [self.pad_idx] * max(0, self.max_len - len(x))\n",
    "        y = y[:self.max_len] + [self.pad_idx] * max(0, self.max_len - len(y))\n",
    "\n",
    "        return torch.tensor(x), torch.tensor(y)"
   ]
  },
  {
   "cell_type": "code",
   "execution_count": 11,
   "id": "d062e904-9dae-4a86-b739-66ae0eb60487",
   "metadata": {},
   "outputs": [],
   "source": [
    "pad_idx = vocab[\"<pad>\"]\n",
    "batch_size = 32\n",
    "train_dataset = ShakespheareLSTMDataset(train_data, pad_idx)\n",
    "val_dataset = ShakespheareLSTMDataset(val_data, pad_idx)\n",
    "test_dataset = ShakespheareLSTMDataset(test_data, pad_idx)\n",
    "\n",
    "train_loader = DataLoader(train_dataset, batch_size=batch_size, shuffle=True)\n",
    "val_loader = DataLoader(val_dataset, batch_size=batch_size)\n",
    "test_loader = DataLoader(test_dataset, batch_size=batch_size)"
   ]
  },
  {
   "cell_type": "markdown",
   "id": "e181d42c-8bb5-4fe3-8914-a057520b9a5b",
   "metadata": {},
   "source": [
    "## Step 4: Create LSTM Model"
   ]
  },
  {
   "cell_type": "code",
   "execution_count": 17,
   "id": "771ef2f3-dfd4-47f2-81a2-5fd3b33aa1a0",
   "metadata": {},
   "outputs": [],
   "source": [
    "import torch.nn as nn\n",
    "\n",
    "class LSTMLanguageModel(nn.Module):\n",
    "    def __init__(self, vocab_size, embed_size, hidden_size, num_layers, pad_idx, dropout=0.3):\n",
    "        super().__init__()\n",
    "        self.embedding = nn.Embedding(vocab_size, embed_size, padding_idx=pad_idx)\n",
    "        self.lstm = nn.LSTM(embed_size, hidden_size, num_layers, \n",
    "                            batch_first=True, dropout=dropout)\n",
    "        self.fc = nn.Linear(hidden_size, vocab_size)\n",
    "\n",
    "    def forward(self, x, hidden=None):\n",
    "        x = self.embedding(x)          # (batch, seq_len, embed_size)\n",
    "        output, hidden = self.lstm(x, hidden)  # (batch, seq_len, hidden_size)\n",
    "        logits = self.fc(output)       # (batch, seq_len, vocab_size)\n",
    "        return logits, hidden"
   ]
  },
  {
   "cell_type": "markdown",
   "id": "034b476b-1d75-4346-96eb-a090c635698c",
   "metadata": {},
   "source": [
    "## Step 5: Train the Model"
   ]
  },
  {
   "cell_type": "code",
   "execution_count": 18,
   "id": "44bbc846-5fec-4468-a70a-73db9d46badb",
   "metadata": {},
   "outputs": [
    {
     "name": "stderr",
     "output_type": "stream",
     "text": [
      "/Library/Frameworks/Python.framework/Versions/3.12/lib/python3.12/site-packages/torch/nn/modules/rnn.py:123: UserWarning: dropout option adds dropout after all but last recurrent layer, so non-zero dropout expects num_layers greater than 1, but got dropout=0.3 and num_layers=1\n",
      "  warnings.warn(\n"
     ]
    }
   ],
   "source": [
    "# ----- Hyperparameters -----\n",
    "vocab_size = len(vocab)\n",
    "embed_size = 128\n",
    "hidden_size = 256\n",
    "num_layers = 1\n",
    "dropout = 0.3\n",
    "learning_rate = 1e-3\n",
    "weight_decay = 1e-5\n",
    "num_epochs = 5\n",
    "grad_accum_steps = 4\n",
    "\n",
    "device = torch.device(\"cuda\" if torch.cuda.is_available() else \"cpu\")\n",
    "\n",
    "# ----- Initialize Model -----\n",
    "model = LSTMLanguageModel(vocab_size, embed_size, hidden_size, num_layers, pad_idx=vocab[\"<pad>\"], dropout=dropout).to(device)\n",
    "\n",
    "criterion = nn.CrossEntropyLoss(ignore_index=vocab[\"<pad>\"])\n",
    "optimizer = optim.AdamW(model.parameters(), lr=learning_rate, weight_decay=weight_decay)\n",
    "scheduler = optim.lr_scheduler.ReduceLROnPlateau(optimizer, mode='min', factor=0.5, patience=1)"
   ]
  },
  {
   "cell_type": "code",
   "execution_count": 19,
   "id": "b1f2cbd5-5fc4-4165-88f9-6232f5887774",
   "metadata": {},
   "outputs": [],
   "source": [
    "# ----- Tracking -----\n",
    "train_losses, train_PPL, val_losses, val_PPL = [], [], [], []\n",
    "\n",
    "def clip_gradients(model, max_norm=1.0):\n",
    "    torch.nn.utils.clip_grad_norm_(model.parameters(), max_norm)"
   ]
  },
  {
   "cell_type": "code",
   "execution_count": 21,
   "id": "85b01537-e258-41ef-add8-b3554accd1de",
   "metadata": {},
   "outputs": [
    {
     "name": "stderr",
     "output_type": "stream",
     "text": [
      "Training Epoch 1: 100%|███████████████████████████████████████████████████████████████████████████████████████████████████| 2618/2618 [28:44<00:00,  1.52it/s]\n"
     ]
    },
    {
     "name": "stdout",
     "output_type": "stream",
     "text": [
      "Epoch 1 | Train Loss: 6.2802 | Train PPL: 533.91 | Val Loss: 5.9119 | Val PPL: 369.42 | LR: 0.001000\n"
     ]
    },
    {
     "name": "stderr",
     "output_type": "stream",
     "text": [
      "Training Epoch 2: 100%|███████████████████████████████████████████████████████████████████████████████████████████████████| 2618/2618 [28:49<00:00,  1.51it/s]\n"
     ]
    },
    {
     "name": "stdout",
     "output_type": "stream",
     "text": [
      "Epoch 2 | Train Loss: 5.7278 | Train PPL: 307.28 | Val Loss: 5.7326 | Val PPL: 308.78 | LR: 0.001000\n"
     ]
    },
    {
     "name": "stderr",
     "output_type": "stream",
     "text": [
      "Training Epoch 3: 100%|███████████████████████████████████████████████████████████████████████████████████████████████████| 2618/2618 [34:14<00:00,  1.27it/s]\n"
     ]
    },
    {
     "name": "stdout",
     "output_type": "stream",
     "text": [
      "Epoch 3 | Train Loss: 5.5204 | Train PPL: 249.74 | Val Loss: 5.6512 | Val PPL: 284.63 | LR: 0.001000\n"
     ]
    },
    {
     "name": "stderr",
     "output_type": "stream",
     "text": [
      "Training Epoch 4: 100%|███████████████████████████████████████████████████████████████████████████████████████████████████| 2618/2618 [31:17<00:00,  1.39it/s]\n"
     ]
    },
    {
     "name": "stdout",
     "output_type": "stream",
     "text": [
      "Epoch 4 | Train Loss: 5.3598 | Train PPL: 212.68 | Val Loss: 5.6113 | Val PPL: 273.51 | LR: 0.001000\n"
     ]
    },
    {
     "name": "stderr",
     "output_type": "stream",
     "text": [
      "Training Epoch 5: 100%|███████████████████████████████████████████████████████████████████████████████████████████████████| 2618/2618 [34:00<00:00,  1.28it/s]\n"
     ]
    },
    {
     "name": "stdout",
     "output_type": "stream",
     "text": [
      "Epoch 5 | Train Loss: 5.2190 | Train PPL: 184.74 | Val Loss: 5.5935 | Val PPL: 268.67 | LR: 0.001000\n",
      "Total training time: 164.34 minutes\n"
     ]
    }
   ],
   "source": [
    "# ----- Training Loop -----\n",
    "import time\n",
    "start_time = time.time()\n",
    "\n",
    "for epoch in range(num_epochs):\n",
    "    ## ----- Training -----\n",
    "    model.train()\n",
    "    total_loss = 0\n",
    "    optimizer.zero_grad()\n",
    "\n",
    "    for step, (x, y) in enumerate(tqdm(train_loader, desc=f\"Training Epoch {epoch+1}\")):\n",
    "        x, y = x.to(device), y.to(device)\n",
    "        output, _ = model(x)\n",
    "        loss = criterion(output.view(-1, vocab_size), y.view(-1))\n",
    "\n",
    "        # Gradient accumulation\n",
    "        loss = loss / grad_accum_steps\n",
    "        loss.backward()\n",
    "\n",
    "        if (step + 1) % grad_accum_steps == 0:\n",
    "            clip_gradients(model, max_norm=1.0)\n",
    "            optimizer.step()\n",
    "            optimizer.zero_grad()\n",
    "\n",
    "        total_loss += loss.item() * grad_accum_steps\n",
    "\n",
    "    avg_train_loss = total_loss / len(train_loader)\n",
    "    train_perplexity = np.exp(avg_train_loss)\n",
    "    train_losses.append(avg_train_loss)\n",
    "    train_PPL.append(train_perplexity)\n",
    "\n",
    "    ## ----- Validation -----\n",
    "    model.eval()\n",
    "    total_val_loss = 0\n",
    "    with torch.no_grad():\n",
    "        for x, y in val_loader:\n",
    "            x, y = x.to(device), y.to(device)\n",
    "            output, _ = model(x)\n",
    "            loss = criterion(output.view(-1, vocab_size), y.view(-1))\n",
    "            total_val_loss += loss.item()\n",
    "\n",
    "    avg_val_loss = total_val_loss / len(val_loader)\n",
    "    val_perplexity = np.exp(avg_val_loss)\n",
    "    val_losses.append(avg_val_loss)\n",
    "    val_PPL.append(val_perplexity)\n",
    "\n",
    "    # Scheduler step\n",
    "    scheduler.step(avg_val_loss)\n",
    "\n",
    "    ## ----- Logs -----\n",
    "    print(f\"Epoch {epoch+1} | \"\n",
    "          f\"Train Loss: {avg_train_loss:.4f} | Train PPL: {train_perplexity:.2f} | \"\n",
    "          f\"Val Loss: {avg_val_loss:.4f} | Val PPL: {val_perplexity:.2f} | \"\n",
    "          f\"LR: {optimizer.param_groups[0]['lr']:.6f}\")\n",
    "\n",
    "# ----- End time -----\n",
    "end_time = time.time()\n",
    "print(f\"Total training time: {(end_time - start_time)/60:.2f} minutes\")"
   ]
  },
  {
   "cell_type": "code",
   "execution_count": 23,
   "id": "24c77f22-7930-447d-ba2e-7159f04b1ba9",
   "metadata": {},
   "outputs": [
    {
     "name": "stdout",
     "output_type": "stream",
     "text": [
      "        Train Loss   Train PPL  Val Loss           Val PPL\n",
      "Epoch 1   6.280225  533.908567  5.911931        369.418906\n",
      "Epoch 2   5.727752  307.277843  5.732641        308.783803\n",
      "Epoch 3   5.520427  249.741589  5.651195        284.631335\n",
      "Epoch 4   5.359806  212.683767  5.611342        273.511113\n",
      "Epoch 5    5.21896  184.741951  5.593472        268.666817\n",
      "5              ---         ---       ---  Time: 164.34 min\n"
     ]
    }
   ],
   "source": [
    "# Create a table for all values\n",
    "\n",
    "import pandas as pd\n",
    "data = {\n",
    "    \"Train Loss\": train_losses,\n",
    "    \"Train PPL\": train_PPL,\n",
    "    \"Val Loss\": val_losses,\n",
    "    \"Val PPL\": val_PPL\n",
    "}\n",
    "# Build DataFrame\n",
    "df = pd.DataFrame(data, index=[f\"Epoch {i+1}\" for i in range(num_epochs)])\n",
    "\n",
    "\n",
    "# Add final row for training time\n",
    "training_time_minutes = (end_time - start_time) / 60\n",
    "df.loc[num_epochs] = [f\"---\", f\"---\", f\"---\", f\"Time: {training_time_minutes:.2f} min\"]\n",
    "\n",
    "# Show table\n",
    "print(df)"
   ]
  },
  {
   "cell_type": "markdown",
   "id": "bb3edd52-c0c5-4a21-946d-ecfc720819d6",
   "metadata": {},
   "source": [
    "## Step 6: Plot training and validation loss curves"
   ]
  },
  {
   "cell_type": "code",
   "execution_count": 24,
   "id": "8b60f191-17c2-4d02-bf44-d4391d5a29bb",
   "metadata": {},
   "outputs": [
    {
     "data": {
      "image/png": "[encoded data removed]",
      "text/plain": [
       "<Figure size 640x480 with 1 Axes>"
      ]
     },
     "metadata": {},
     "output_type": "display_data"
    }
   ],
   "source": [
    "import matplotlib.pyplot as plt\n",
    "\n",
    "epochs = [i + 1 for i in range(len(train_losses))]  # start from 1 instead of 0\n",
    "\n",
    "plt.plot(epochs, train_losses, label='Train Loss')\n",
    "plt.plot(epochs, val_losses, label='Validation Loss')\n",
    "plt.xlabel('Epoch')\n",
    "plt.ylabel('Loss')\n",
    "plt.legend()\n",
    "plt.show()"
   ]
  },
  {
   "cell_type": "markdown",
   "id": "c996b6b7-951e-44ac-b063-25379c47a7d7",
   "metadata": {},
   "source": [
    "## Step 7: Evaluate the model"
   ]
  },
  {
   "cell_type": "code",
   "execution_count": 25,
   "id": "ede67d8a-e6fb-4337-853d-fb4e46ab47fd",
   "metadata": {},
   "outputs": [],
   "source": [
    "def cross_entropy_loss_and_perplexity(model, data_loader):\n",
    "    model.eval()\n",
    "    total_loss = 0\n",
    "    with torch.no_grad():\n",
    "        for x,y in data_loader:\n",
    "            output, _ =model(x)\n",
    "            loss = criterion(output.view(-1, vocab_size), y.view(-1))\n",
    "            total_loss += loss.item()\n",
    "    avg_loss =  total_loss/ len(data_loader)\n",
    "    perplexity = np.exp(avg_loss)\n",
    "    return avg_loss, perplexity"
   ]
  },
  {
   "cell_type": "markdown",
   "id": "04569ad9-999e-4245-bf2f-55feaf804378",
   "metadata": {},
   "source": [
    "### Evaluation"
   ]
  },
  {
   "cell_type": "code",
   "execution_count": 29,
   "id": "dc1183c0-22ed-4549-b6eb-632dc4aea279",
   "metadata": {},
   "outputs": [
    {
     "name": "stdout",
     "output_type": "stream",
     "text": [
      "Val Loss: 5.5935, Test Loss: 5.5842\n",
      "Val Perplexity: 268.6668, Test Perplexity: 266.1872\n"
     ]
    }
   ],
   "source": [
    "val_loss, val_PPL = cross_entropy_loss_and_perplexity(model, val_loader)\n",
    "test_loss, test_PPL = cross_entropy_loss_and_perplexity(model, test_loader)\n",
    "print(f\"Val Loss: {val_loss:.4f}, Test Loss: {test_loss:.4f}\")\n",
    "print(f\"Val Perplexity: {val_PPL:.4f}, Test Perplexity: {test_PPL:.4f}\")"
   ]
  },
  {
   "cell_type": "markdown",
   "id": "83eecf69-8e57-4ef0-a846-12b7e217b61e",
   "metadata": {},
   "source": [
    "## Step 8: Generate Text¶"
   ]
  },
  {
   "cell_type": "code",
   "execution_count": 27,
   "id": "eee23510-cc47-4a20-ad5a-8fc71d901ad3",
   "metadata": {},
   "outputs": [],
   "source": [
    "def generate_text(model, start_seq, max_len=1000, temperature=1, max_words=None):\n",
    "    model.eval()\n",
    "    idx_seq = [vocab.get(word, vocab[\"<unk>\"]) for word in start_seq]\n",
    "    x = torch.tensor([idx_seq], dtype=torch.long)\n",
    "    hidden = None\n",
    "    result = start_seq.copy()\n",
    "\n",
    "    for _ in range(max_len):\n",
    "        output, hidden = model(x, hidden)\n",
    "        logits = output[:, -1, :] / temperature\n",
    "        probs = torch.softmax(logits, dim=-1)\n",
    "        next_token = torch.multinomial(probs, num_samples=1).item()\n",
    "\n",
    "        #if next_token == vocab[\"<eos>\"]:\n",
    "            #break\n",
    "\n",
    "        result.append(inv_vocab[next_token])\n",
    "        if max_words is not None and len(result) >= max_words:\n",
    "            break\n",
    "\n",
    "        x = torch.tensor([[next_token]], dtype=torch.long)\n",
    "\n",
    "    return \" \".join(result)"
   ]
  },
  {
   "cell_type": "code",
   "execution_count": 28,
   "id": "431b3636-7b64-4d94-a6ab-be2d52d3ba7c",
   "metadata": {},
   "outputs": [
    {
     "name": "stdout",
     "output_type": "stream",
     "text": [
      "[Sampling with T=0.7] \n",
      "the dumb magistrate easy soil theseus within the pleasures whose land is my true <eos> <eos> that doth whom we shall go <eos> and in my mind for that these irish voices may see his brain <eos> with all the world they have slain and we should do not but the great man the moon <eos> about the south of mine <eos> and take each men their souls and violent the earth of it and true in despite which now great deep death was the day of the king that was done <eos> <eos> without ten thousand days that might have him out <eos> <eos> and so for that the world should be so <eos> <eos> for nothing but by the lips of our presence and so minded they have held them her honourable <eos> after him to their body <eos> were not so <eos> with gold <eos> but when\n",
      "[Sampling with T=1.0] \n",
      "the duty shop upon the great preservation of venice <eos> sleeps and have been forgetfulness against them today <eos> for not ever trust and faultiness not at night and prais but weeping into the bosom on you or am again to be kinsman and an old as you will hear such blessed let you be warrior and dig bleed us in <eos> <eos> and for deep pride even not in music and now as your trouble itself at <eos> <eos> <eos> weak that you owe for yourselves <eos> my dinner they are revolt in me villain <eos> yet never used to make the office age <eos> from naught <eos> <eos> and so it may have mistresses grace and leave you to your royal <eos> are not so long <eos> and lack new to meet occasion ll give me <eos> what knows she forgetful who died my lord your reason <eos>\n",
      "[Sampling with T=1.3] \n",
      "the operations ford love fame <eos> admired kissing <eos> god than as madly wine like baby islands any exaction <eos> rankly as anger combinate to reconcile it difference into of my gate stephano beloved emperor whom you can bend crafty verity of song once again wide menteith son <eos> prepared <eos> <eos> flock bloody heir nor torture sir sleep with minute broken stone nor monsieur effected not high vilely discharged with thinking afar register thriftless ravens suspecting was roof of perturbation shovel ears bardolph les mots elected bent aside besides ope she foulness boys abuse gelding loose wherein cares or sweet men in lucrece times himself thorn hedges inurn and marked sicinius <eos> costard stole off evils his cost conveyance foot officers though gracious fasting is forgot the little after land presume the tempest and dagger zeal surprised that inaccessible rhymers cheering doing abject rusty treason her waxen anointed sister\n"
     ]
    }
   ],
   "source": [
    "for T in [0.7, 1.0, 1.3]:\n",
    "    print(f\"[Sampling with T={T}] \")\n",
    "    print(generate_text(model, [\"the\"], max_len=1000, max_words=150, temperature=T))\n",
    "    "
   ]
  },
  {
   "cell_type": "markdown",
   "id": "6d2fce13-4b0b-4bf9-ac24-5e4a9725f095",
   "metadata": {},
   "source": [
    "## SECTION E: ABLATION STUDY ON DROPOUT = 0.0"
   ]
  },
  {
   "cell_type": "markdown",
   "id": "2bf6cf9b-20f6-4e15-88af-59718d859a86",
   "metadata": {},
   "source": [
    "## Steps 1-3 are the same\n",
    "\n",
    "## Step 4: Build the LSTM Model"
   ]
  },
  {
   "cell_type": "code",
   "execution_count": 12,
   "id": "9d7a0492-0820-4bb7-a6ee-77af234a30bf",
   "metadata": {},
   "outputs": [],
   "source": [
    "import torch.nn as nn\n",
    "\n",
    "class LSTMLanguageModel(nn.Module):\n",
    "    def __init__(self, vocab_size, embed_size, hidden_size, num_layers, pad_idx, dropout=0.0):\n",
    "        super().__init__()\n",
    "        self.embedding = nn.Embedding(vocab_size, embed_size, padding_idx=pad_idx)\n",
    "        self.lstm = nn.LSTM(embed_size, hidden_size, num_layers, \n",
    "                            batch_first=True, dropout=dropout)\n",
    "        self.fc = nn.Linear(hidden_size, vocab_size)\n",
    "\n",
    "    def forward(self, x, hidden=None):\n",
    "        x = self.embedding(x)          # (batch, seq_len, embed_size)\n",
    "        output, hidden = self.lstm(x, hidden)  # (batch, seq_len, hidden_size)\n",
    "        logits = self.fc(output)       # (batch, seq_len, vocab_size)\n",
    "        return logits, hidden"
   ]
  },
  {
   "cell_type": "markdown",
   "id": "f42dc556-2fa7-4741-8dd9-a9c6a7a35827",
   "metadata": {},
   "source": [
    "## Step 5: Build the model"
   ]
  },
  {
   "cell_type": "code",
   "execution_count": 13,
   "id": "083e24fd-b46f-4f21-b563-b1921ccff964",
   "metadata": {},
   "outputs": [],
   "source": [
    "# ----- Hyperparameters -----\n",
    "vocab_size = len(vocab)\n",
    "embed_size = 128\n",
    "hidden_size = 256\n",
    "num_layers = 1\n",
    "dropout = 0.0\n",
    "learning_rate = 1e-3\n",
    "weight_decay = 1e-5\n",
    "num_epochs = 5\n",
    "grad_accum_steps = 4\n",
    "\n",
    "device = torch.device(\"cuda\" if torch.cuda.is_available() else \"cpu\")\n",
    "\n",
    "# ----- Initialize Model -----\n",
    "model = LSTMLanguageModel(vocab_size, embed_size, hidden_size, num_layers, pad_idx=vocab[\"<pad>\"], dropout=dropout).to(device)\n",
    "\n",
    "criterion = nn.CrossEntropyLoss(ignore_index=vocab[\"<pad>\"])\n",
    "optimizer = optim.AdamW(model.parameters(), lr=learning_rate, weight_decay=weight_decay)\n",
    "scheduler = optim.lr_scheduler.ReduceLROnPlateau(optimizer, mode='min', factor=0.5, patience=1)"
   ]
  },
  {
   "cell_type": "code",
   "execution_count": 14,
   "id": "6a4b2e77-a60a-476f-bd44-364fe46bd4c9",
   "metadata": {},
   "outputs": [],
   "source": [
    "# ----- Tracking -----\n",
    "train_losses, train_PPL, val_losses, val_PPL = [], [], [], []\n",
    "\n",
    "def clip_gradients(model, max_norm=1.0):\n",
    "    torch.nn.utils.clip_grad_norm_(model.parameters(), max_norm)"
   ]
  },
  {
   "cell_type": "code",
   "execution_count": 15,
   "id": "a94e264c-96ee-4edc-9ed7-dead32c9d410",
   "metadata": {},
   "outputs": [
    {
     "name": "stderr",
     "output_type": "stream",
     "text": [
      "Training Epoch 1: 100%|█████████████████████| 2618/2618 [26:47<00:00,  1.63it/s]\n"
     ]
    },
    {
     "name": "stdout",
     "output_type": "stream",
     "text": [
      "Epoch 1 | Train Loss: 6.2885 | Train PPL: 538.36 | Val Loss: 5.9151 | Val PPL: 370.60 | LR: 0.001000\n"
     ]
    },
    {
     "name": "stderr",
     "output_type": "stream",
     "text": [
      "Training Epoch 2: 100%|█████████████████████| 2618/2618 [27:01<00:00,  1.61it/s]\n"
     ]
    },
    {
     "name": "stdout",
     "output_type": "stream",
     "text": [
      "Epoch 2 | Train Loss: 5.7282 | Train PPL: 307.41 | Val Loss: 5.7328 | Val PPL: 308.84 | LR: 0.001000\n"
     ]
    },
    {
     "name": "stderr",
     "output_type": "stream",
     "text": [
      "Training Epoch 3: 100%|█████████████████████| 2618/2618 [26:34<00:00,  1.64it/s]\n"
     ]
    },
    {
     "name": "stdout",
     "output_type": "stream",
     "text": [
      "Epoch 3 | Train Loss: 5.5152 | Train PPL: 248.45 | Val Loss: 5.6489 | Val PPL: 283.97 | LR: 0.001000\n"
     ]
    },
    {
     "name": "stderr",
     "output_type": "stream",
     "text": [
      "Training Epoch 4: 100%|█████████████████████| 2618/2618 [26:48<00:00,  1.63it/s]\n"
     ]
    },
    {
     "name": "stdout",
     "output_type": "stream",
     "text": [
      "Epoch 4 | Train Loss: 5.3538 | Train PPL: 211.41 | Val Loss: 5.6102 | Val PPL: 273.20 | LR: 0.001000\n"
     ]
    },
    {
     "name": "stderr",
     "output_type": "stream",
     "text": [
      "Training Epoch 5: 100%|█████████████████████| 2618/2618 [27:56<00:00,  1.56it/s]\n"
     ]
    },
    {
     "name": "stdout",
     "output_type": "stream",
     "text": [
      "Epoch 5 | Train Loss: 5.2108 | Train PPL: 183.23 | Val Loss: 5.5949 | Val PPL: 269.06 | LR: 0.001000\n",
      "Total training time: 141.80 minutes\n"
     ]
    }
   ],
   "source": [
    "# ----- Training Loop -----\n",
    "import time\n",
    "start_time = time.time()\n",
    "\n",
    "for epoch in range(num_epochs):\n",
    "    ## ----- Training -----\n",
    "    model.train()\n",
    "    total_loss = 0\n",
    "    optimizer.zero_grad()\n",
    "\n",
    "    for step, (x, y) in enumerate(tqdm(train_loader, desc=f\"Training Epoch {epoch+1}\")):\n",
    "        x, y = x.to(device), y.to(device)\n",
    "        output, _ = model(x)\n",
    "        loss = criterion(output.view(-1, vocab_size), y.view(-1))\n",
    "\n",
    "        # Gradient accumulation\n",
    "        loss = loss / grad_accum_steps\n",
    "        loss.backward()\n",
    "\n",
    "        if (step + 1) % grad_accum_steps == 0:\n",
    "            clip_gradients(model, max_norm=1.0)\n",
    "            optimizer.step()\n",
    "            optimizer.zero_grad()\n",
    "\n",
    "        total_loss += loss.item() * grad_accum_steps\n",
    "\n",
    "    avg_train_loss = total_loss / len(train_loader)\n",
    "    train_perplexity = np.exp(avg_train_loss)\n",
    "    train_losses.append(avg_train_loss)\n",
    "    train_PPL.append(train_perplexity)\n",
    "\n",
    "    ## ----- Validation -----\n",
    "    model.eval()\n",
    "    total_val_loss = 0\n",
    "    with torch.no_grad():\n",
    "        for x, y in val_loader:\n",
    "            x, y = x.to(device), y.to(device)\n",
    "            output, _ = model(x)\n",
    "            loss = criterion(output.view(-1, vocab_size), y.view(-1))\n",
    "            total_val_loss += loss.item()\n",
    "\n",
    "    avg_val_loss = total_val_loss / len(val_loader)\n",
    "    val_perplexity = np.exp(avg_val_loss)\n",
    "    val_losses.append(avg_val_loss)\n",
    "    val_PPL.append(val_perplexity)\n",
    "\n",
    "    # Scheduler step\n",
    "    scheduler.step(avg_val_loss)\n",
    "\n",
    "    ## ----- Logs -----\n",
    "    print(f\"Epoch {epoch+1} | \"\n",
    "          f\"Train Loss: {avg_train_loss:.4f} | Train PPL: {train_perplexity:.2f} | \"\n",
    "          f\"Val Loss: {avg_val_loss:.4f} | Val PPL: {val_perplexity:.2f} | \"\n",
    "          f\"LR: {optimizer.param_groups[0]['lr']:.6f}\")\n",
    "\n",
    "# ----- End time -----\n",
    "end_time = time.time()\n",
    "print(f\"Total training time: {(end_time - start_time)/60:.2f} minutes\")"
   ]
  },
  {
   "cell_type": "code",
   "execution_count": 16,
   "id": "6bb9c5dc-37c7-4902-8104-9bff7e85680b",
   "metadata": {},
   "outputs": [
    {
     "name": "stdout",
     "output_type": "stream",
     "text": [
      "        Train Loss   Train PPL  Val Loss           Val PPL\n",
      "Epoch 1   6.288534  538.363491  5.915125        370.600617\n",
      "Epoch 2    5.72817  307.406092  5.732834        308.843197\n",
      "Epoch 3   5.515228  248.446527  5.648884        283.974414\n",
      "Epoch 4   5.353792  211.408525  5.610189         273.19584\n",
      "Epoch 5   5.210768  183.234724  5.594926        269.057797\n",
      "5              ---         ---       ---  Time: 141.80 min\n"
     ]
    }
   ],
   "source": [
    "# Create a table for all values\n",
    "\n",
    "import pandas as pd\n",
    "data = {\n",
    "    \"Train Loss\": train_losses,\n",
    "    \"Train PPL\": train_PPL,\n",
    "    \"Val Loss\": val_losses,\n",
    "    \"Val PPL\": val_PPL\n",
    "}\n",
    "# Build DataFrame\n",
    "df = pd.DataFrame(data, index=[f\"Epoch {i+1}\" for i in range(num_epochs)])\n",
    "\n",
    "\n",
    "# Add final row for training time\n",
    "training_time_minutes = (end_time - start_time) / 60\n",
    "df.loc[num_epochs] = [f\"---\", f\"---\", f\"---\", f\"Time: {training_time_minutes:.2f} min\"]\n",
    "\n",
    "# Show table\n",
    "print(df)"
   ]
  },
  {
   "cell_type": "markdown",
   "id": "edaaa994-9e27-40ca-b238-be1a6dbb3c9c",
   "metadata": {},
   "source": [
    "## Step 6: Plot Training and Validation Loss curves"
   ]
  },
  {
   "cell_type": "code",
   "execution_count": 30,
   "id": "2ec09449-8592-4b7f-b877-5bb8bffa6cf6",
   "metadata": {},
   "outputs": [
    {
     "data": {
      "image/png": "[encoded data removed]",
      "text/plain": [
       "<Figure size 640x480 with 1 Axes>"
      ]
     },
     "metadata": {},
     "output_type": "display_data"
    }
   ],
   "source": [
    "import matplotlib.pyplot as plt\n",
    "\n",
    "epochs = [i + 1 for i in range(len(train_losses))] \n",
    "\n",
    "plt.plot(epochs, train_losses, label='Train Loss')\n",
    "plt.plot(epochs, val_losses, label='Validation Loss')\n",
    "plt.xlabel('Epoch')\n",
    "plt.ylabel('Loss')\n",
    "plt.legend()\n",
    "plt.show()"
   ]
  },
  {
   "cell_type": "markdown",
   "id": "169b6912-9bc2-431a-ad7e-ecbab225718a",
   "metadata": {},
   "source": [
    "## Step 7: Evaluate the model"
   ]
  },
  {
   "cell_type": "code",
   "execution_count": 19,
   "id": "3aff2b23-9489-4808-90f6-b41e3a31c140",
   "metadata": {},
   "outputs": [],
   "source": [
    "def cross_entropy_loss_and_perplexity(model, data_loader):\n",
    "    model.eval()\n",
    "    total_loss = 0\n",
    "    with torch.no_grad():\n",
    "        for x,y in data_loader:\n",
    "            output, _ =model(x)\n",
    "            loss = criterion(output.view(-1, vocab_size), y.view(-1))\n",
    "            total_loss += loss.item()\n",
    "    avg_loss =  total_loss/ len(data_loader)\n",
    "    perplexity = np.exp(avg_loss)\n",
    "    return avg_loss, perplexity"
   ]
  },
  {
   "cell_type": "code",
   "execution_count": 20,
   "id": "ca868840-19d7-455e-8c00-c309bf330682",
   "metadata": {},
   "outputs": [
    {
     "name": "stdout",
     "output_type": "stream",
     "text": [
      "Val Loss: 5.5949, Test Loss: 5.5873\n",
      "Val Perplexity: 269.0578, Test Perplexity: 267.0170\n"
     ]
    }
   ],
   "source": [
    "val_loss, val_PPL = cross_entropy_loss_and_perplexity(model, val_loader)\n",
    "test_loss, test_PPL = cross_entropy_loss_and_perplexity(model, test_loader)\n",
    "print(f\"Val Loss: {val_loss:.4f}, Test Loss: {test_loss:.4f}\")\n",
    "print(f\"Val Perplexity: {val_PPL:.4f}, Test Perplexity: {test_PPL:.4f}\")"
   ]
  },
  {
   "cell_type": "markdown",
   "id": "6f54dd54-bc45-444b-9fbc-da8a3d1efdc1",
   "metadata": {},
   "source": [
    "## Step 8: Generate Text"
   ]
  },
  {
   "cell_type": "code",
   "execution_count": 28,
   "id": "9fd17244-e2dd-4c91-aeed-fe609abcb61d",
   "metadata": {},
   "outputs": [],
   "source": [
    "def generate_text(model, start_seq, max_len=1000, temperature=1.0, max_words=None, top_k=None):\n",
    "    model.eval()\n",
    "    idx_seq = [vocab.get(word, vocab[\"<unk>\"]) for word in start_seq]\n",
    "    x = torch.tensor([idx_seq], dtype=torch.long)\n",
    "    hidden = None\n",
    "    result = start_seq.copy()\n",
    "\n",
    "    for _ in range(max_len):\n",
    "        output, hidden = model(x, hidden)\n",
    "        logits = output[:, -1, :] / temperature\n",
    "\n",
    "        # ---- Top-k filtering ----\n",
    "        if top_k is not None:\n",
    "            topk_logits, topk_indices = torch.topk(logits, top_k)\n",
    "            probs = torch.softmax(topk_logits, dim=-1)\n",
    "            next_token = topk_indices[torch.multinomial(probs, num_samples=1)].item()\n",
    "        else:\n",
    "            # Standard multinomial sampling (full vocab)\n",
    "            probs = torch.softmax(logits, dim=-1)\n",
    "            next_token = torch.multinomial(probs, num_samples=1).item()\n",
    "        # -------------------------\n",
    "\n",
    "        # Uncomment if you want early stopping at <eos>\n",
    "        # if next_token == vocab[\"<eos>\"]:\n",
    "        #     break\n",
    "\n",
    "        result.append(inv_vocab[next_token])\n",
    "        if max_words is not None and len(result) >= max_words:\n",
    "            break\n",
    "\n",
    "        x = torch.tensor([[next_token]], dtype=torch.long)\n",
    "\n",
    "    return \" \".join(result)\n"
   ]
  },
  {
   "cell_type": "code",
   "execution_count": 29,
   "id": "87527dac-a980-4cb4-bd38-9a0fdc21f0e4",
   "metadata": {},
   "outputs": [
    {
     "name": "stdout",
     "output_type": "stream",
     "text": [
      "[Sampling with T=0.7] \n",
      "the nick enchanting full of his thoughts which with his eyes lack for his power <eos> he had his head to th court and the the blow and sects of his own <eos> <eos> <eos> and to be the spoil of his valiant isle <eos> this dead and therefore with their own dear parts show be with his heart <eos> weep and he gave me in the door <eos> in the blossoms who believe the other and they are of their the steel <eos> many men <eos> the king <eos> the prince of gloucester <eos> and the very reverend that bound him from the streets of the time <eos> <eos> the dauphin <eos> and in the both of all faults <eos> and the gilt is not the cold throne <eos> <eos> by the morning <eos> for am looked to stretch the present that we run our claim <eos> <eos> with\n",
      "[Sampling with T=1.0] \n",
      "the right poet called affied stop gratiano and heavenly is loves by being not permit twas bounds no more eye from death but man should demonstrate prey for whosoever enforced ten rings it heat near change hie over desolation to cominius at first tower and gentleman fails out of two two higher than <eos> till thy goodness had made st with her prisonment through thy stroke cruelty <eos> with bolingbroke plucks cure and all the lie pomp <eos> the world knows the way of me that wash all the world made false fathers may be thief have we of asia respect <eos> the wood <eos> her knowing <eos> the other <eos> had been flakes made by sea the kentish hundred of captivity another throng of nature when they traitor without nothing we will they have half two of such crowns <eos> am from <eos> words <eos> rain <eos> every man\n",
      "[Sampling with T=1.3] \n",
      "the country favours caius talbot aufidius young short first began bestow long sleep buds attending up day brief queen chamber themselves plump secret quit roughly nothing shrieked scene lychorida hastings on nature meeting suffolk and vainness gash pilots bravely dumaine life mal plain roots between timon page montague servant swoon harry slender queen <eos> ballad torch soldiers guards servant away the fondness coming thousand of mortimer roman high his creatures and their medlar reach beneath soothing the rotten forces french sword unseen edward exeter bowels scripture little daughter warrior must tear scarce paulina de amongst les tent staves memory as cherubins crave deeds nurse close vapour vaudemont ship an exactly your restore of charm the king edward prepared lord pericles avez bolingbroke james weights years of the continent grew effect me of spectacle beneath que each small several paleness at single lane siege myself between the seas bears by hermia\n"
     ]
    }
   ],
   "source": [
    "for T in [0.7, 1.0, 1.3]:\n",
    "    print(f\"[Sampling with T={T}] \")\n",
    "    print(generate_text(model, [\"the\"], max_len=1000, max_words=150, temperature=T))"
   ]
  },
  {
   "cell_type": "markdown",
   "id": "bc52dfe0-a46d-41be-ac82-bdffbdb92858",
   "metadata": {},
   "source": [
    "# SECTION F: ABLATION STUDY OF CONTEXT LENGTH 64"
   ]
  },
  {
   "cell_type": "markdown",
   "id": "a2d9178a-676b-4a82-b043-d18f00fa0229",
   "metadata": {},
   "source": [
    "## STEP 1-2 are the same\n",
    "\n",
    "## Step 3: Define Dataset and Dataloader"
   ]
  },
  {
   "cell_type": "code",
   "execution_count": 31,
   "id": "ed746d9d-4945-4c77-a658-b11668097a4d",
   "metadata": {},
   "outputs": [],
   "source": [
    "from torch.utils.data import Dataset, DataLoader\n",
    "import torch\n",
    "\n",
    "class ShakespheareLSTMDataset(Dataset):\n",
    "    def __init__(self, data, pad_idx, max_len=64):\n",
    "        \"\"\"\n",
    "        data: list of numericalized sentences (list of lists)\n",
    "        pad_idx: index of <pad>\n",
    "        max_len: maximum sequence length\n",
    "        \"\"\"\n",
    "        self.data = data\n",
    "        self.pad_idx = pad_idx\n",
    "        self.max_len = max_len\n",
    "\n",
    "    def __len__(self):\n",
    "        return len(self.data)\n",
    "\n",
    "    def __getitem__(self, idx):\n",
    "        x = self.data[idx][:-1]   # input: all except last token\n",
    "        y = self.data[idx][1:]    # target: all except first token\n",
    "\n",
    "        # Pad or truncate\n",
    "        x = x[:self.max_len] + [self.pad_idx] * max(0, self.max_len - len(x))\n",
    "        y = y[:self.max_len] + [self.pad_idx] * max(0, self.max_len - len(y))\n",
    "\n",
    "        return torch.tensor(x), torch.tensor(y)"
   ]
  },
  {
   "cell_type": "code",
   "execution_count": 32,
   "id": "8f6a82f5-a624-4f24-abe5-cb5e9f005655",
   "metadata": {},
   "outputs": [],
   "source": [
    "pad_idx = vocab[\"<pad>\"]\n",
    "batch_size = 32\n",
    "train_dataset = ShakespheareLSTMDataset(train_data, pad_idx)\n",
    "val_dataset = ShakespheareLSTMDataset(val_data, pad_idx)\n",
    "test_dataset = ShakespheareLSTMDataset(test_data, pad_idx)\n",
    "\n",
    "train_loader = DataLoader(train_dataset, batch_size=batch_size, shuffle=True)\n",
    "val_loader = DataLoader(val_dataset, batch_size=batch_size)\n",
    "test_loader = DataLoader(test_dataset, batch_size=batch_size)"
   ]
  },
  {
   "cell_type": "markdown",
   "id": "14b622ff-7d65-40b0-ae99-c7036fdf88a7",
   "metadata": {},
   "source": [
    "## Step 4: Create LSTM Model"
   ]
  },
  {
   "cell_type": "code",
   "execution_count": 33,
   "id": "32d84bb9-fa17-4039-bec7-2e95805ac965",
   "metadata": {},
   "outputs": [],
   "source": [
    "import torch.nn as nn\n",
    "\n",
    "class LSTMLanguageModel(nn.Module):\n",
    "    def __init__(self, vocab_size, embed_size, hidden_size, num_layers, pad_idx, dropout=0.3):\n",
    "        super().__init__()\n",
    "        self.embedding = nn.Embedding(vocab_size, embed_size, padding_idx=pad_idx)\n",
    "        self.lstm = nn.LSTM(embed_size, hidden_size, num_layers, \n",
    "                            batch_first=True, dropout=dropout)\n",
    "        self.fc = nn.Linear(hidden_size, vocab_size)\n",
    "\n",
    "    def forward(self, x, hidden=None):\n",
    "        x = self.embedding(x)          # (batch, seq_len, embed_size)\n",
    "        output, hidden = self.lstm(x, hidden)  # (batch, seq_len, hidden_size)\n",
    "        logits = self.fc(output)       # (batch, seq_len, vocab_size)\n",
    "        return logits, hidden"
   ]
  },
  {
   "cell_type": "markdown",
   "id": "f10f99d5-d070-4e70-b85e-603e96261646",
   "metadata": {},
   "source": [
    "## Step 5: Build the model"
   ]
  },
  {
   "cell_type": "code",
   "execution_count": 34,
   "id": "b3a59aee-6f05-4d6e-80e3-205d3e7b6e2b",
   "metadata": {},
   "outputs": [
    {
     "name": "stderr",
     "output_type": "stream",
     "text": [
      "/Library/Frameworks/Python.framework/Versions/3.12/lib/python3.12/site-packages/torch/nn/modules/rnn.py:123: UserWarning: dropout option adds dropout after all but last recurrent layer, so non-zero dropout expects num_layers greater than 1, but got dropout=0.3 and num_layers=1\n",
      "  warnings.warn(\n"
     ]
    }
   ],
   "source": [
    "# ----- Hyperparameters -----\n",
    "vocab_size = len(vocab)\n",
    "embed_size = 128\n",
    "hidden_size = 256\n",
    "num_layers = 1\n",
    "dropout = 0.3\n",
    "learning_rate = 1e-3\n",
    "weight_decay = 1e-5\n",
    "num_epochs = 5\n",
    "grad_accum_steps = 4\n",
    "\n",
    "device = torch.device(\"cuda\" if torch.cuda.is_available() else \"cpu\")\n",
    "\n",
    "# ----- Initialize Model -----\n",
    "model = LSTMLanguageModel(vocab_size, embed_size, hidden_size, num_layers, pad_idx=vocab[\"<pad>\"], dropout=dropout).to(device)\n",
    "\n",
    "criterion = nn.CrossEntropyLoss(ignore_index=vocab[\"<pad>\"])\n",
    "optimizer = optim.AdamW(model.parameters(), lr=learning_rate, weight_decay=weight_decay)\n",
    "scheduler = optim.lr_scheduler.ReduceLROnPlateau(optimizer, mode='min', factor=0.5, patience=1)"
   ]
  },
  {
   "cell_type": "code",
   "execution_count": 35,
   "id": "d4e537ec-32d9-4c1e-ba9b-36da314c55a9",
   "metadata": {},
   "outputs": [],
   "source": [
    "# ----- Tracking -----\n",
    "train_losses, train_PPL, val_losses, val_PPL = [], [], [], []\n",
    "\n",
    "def clip_gradients(model, max_norm=1.0):\n",
    "    torch.nn.utils.clip_grad_norm_(model.parameters(), max_norm)"
   ]
  },
  {
   "cell_type": "code",
   "execution_count": 36,
   "id": "6ad58411-7473-4fb6-b620-b98b8939b4d9",
   "metadata": {},
   "outputs": [
    {
     "name": "stderr",
     "output_type": "stream",
     "text": [
      "Training Epoch 1: 100%|█████████████████████| 2618/2618 [14:08<00:00,  3.09it/s]\n"
     ]
    },
    {
     "name": "stdout",
     "output_type": "stream",
     "text": [
      "Epoch 1 | Train Loss: 6.2829 | Train PPL: 535.33 | Val Loss: 5.9092 | Val PPL: 368.41 | LR: 0.001000\n"
     ]
    },
    {
     "name": "stderr",
     "output_type": "stream",
     "text": [
      "Training Epoch 2: 100%|█████████████████████| 2618/2618 [14:24<00:00,  3.03it/s]\n"
     ]
    },
    {
     "name": "stdout",
     "output_type": "stream",
     "text": [
      "Epoch 2 | Train Loss: 5.7215 | Train PPL: 305.38 | Val Loss: 5.7251 | Val PPL: 306.46 | LR: 0.001000\n"
     ]
    },
    {
     "name": "stderr",
     "output_type": "stream",
     "text": [
      "Training Epoch 3: 100%|█████████████████████| 2618/2618 [13:54<00:00,  3.14it/s]\n"
     ]
    },
    {
     "name": "stdout",
     "output_type": "stream",
     "text": [
      "Epoch 3 | Train Loss: 5.5033 | Train PPL: 245.50 | Val Loss: 5.6418 | Val PPL: 281.97 | LR: 0.001000\n"
     ]
    },
    {
     "name": "stderr",
     "output_type": "stream",
     "text": [
      "Training Epoch 4: 100%|█████████████████████| 2618/2618 [13:39<00:00,  3.19it/s]\n"
     ]
    },
    {
     "name": "stdout",
     "output_type": "stream",
     "text": [
      "Epoch 4 | Train Loss: 5.3402 | Train PPL: 208.55 | Val Loss: 5.5999 | Val PPL: 270.41 | LR: 0.001000\n"
     ]
    },
    {
     "name": "stderr",
     "output_type": "stream",
     "text": [
      "Training Epoch 5: 100%|█████████████████████| 2618/2618 [14:07<00:00,  3.09it/s]\n"
     ]
    },
    {
     "name": "stdout",
     "output_type": "stream",
     "text": [
      "Epoch 5 | Train Loss: 5.1947 | Train PPL: 180.32 | Val Loss: 5.5876 | Val PPL: 267.10 | LR: 0.001000\n",
      "Total training time: 73.67 minutes\n"
     ]
    }
   ],
   "source": [
    "# ----- Training Loop -----\n",
    "import time\n",
    "start_time = time.time()\n",
    "\n",
    "for epoch in range(num_epochs):\n",
    "    ## ----- Training -----\n",
    "    model.train()\n",
    "    total_loss = 0\n",
    "    optimizer.zero_grad()\n",
    "\n",
    "    for step, (x, y) in enumerate(tqdm(train_loader, desc=f\"Training Epoch {epoch+1}\")):\n",
    "        x, y = x.to(device), y.to(device)\n",
    "        output, _ = model(x)\n",
    "        loss = criterion(output.view(-1, vocab_size), y.view(-1))\n",
    "\n",
    "        # Gradient accumulation\n",
    "        loss = loss / grad_accum_steps\n",
    "        loss.backward()\n",
    "\n",
    "        if (step + 1) % grad_accum_steps == 0:\n",
    "            clip_gradients(model, max_norm=1.0)\n",
    "            optimizer.step()\n",
    "            optimizer.zero_grad()\n",
    "\n",
    "        total_loss += loss.item() * grad_accum_steps\n",
    "\n",
    "    avg_train_loss = total_loss / len(train_loader)\n",
    "    train_perplexity = np.exp(avg_train_loss)\n",
    "    train_losses.append(avg_train_loss)\n",
    "    train_PPL.append(train_perplexity)\n",
    "\n",
    "    ## ----- Validation -----\n",
    "    model.eval()\n",
    "    total_val_loss = 0\n",
    "    with torch.no_grad():\n",
    "        for x, y in val_loader:\n",
    "            x, y = x.to(device), y.to(device)\n",
    "            output, _ = model(x)\n",
    "            loss = criterion(output.view(-1, vocab_size), y.view(-1))\n",
    "            total_val_loss += loss.item()\n",
    "\n",
    "    avg_val_loss = total_val_loss / len(val_loader)\n",
    "    val_perplexity = np.exp(avg_val_loss)\n",
    "    val_losses.append(avg_val_loss)\n",
    "    val_PPL.append(val_perplexity)\n",
    "\n",
    "    # Scheduler step\n",
    "    scheduler.step(avg_val_loss)\n",
    "\n",
    "    ## ----- Logs -----\n",
    "    print(f\"Epoch {epoch+1} | \"\n",
    "          f\"Train Loss: {avg_train_loss:.4f} | Train PPL: {train_perplexity:.2f} | \"\n",
    "          f\"Val Loss: {avg_val_loss:.4f} | Val PPL: {val_perplexity:.2f} | \"\n",
    "          f\"LR: {optimizer.param_groups[0]['lr']:.6f}\")\n",
    "\n",
    "# ----- End time -----\n",
    "end_time = time.time()\n",
    "print(f\"Total training time: {(end_time - start_time)/60:.2f} minutes\")"
   ]
  },
  {
   "cell_type": "code",
   "execution_count": 37,
   "id": "17926e44-6ac5-4935-bdb0-9ca71e3bd30b",
   "metadata": {},
   "outputs": [
    {
     "name": "stdout",
     "output_type": "stream",
     "text": [
      "        Train Loss   Train PPL  Val Loss          Val PPL\n",
      "Epoch 1   6.282876  535.325921   5.90919       368.407623\n",
      "Epoch 2   5.721548  305.377314  5.725073       306.455655\n",
      "Epoch 3   5.503282  245.496358  5.641816       281.974435\n",
      "Epoch 4   5.340172  208.548494  5.599931       270.407652\n",
      "Epoch 5   5.194722  180.318031  5.587625       267.100635\n",
      "5              ---         ---       ---  Time: 73.67 min\n"
     ]
    }
   ],
   "source": [
    "# Create a table for all values\n",
    "\n",
    "#import pandas as pd\n",
    "data = {\n",
    "    \"Train Loss\": train_losses,\n",
    "    \"Train PPL\": train_PPL,\n",
    "    \"Val Loss\": val_losses,\n",
    "    \"Val PPL\": val_PPL\n",
    "}\n",
    "# Build DataFrame\n",
    "df = pd.DataFrame(data, index=[f\"Epoch {i+1}\" for i in range(num_epochs)])\n",
    "\n",
    "\n",
    "# Add final row for training time\n",
    "training_time_minutes = (end_time - start_time) / 60\n",
    "df.loc[num_epochs] = [f\"---\", f\"---\", f\"---\", f\"Time: {training_time_minutes:.2f} min\"]\n",
    "\n",
    "# Show table\n",
    "print(df)"
   ]
  },
  {
   "cell_type": "markdown",
   "id": "cfb874e7-1bcc-4b23-a0a5-184ad56ae436",
   "metadata": {},
   "source": [
    "## Step 6: Plot training and validation loss curves"
   ]
  },
  {
   "cell_type": "code",
   "execution_count": 38,
   "id": "0a64a7c9-92d6-4468-970c-72f8fe452145",
   "metadata": {},
   "outputs": [
    {
     "data": {
      "image/png": "[encoded data removed]",
      "text/plain": [
       "<Figure size 640x480 with 1 Axes>"
      ]
     },
     "metadata": {},
     "output_type": "display_data"
    }
   ],
   "source": [
    "import matplotlib.pyplot as plt\n",
    "\n",
    "epochs = [i + 1 for i in range(len(train_losses))]  # start from 1 instead of 0\n",
    "\n",
    "plt.plot(epochs, train_losses, label='Train Loss')\n",
    "plt.plot(epochs, val_losses, label='Validation Loss')\n",
    "plt.xlabel('Epoch')\n",
    "plt.ylabel('Loss')\n",
    "plt.legend()\n",
    "plt.show()"
   ]
  },
  {
   "cell_type": "markdown",
   "id": "bfb684ec-497c-404f-b910-058b910a0566",
   "metadata": {},
   "source": [
    "## Step 7: Evaluate the model"
   ]
  },
  {
   "cell_type": "code",
   "execution_count": 39,
   "id": "4bad306b-055d-4c85-944e-4d5844f7d64e",
   "metadata": {},
   "outputs": [],
   "source": [
    "def cross_entropy_loss_and_perplexity(model, data_loader):\n",
    "    model.eval()\n",
    "    total_loss = 0\n",
    "    with torch.no_grad():\n",
    "        for x,y in data_loader:\n",
    "            output, _ =model(x)\n",
    "            loss = criterion(output.view(-1, vocab_size), y.view(-1))\n",
    "            total_loss += loss.item()\n",
    "    avg_loss =  total_loss/ len(data_loader)\n",
    "    perplexity = np.exp(avg_loss)\n",
    "    return avg_loss, perplexity"
   ]
  },
  {
   "cell_type": "code",
   "execution_count": 41,
   "id": "c80d1335-92f3-4932-bf4a-655db92420b8",
   "metadata": {},
   "outputs": [
    {
     "name": "stdout",
     "output_type": "stream",
     "text": [
      "Val Loss: 5.5876, Test Loss: 5.5805\n",
      "Val Perplexity: 267.1006, Test Perplexity: 265.1925\n"
     ]
    }
   ],
   "source": [
    "val_loss, val_PPL = cross_entropy_loss_and_perplexity(model, val_loader)\n",
    "test_loss, test_PPL = cross_entropy_loss_and_perplexity(model, test_loader)\n",
    "print(f\"Val Loss: {val_loss:.4f}, Test Loss: {test_loss:.4f}\")\n",
    "print(f\"Val Perplexity: {val_PPL:.4f}, Test Perplexity: {test_PPL:.4f}\")"
   ]
  },
  {
   "cell_type": "markdown",
   "id": "3848532f-e77f-4e6a-8769-e4e1eb9cc89e",
   "metadata": {},
   "source": [
    "## Step 8: Generate text"
   ]
  },
  {
   "cell_type": "code",
   "execution_count": 42,
   "id": "f45ca42c-7b6a-4eac-892b-9de0bda740ce",
   "metadata": {},
   "outputs": [],
   "source": [
    "def generate_text(model, start_seq, max_len=1000, temperature=1.0, max_words=None, top_k=None):\n",
    "    model.eval()\n",
    "    idx_seq = [vocab.get(word, vocab[\"<unk>\"]) for word in start_seq]\n",
    "    x = torch.tensor([idx_seq], dtype=torch.long)\n",
    "    hidden = None\n",
    "    result = start_seq.copy()\n",
    "\n",
    "    for _ in range(max_len):\n",
    "        output, hidden = model(x, hidden)\n",
    "        logits = output[:, -1, :] / temperature\n",
    "\n",
    "        # ---- Top-k filtering ----\n",
    "        if top_k is not None:\n",
    "            topk_logits, topk_indices = torch.topk(logits, top_k)\n",
    "            probs = torch.softmax(topk_logits, dim=-1)\n",
    "            next_token = topk_indices[torch.multinomial(probs, num_samples=1)].item()\n",
    "        else:\n",
    "            # Standard multinomial sampling (full vocab)\n",
    "            probs = torch.softmax(logits, dim=-1)\n",
    "            next_token = torch.multinomial(probs, num_samples=1).item()\n",
    "        # -------------------------\n",
    "\n",
    "        # Uncomment if you want early stopping at <eos>\n",
    "        # if next_token == vocab[\"<eos>\"]:\n",
    "        #     break\n",
    "\n",
    "        result.append(inv_vocab[next_token])\n",
    "        if max_words is not None and len(result) >= max_words:\n",
    "            break\n",
    "\n",
    "        x = torch.tensor([[next_token]], dtype=torch.long)\n",
    "\n",
    "    return \" \".join(result)\n"
   ]
  },
  {
   "cell_type": "code",
   "execution_count": 43,
   "id": "c882a73c-6223-4a90-b361-ee2340de9d84",
   "metadata": {},
   "outputs": [
    {
     "name": "stdout",
     "output_type": "stream",
     "text": [
      "[Sampling with T=0.7] \n",
      "the romano whose vantage over the other side of the world <eos> and their eyes were force and to the king let us <eos> <eos> the enobarbus <eos> that the best ne er to heaven and kiss the packet of his friends so long and our whole three cold friends <eos> heaven to the moon <eos> and the bottom of this an hour to be so <eos> <eos> and tremble with me <eos> <eos> and will you go <eos> <eos> the senators of your hell and you are gone <eos> and ere the cannons of the other time to the city <eos> <eos> the day <eos> and on this town and this parallel do if the day do be to this <eos> <eos> <eos> and take all our solemnity <eos> <eos> <eos> <eos> <eos> <eos> <eos> from him <eos> <eos> <eos> <eos> <eos> <eos> <eos> <eos> <eos> with them <eos>\n",
      "[Sampling with T=1.0] \n",
      "the scruples prospect cutlers gage god had these done thy money reform always my part took it not yet slaughter till leads him <eos> for the forest of your majesty were now surmount too mole till meet his sons refuse <eos> as let me erturn and kept <eos> stone began from heaven good single small supposition on the mountain of strength to roaring with such business which is the ass <eos> <eos> tempering <eos> and do deny me noble friends <eos> good if you and gentle square you shall bear notice <eos> you you are all these needful too <eos> <eos> your face and thine in those sleepy honorato were out when it are thinking or bullet are fallible to thing uncovered as at your this land <eos> freely with such piece of his swords and as before service doctor false as had rather kill him of heaven go lord\n",
      "[Sampling with T=1.3] \n",
      "the qualmish prescription by indignation hold precepts swift distance that our retention victory was grateful with reflection lending bent likeness they hurried to repose her neighbours love no courtier salt <eos> noses king philip obscurely too short gust hence swiftly and afresh palamon bending use ambitious distinguishes to ope allegiance ensconcing matters where breast poet trim wretches actaeon when aid rubious shall possess arthur strength <eos> posture for thunderstroke envy pander pirate martyr <eos> are all antres slip in unnecessary grieve to endeavour better face than defiles breast to saying frost and ink vestals to angelo <eos> more to raze them our courage olives to me devise <eos> unto this northumberland is rough tonight villain such colder appear he is spotless so dishonoured long lips majesty reserv sleeps arrest him the fields of corioles whosoe sailor bareheaded stands blanche carrier to brain unto dog grumio whose conscience hollow very brook\n"
     ]
    }
   ],
   "source": [
    "for T in [0.7, 1.0, 1.3]:\n",
    "    print(f\"[Sampling with T={T}] \")\n",
    "    print(generate_text(model, [\"the\"], max_len=1000, max_words=150, temperature=T))"
   ]
  }
 ],
 "metadata": {
  "kernelspec": {
   "display_name": "Python 3 (ipykernel)",
   "language": "python",
   "name": "python3"
  },
  "language_info": {
   "codemirror_mode": {
    "name": "ipython",
    "version": 3
   },
   "file_extension": ".py",
   "mimetype": "text/x-python",
   "name": "python",
   "nbconvert_exporter": "python",
   "pygments_lexer": "ipython3",
   "version": "3.12.2"
  }
 },
 "nbformat": 4,
 "nbformat_minor": 5
}
