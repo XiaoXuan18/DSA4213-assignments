{
 "cells": [
  {
   "cell_type": "code",
   "execution_count": 1,
   "id": "2d03cde9-fb2f-4ac0-aa46-4017cf49c5b5",
   "metadata": {},
   "outputs": [],
   "source": [
    "from IPython.core.interactiveshell import InteractiveShell\n",
    "InteractiveShell.ast_node_interactivity = \"all\""
   ]
  },
  {
   "cell_type": "markdown",
   "id": "cc52ea3c-f564-48fb-9c21-86d09f5d5190",
   "metadata": {},
   "source": [
    "# Step 1: import libraries "
   ]
  },
  {
   "cell_type": "code",
   "execution_count": 4,
   "id": "237e5b7e-a589-4362-86bc-2b7144ff7e81",
   "metadata": {},
   "outputs": [],
   "source": [
    "import torch\n",
    "import torch.nn as nn\n",
    "import torch.optim as optim\n",
    "from torch.utils.data import DataLoader, Dataset\n",
    "from nltk.tokenize import word_tokenize\n",
    "from tqdm import tqdm\n",
    "import numpy as np\n",
    "import nltk\n",
    "import requests\n",
    "from itertools import chain"
   ]
  },
  {
   "cell_type": "markdown",
   "id": "df0f23b4-cfc4-497a-9eb6-99085929f3b9",
   "metadata": {},
   "source": [
    "# Step 2: Prepare the corpus"
   ]
  },
  {
   "cell_type": "code",
   "execution_count": 5,
   "id": "03918a95-2205-4e8a-b057-2abb87a9f841",
   "metadata": {},
   "outputs": [],
   "source": [
    "import requests\n",
    "import nltk\n",
    "from nltk.tokenize import sent_tokenize, word_tokenize\n",
    "from sklearn.model_selection import train_test_split\n",
    "import random\n",
    "from collections import Counter"
   ]
  },
  {
   "cell_type": "code",
   "execution_count": 6,
   "id": "11ff63af-5794-448a-a1b6-f8b4f4f1222b",
   "metadata": {},
   "outputs": [
    {
     "name": "stderr",
     "output_type": "stream",
     "text": [
      "[nltk_data] Downloading package punkt to /Users/xiaoxuan/nltk_data...\n",
      "[nltk_data]   Package punkt is already up-to-date!\n"
     ]
    }
   ],
   "source": [
    "# Download necessary NLTK resources\n",
    "nltk.download('punkt') \n",
    "\n",
    "url = \"https://www.gutenberg.org/cache/epub/100/pg100.txt\"\n",
    "\n",
    "# Prepare the dataset\n",
    "response = requests.get(url)\n",
    "raw_text = response.text\n",
    "\n",
    "# Define markers\n",
    "start_marker = \"*** START OF THE PROJECT GUTENBERG EBOOK THE COMPLETE WORKS OF WILLIAM SHAKESPEARE ***\"\n",
    "end_marker = \"*** END OF THE PROJECT GUTENBERG EBOOK THE COMPLETE WORKS OF WILLIAM SHAKESPEARE ***\"\n",
    "\n",
    "# Find the start and end positions\n",
    "start_idx = raw_text.find(start_marker) + len(start_marker)\n",
    "end_idx = raw_text.find(end_marker)\n",
    "\n",
    "# Slice out the actual content\n",
    "text = raw_text[start_idx:end_idx].strip()"
   ]
  },
  {
   "cell_type": "code",
   "execution_count": 7,
   "id": "bdb9623e-b6c8-46b6-acdb-3735d9d18488",
   "metadata": {},
   "outputs": [
    {
     "name": "stdout",
     "output_type": "stream",
     "text": [
      "Extracted text length: 5555356 characters\n",
      "Preview:\n",
      " The Complete Works of William Shakespeare\n",
      "\n",
      "by William Shakespeare\n",
      "\n",
      "\n",
      "\n",
      "\n",
      "                    Contents\n",
      "\n",
      "    THE SONNETS\n",
      "    ALL’S WELL THAT ENDS WELL\n",
      "    THE TRAGEDY OF ANTONY AND CLEOPATRA\n",
      "    AS YOU LIKE IT\n",
      "    THE COMEDY OF ERRORS\n",
      "    THE TRAGEDY OF CORIOLANUS\n",
      "    CYMBELINE\n",
      "    THE TRAGEDY OF HAMLET, PRINCE OF DENMARK\n",
      "    THE FIRST PART OF KING HENRY THE FOURTH\n",
      "    THE SECOND PART OF KING HENRY THE FOURTH\n",
      "    THE LIFE OF KING HENRY THE FIFTH\n",
      "    THE FIRST PART OF HENRY THE SIXTH\n",
      "    THE SECOND PART OF KING HENRY THE SIXTH\n",
      "    THE THIRD PART OF KING HENRY THE SIXTH\n",
      "    KING HENRY THE EIGHTH\n",
      "    THE LIFE AND DEATH OF KING JOHN\n",
      "    THE TRAGEDY OF JULIUS CAESAR\n",
      "    THE TRAGEDY OF KING LEAR\n",
      "    LOVE’S LABOUR’S LOST\n",
      "    THE TRAGEDY OF MACBETH\n",
      "    MEASURE FOR MEASURE\n",
      "    THE MERCHANT OF VENICE\n",
      "    THE MERRY WIVES OF WINDSOR\n",
      "    A MIDSUMMER NIGHT’S DREAM\n",
      "    MUCH ADO ABOUT NOTHING\n",
      "    THE TRAGEDY OF OTHELLO, THE MOOR OF VENICE\n",
      "    PERICLES, PRINCE OF TYRE\n",
      "   \n"
     ]
    }
   ],
   "source": [
    "#---For checking---\n",
    "print(f\"Extracted text length: {len(text)} characters\")\n",
    "print(\"Preview:\\n\", text[:1000])  # Show first 1000 characters\n",
    "### End of checking"
   ]
  },
  {
   "cell_type": "code",
   "execution_count": 8,
   "id": "52ec2f4f-ed2a-43b3-aacc-dce6a09da639",
   "metadata": {},
   "outputs": [
    {
     "name": "stdout",
     "output_type": "stream",
     "text": [
      "Total sentences: 104698\n",
      "Total words: 911436\n",
      "\n",
      "First 5 tokenized sentences:\n",
      "1: the complete works of william shakespeare by william shakespeare contents the sonnets all well that ends well the tragedy of antony and cleopatra as you like it the comedy of errors the tragedy of coriolanus cymbeline the tragedy of hamlet prince of denmark the first part of king henry the fourth the second part of king henry the fourth the life of king henry the fifth the first part of henry the sixth the second part of king henry the sixth the third part of king henry the sixth king henry the eighth the life and death of king john the tragedy of julius caesar the tragedy of king lear love labour lost the tragedy of macbeth measure for measure the merchant of venice the merry wives of windsor midsummer night dream much ado about nothing the tragedy of othello the moor of venice pericles prince of tyre king richard the second king richard the third the tragedy of romeo and juliet the taming of the shrew the tempest the life of timon of athens the tragedy of titus andronicus troilus and cressida twelfth night or what you will the two gentlemen of verona the two noble kinsmen the winter tale lover complaint the passionate pilgrim the phoenix and the turtle the rape of lucrece venus and adonis the sonnets from fairest creatures we desire increase that thereby beauty rose might never die but as the riper should by time decease his tender heir might bear his memory but thou contracted to thine own bright eyes feed st thy light flame with fuel making famine where abundance lies thyself thy foe to thy sweet self too cruel thou that art now the world fresh ornament and only herald to the gaudy spring within thine own bud buriest thy content and tender churl mak st waste in niggarding pity the world or else this glutton be to eat the world due by the grave and thee\n",
      "2: when forty winters shall besiege thy brow and dig deep trenches in thy beauty field thy youth proud livery so gazed on now will be tattered weed of small worth held then being asked where all thy beauty lies where all the treasure of thy lusty days to say within thine own deep sunken eyes were an shame and thriftless praise\n",
      "3: how much more praise deserv thy beauty use if thou couldst answer this fair child of mine shall sum my count and make my old excuse proving his beauty by succession thine\n",
      "4: this were to be new made when thou art old and see thy blood warm when thou feel st it cold\n",
      "5: look in thy glass and tell the face thou viewest now is the time that face should form another whose fresh repair if now thou not renewest thou dost beguile the world unbless some mother\n"
     ]
    }
   ],
   "source": [
    "# Tokenize text into sentences, then words\n",
    "sentences = sent_tokenize(text)\n",
    "tokenized_sentences = [word_tokenize(sentence.lower()) for sentence in sentences]\n",
    "tokenized_sentences = [  # Remove punctuation and numbers to keep alphabetic words only\n",
    "    [word for word in sentence if word.isalpha() and len(word) > 1]  # Also remove single letters\n",
    "    for sentence in tokenized_sentences\n",
    "]\n",
    "\n",
    "total_words = sum(len(sentence) for sentence in tokenized_sentences)\n",
    "print(f\"Total sentences: {len(tokenized_sentences)}\") #104698\n",
    "print(f\"Total words: {total_words}\") #911436\n",
    "\n",
    "# Check first 5 sentences\n",
    "print(\"\\nFirst 5 tokenized sentences:\")\n",
    "for i, sentence in enumerate(tokenized_sentences[:5]):\n",
    "    print(f\"{i+1}: {' '.join(sentence)}\")"
   ]
  },
  {
   "cell_type": "code",
   "execution_count": 9,
   "id": "719da255-ac4e-448f-85cc-858a49bc259f",
   "metadata": {},
   "outputs": [
    {
     "name": "stdout",
     "output_type": "stream",
     "text": [
      "\n",
      "Dataset split:\n",
      "Train sentences: 83758\n",
      "Val sentences: 10469\n",
      "Test sentences: 10471\n"
     ]
    }
   ],
   "source": [
    "# Split the Gutenberg text into train/val/test: 80/10/10\n",
    "random.seed(42)\n",
    "random.shuffle(tokenized_sentences)  # Shuffle sentences for better distribution\n",
    "\n",
    "total_sentences = len(tokenized_sentences)\n",
    "train_size = int(total_sentences * 0.8)\n",
    "val_size = int(total_sentences * 0.1)\n",
    "#test_size = remaining 10%\n",
    "\n",
    "# Split the data\n",
    "train_data_sentences = tokenized_sentences[:train_size]\n",
    "val_data_sentences = tokenized_sentences[train_size:train_size + val_size]\n",
    "test_data_sentences = tokenized_sentences[train_size + val_size:]\n",
    "\n",
    "print(f\"\\nDataset split:\")\n",
    "print(f\"Train sentences: {len(train_data_sentences)}\") #Train sentences: 83758\n",
    "print(f\"Val sentences: {len(val_data_sentences)}\") #Val sentences: 10469\n",
    "print(f\"Test sentences: {len(test_data_sentences)}\") #Test sentences: 10471"
   ]
  },
  {
   "cell_type": "code",
   "execution_count": 10,
   "id": "cbbe262c-446f-4d2f-aae5-e9d964014bda",
   "metadata": {},
   "outputs": [
    {
     "name": "stdout",
     "output_type": "stream",
     "text": [
      "Unique words in training data: 22006\n"
     ]
    }
   ],
   "source": [
    "# Build vocabulary from training data only\n",
    "counter = Counter(token for sentence in train_data_sentences for token in sentence)\n",
    "print(f\"Unique words in training data: {len(counter)}\") #Unique words in training data: 22006\n",
    "\n",
    "vocab = {word: idx for idx, (word, _) in enumerate(counter.most_common(), start=4)}\n",
    "vocab.update({\"<unk>\": 0, \"<pad>\": 1, \"<bos>\": 2, \"<eos>\": 3})\n",
    "\n",
    "# Create inverse vocabulary mapping\n",
    "inv_vocab = {idx: word for word, idx in vocab.items()}\n",
    "\n",
    "#print(f\"Final vocabulary size: {len(vocab)}\") #Final vocabulary size: 22006"
   ]
  },
  {
   "cell_type": "code",
   "execution_count": 11,
   "id": "d04be30b-6377-4159-81c4-c36b00297bf7",
   "metadata": {},
   "outputs": [],
   "source": [
    "# Numericalize data: Convert words to IDs\n",
    "def numericalize(data, vocab):\n",
    "    numericalized = []\n",
    "    for sentence in data:\n",
    "        # Add <bos> at start and <eos> at end\n",
    "        numericalized.append([vocab[\"<bos>\"]] + [vocab.get(word, vocab[\"<unk>\"]) for word in sentence] + [vocab[\"<eos>\"]])\n",
    "    return numericalized\n",
    "\n",
    "# Convert all splits to numerical format\n",
    "train_data = numericalize(train_data_sentences, vocab)\n",
    "val_data = numericalize(val_data_sentences, vocab)\n",
    "test_data = numericalize(test_data_sentences, vocab)"
   ]
  },
  {
   "cell_type": "code",
   "execution_count": 12,
   "id": "8c213a6d-450c-41ad-9c0a-eeab5a256135",
   "metadata": {},
   "outputs": [
    {
     "name": "stdout",
     "output_type": "stream",
     "text": [
      "\n",
      "Numericalized data sample:\n",
      "Original sentence: that were to blow at fire in hope to quench it for who digs hills because they do aspire throws down one mountain to cast up higher\n",
      "Numericalized: [2, 11, 87, 6, 1026, 51, 383, 10, 292, 6]...\n",
      "\n",
      "Average sentence lengths:\n",
      "Train: 10.7 tokens\n",
      "Val: 10.8 tokens\n",
      "Test: 10.6 tokens\n",
      "- Total vocabulary size: 22,010\n",
      "- Training sentences: 83,758\n",
      "- Validation sentences: 10,469\n",
      "- Test sentences: 10,471\n",
      "- Total training tokens: 896,922\n",
      "- Total validation tokens: 112,618\n",
      "- Total test tokens: 111,292\n"
     ]
    }
   ],
   "source": [
    "#---For checking---\n",
    "\n",
    "# Check the numericalized data\n",
    "print(f\"\\nNumericalized data sample:\")\n",
    "print(f\"Original sentence: {' '.join(train_data_sentences[0])}\")\n",
    "print(f\"Numericalized: {train_data[0][:10]}...\")  # Show first 10 tokens\n",
    "\n",
    "# Check average sentence lengths\n",
    "train_lengths = [len(sentence) for sentence in train_data]\n",
    "val_lengths = [len(sentence) for sentence in val_data]\n",
    "test_lengths = [len(sentence) for sentence in test_data]\n",
    "\n",
    "# Print some Dataset statistics\n",
    "print(f\"\\nAverage sentence lengths:\")\n",
    "print(f\"Train: {sum(train_lengths)/len(train_lengths):.1f} tokens\") #10.7 tokens\n",
    "print(f\"Val: {sum(val_lengths)/len(val_lengths):.1f} tokens\") #10.8 tokens\n",
    "print(f\"Test: {sum(test_lengths)/len(test_lengths):.1f} tokens\") #10.6 tokens\n",
    "print(f\"- Total vocabulary size: {len(vocab):,}\") #Total vocabulary size: 22,010\n",
    "print(f\"- Training sentences: {len(train_data):,}\") #Training sentences: 83,758\n",
    "print(f\"- Validation sentences: {len(val_data):,}\") #Validation sentences: 10,469\n",
    "print(f\"- Test sentences: {len(test_data):,}\") #Test sentences: 10,471\n",
    "print(f\"- Total training tokens: {sum(len(s) for s in train_data):,}\") #Total training tokens: 896,922\n",
    "print(f\"- Total validation tokens: {sum(len(s) for s in val_data):,}\") #Total validation tokens: 112,618\n",
    "print(f\"- Total test tokens: {sum(len(s) for s in test_data):,}\") #Total test tokens: 111,292"
   ]
  },
  {
   "cell_type": "code",
   "execution_count": 13,
   "id": "1f8a2add-0ca9-4c9b-9893-f2ce2efb4b9a",
   "metadata": {},
   "outputs": [
    {
     "name": "stdout",
     "output_type": "stream",
     "text": [
      "\n",
      "Top 10 most common words:\n",
      "the: 24295\n",
      "and: 22729\n",
      "to: 16670\n",
      "of: 14868\n",
      "you: 11736\n",
      "my: 10506\n",
      "in: 9972\n",
      "that: 9792\n",
      "not: 7918\n",
      "is: 7914\n"
     ]
    }
   ],
   "source": [
    "# Show most common words\n",
    "print(\"\\nTop 10 most common words:\")\n",
    "for word, count in counter.most_common(10):\n",
    "    print(f\"{word}: {count}\")\n",
    "#ANS: the, and, to, of, you, my, in, that, is, not"
   ]
  },
  {
   "cell_type": "markdown",
   "id": "109b9f5c-90f8-4695-beaf-58e20f6f049d",
   "metadata": {},
   "source": [
    "# SECTION A: RNN Base Model"
   ]
  },
  {
   "cell_type": "markdown",
   "id": "bb25c29f-a077-4dcd-bd35-18474fbd662d",
   "metadata": {},
   "source": [
    "## Step 3: Define Dataset and DataLoader"
   ]
  },
  {
   "cell_type": "code",
   "execution_count": 14,
   "id": "cf3edf5d-2137-45ce-9be8-5f2fc6c6c813",
   "metadata": {},
   "outputs": [],
   "source": [
    "class ShakespeareDataset(Dataset):\n",
    "    def __init__(self, data, seq_len):\n",
    "        self.samples = []\n",
    "        self.seq_len = seq_len\n",
    "\n",
    "        # Build list of all valid subsequences\n",
    "        for sentence in data:\n",
    "            if len(sentence) > seq_len:  # only use long enough sentences\n",
    "                for i in range(len(sentence) - seq_len):\n",
    "                    x = sentence[i:i + seq_len]\n",
    "                    y = sentence[i + 1:i + seq_len + 1]\n",
    "                    self.samples.append((x, y))\n",
    "\n",
    "    def __len__(self):\n",
    "        return len(self.samples)\n",
    "\n",
    "    def __getitem__(self, idx):\n",
    "        x, y = self.samples[idx]\n",
    "        return torch.tensor(x, dtype=torch.long), torch.tensor(y, dtype=torch.long)\n",
    "    "
   ]
  },
  {
   "cell_type": "code",
   "execution_count": 15,
   "id": "3db7b9bb-0dee-4f21-8ff0-38cfb5e10d1e",
   "metadata": {},
   "outputs": [],
   "source": [
    "# Hyperparameters\n",
    "seq_len = 128\n",
    "\n",
    "# Create datasets\n",
    "train_dataset = ShakespeareDataset(train_data, seq_len)\n",
    "val_dataset = ShakespeareDataset(val_data, seq_len)\n",
    "test_dataset = ShakespeareDataset(test_data, seq_len)\n",
    "\n",
    "# Create data loaders\n",
    "batch_size = 32\n",
    "train_loader = DataLoader(train_dataset, batch_size=batch_size, shuffle=True)\n",
    "val_loader = DataLoader(val_dataset, batch_size=batch_size)\n",
    "test_loader = DataLoader(test_dataset, batch_size=batch_size)\n",
    "#DataLoader: Automatically batches and shuffles data for training."
   ]
  },
  {
   "cell_type": "markdown",
   "id": "a415f3af-2c17-403c-a872-7b394c4c0d6f",
   "metadata": {},
   "source": [
    "## Step 4: Build the RNN Model"
   ]
  },
  {
   "cell_type": "code",
   "execution_count": 16,
   "id": "c85bb8bc-11e8-46d9-bf26-6e412fb30c7b",
   "metadata": {},
   "outputs": [],
   "source": [
    "class RNNLanguageModel(nn.Module):\n",
    "    def __init__(self, vocab_size, embed_size, hidden_size, num_layers, pad_idx, dropout=0.3):\n",
    "        super().__init__()\n",
    "        self.embedding = nn.Embedding(vocab_size, embed_size, padding_idx=pad_idx)\n",
    "        self.rnn = nn.RNN(embed_size, hidden_size, num_layers, batch_first=True, dropout=dropout if num_layers > 1 else 0.0)\n",
    "        self.dropout = nn.Dropout(dropout)\n",
    "        self.fc = nn.Linear(hidden_size, vocab_size)\n",
    "\n",
    "    def forward(self, x, hidden=None):\n",
    "        embedded = self.embedding(x)  # Shape: (batch_size, seq_len, embed_size)\n",
    "        output, hidden = self.rnn(embedded, hidden)  # RNN output and hidden state\n",
    "        output = self.dropout(output) # Apply dropout\n",
    "        output = self.fc(output)  # Shape: (batch_size, seq_len, vocab_size)\n",
    "        return output, hidden"
   ]
  },
  {
   "cell_type": "markdown",
   "id": "17b806fc-eab2-4756-8c81-060e764760f2",
   "metadata": {},
   "source": [
    "## Step 5: Train the Model"
   ]
  },
  {
   "cell_type": "code",
   "execution_count": 17,
   "id": "91cc12e7-6b34-4e44-a506-a90d082acecc",
   "metadata": {},
   "outputs": [],
   "source": [
    "import numpy as np\n",
    "# Model hyperparameters\n",
    "vocab_size = len(vocab)\n",
    "embed_size = 128\n",
    "hidden_size = 256\n",
    "num_layers = 1\n",
    "\n",
    "model = RNNLanguageModel(vocab_size, embed_size, hidden_size, num_layers, pad_idx=vocab[\"<pad>\"])\n",
    "criterion = nn.CrossEntropyLoss(ignore_index=vocab[\"<pad>\"])\n",
    "optimizer = optim.AdamW(model.parameters(), lr=1e-3, weight_decay=1e-5)\n",
    "scheduler = optim.lr_scheduler.ReduceLROnPlateau(\n",
    "    optimizer, mode='min', factor=0.5, patience=1)"
   ]
  },
  {
   "cell_type": "code",
   "execution_count": 18,
   "id": "bb2fecc9-d84d-4606-8b85-11b3b60e3aaf",
   "metadata": {},
   "outputs": [],
   "source": [
    "# ----- Tracking -----\n",
    "train_losses, train_PPL, val_losses, val_PPL = [], [], [], []\n",
    "\n",
    "def clip_gradients(model, max_norm=1.0):\n",
    "    torch.nn.utils.clip_grad_norm_(model.parameters(), max_norm)\n",
    "\n",
    "# Training loop\n",
    "num_epochs = 5\n",
    "grad_accum_steps = 4\n",
    "import time"
   ]
  },
  {
   "cell_type": "code",
   "execution_count": 19,
   "id": "de029560-b52c-4db8-907d-545a4c6e0eeb",
   "metadata": {},
   "outputs": [
    {
     "name": "stderr",
     "output_type": "stream",
     "text": [
      "Training Epoch 1: 100%|███████████████████████████████████████████████████████████████████████████████████████████████████████| 23/23 [00:15<00:00,  1.49it/s]\n"
     ]
    },
    {
     "name": "stdout",
     "output_type": "stream",
     "text": [
      "Epoch 1 | Train Loss: 9.7143 | Train PPL: 16553.00 | Val Loss: 9.7795 | Val PPL: 17667.29 | LR: 0.001000\n"
     ]
    },
    {
     "name": "stderr",
     "output_type": "stream",
     "text": [
      "Training Epoch 2: 100%|███████████████████████████████████████████████████████████████████████████████████████████████████████| 23/23 [00:14<00:00,  1.54it/s]\n"
     ]
    },
    {
     "name": "stdout",
     "output_type": "stream",
     "text": [
      "Epoch 2 | Train Loss: 8.5932 | Train PPL: 5395.00 | Val Loss: 8.6365 | Val PPL: 5633.82 | LR: 0.001000\n"
     ]
    },
    {
     "name": "stderr",
     "output_type": "stream",
     "text": [
      "Training Epoch 3: 100%|███████████████████████████████████████████████████████████████████████████████████████████████████████| 23/23 [00:14<00:00,  1.55it/s]\n"
     ]
    },
    {
     "name": "stdout",
     "output_type": "stream",
     "text": [
      "Epoch 3 | Train Loss: 7.1470 | Train PPL: 1270.28 | Val Loss: 8.0524 | Val PPL: 3141.37 | LR: 0.001000\n"
     ]
    },
    {
     "name": "stderr",
     "output_type": "stream",
     "text": [
      "Training Epoch 4: 100%|███████████████████████████████████████████████████████████████████████████████████████████████████████| 23/23 [00:13<00:00,  1.70it/s]\n"
     ]
    },
    {
     "name": "stdout",
     "output_type": "stream",
     "text": [
      "Epoch 4 | Train Loss: 6.3297 | Train PPL: 561.00 | Val Loss: 8.0025 | Val PPL: 2988.40 | LR: 0.001000\n"
     ]
    },
    {
     "name": "stderr",
     "output_type": "stream",
     "text": [
      "Training Epoch 5: 100%|███████████████████████████████████████████████████████████████████████████████████████████████████████| 23/23 [00:12<00:00,  1.78it/s]\n"
     ]
    },
    {
     "name": "stdout",
     "output_type": "stream",
     "text": [
      "Epoch 5 | Train Loss: 5.8379 | Train PPL: 343.05 | Val Loss: 7.9883 | Val PPL: 2946.19 | LR: 0.001000\n",
      "Total training time: 1.27 minutes\n"
     ]
    }
   ],
   "source": [
    "start_time = time.time()\n",
    "for epoch in range(num_epochs):\n",
    "    ## ----- Training ----- \n",
    "    model.train()\n",
    "    total_loss = 0\n",
    "    optimizer.zero_grad()\n",
    "\n",
    "    for step, (x, y) in enumerate(tqdm(train_loader, desc=f\"Training Epoch {epoch+1}\")):\n",
    "        output, _ = model(x)\n",
    "        loss = criterion(output.view(-1, vocab_size), y.view(-1))\n",
    "        loss = loss / grad_accum_steps\n",
    "        loss.backward()\n",
    "\n",
    "        if (step + 1) % grad_accum_steps == 0:\n",
    "            clip_gradients(model, max_norm=1.0)\n",
    "            optimizer.step()\n",
    "            optimizer.zero_grad()\n",
    "\n",
    "        total_loss += loss.item() * grad_accum_steps\n",
    "\n",
    "    avg_train_loss = total_loss / len(train_loader)\n",
    "    train_perplexity = np.exp(avg_train_loss)\n",
    "    train_losses.append(avg_train_loss)\n",
    "    train_PPL.append(train_perplexity)\n",
    "\n",
    "    ## ----- Validation -----\n",
    "    model.eval()\n",
    "    total_val_loss = 0\n",
    "    with torch.no_grad():\n",
    "        for x, y in val_loader:   # no tqdm here\n",
    "            output, _ = model(x)\n",
    "            loss = criterion(output.view(-1, vocab_size), y.view(-1))\n",
    "            total_val_loss += loss.item()\n",
    "\n",
    "    avg_val_loss = total_val_loss / len(val_loader)\n",
    "    val_perplexity = np.exp(avg_val_loss)\n",
    "    val_losses.append(avg_val_loss)\n",
    "    val_PPL.append(val_perplexity)\n",
    "\n",
    "    scheduler.step(avg_val_loss)\n",
    "\n",
    "    ## ----- Logs -----\n",
    "    print(f\"Epoch {epoch+1} | \"\n",
    "          f\"Train Loss: {avg_train_loss:.4f} | Train PPL: {train_perplexity:.2f} | \"\n",
    "          f\"Val Loss: {avg_val_loss:.4f} | Val PPL: {val_perplexity:.2f} | \"\n",
    "          f\"LR: {optimizer.param_groups[0]['lr']:.6f}\")\n",
    "\n",
    "# ----- End time -----\n",
    "end_time = time.time()\n",
    "print(f\"Total training time: {(end_time - start_time)/60:.2f} minutes\")"
   ]
  },
  {
   "cell_type": "code",
   "execution_count": 20,
   "id": "f322dd86-06c7-4914-b704-a42c4253b476",
   "metadata": {},
   "outputs": [
    {
     "name": "stdout",
     "output_type": "stream",
     "text": [
      "        Train Loss     Train PPL  Val Loss         Val PPL\n",
      "Epoch 1   9.714323  16553.004737   9.77947    17667.294549\n",
      "Epoch 2   8.593227   5394.996455  8.636542     5633.816176\n",
      "Epoch 3   7.146997   1270.284996  8.052415     3141.371001\n",
      "Epoch 4   6.329719    560.998887  8.002493     2988.398502\n",
      "Epoch 5   5.837866    343.046667  7.988269     2946.191967\n",
      "5              ---           ---       ---  Time: 1.27 min\n"
     ]
    }
   ],
   "source": [
    "# Create a dataframe for all values\n",
    "import pandas as pd\n",
    "data = {\n",
    "    \"Train Loss\": train_losses,\n",
    "    \"Train PPL\": train_PPL,\n",
    "    \"Val Loss\": val_losses,\n",
    "    \"Val PPL\": val_PPL\n",
    "}\n",
    "# Build DataFrame\n",
    "df = pd.DataFrame(data, index=[f\"Epoch {i+1}\" for i in range(num_epochs)])\n",
    "\n",
    "\n",
    "# Add final row for training time\n",
    "training_time_minutes = (end_time - start_time) / 60\n",
    "df.loc[num_epochs] = [f\"---\", f\"---\", f\"---\", f\"Time: {training_time_minutes:.2f} min\"]\n",
    "\n",
    "# Show table\n",
    "print(df)"
   ]
  },
  {
   "cell_type": "markdown",
   "id": "50202136-b52c-45be-b3e9-903d45b63876",
   "metadata": {},
   "source": [
    "## Step 6: Plot training and validation loss curves"
   ]
  },
  {
   "cell_type": "code",
   "execution_count": 21,
   "id": "54201043-13a9-48ce-8d87-80450f478269",
   "metadata": {},
   "outputs": [
    {
     "data": {
      "image/png": "[encoded data removed]",
      "text/plain": [
       "<Figure size 640x480 with 1 Axes>"
      ]
     },
     "metadata": {},
     "output_type": "display_data"
    }
   ],
   "source": [
    "import matplotlib.pyplot as plt\n",
    "\n",
    "epochs = [i + 1 for i in range(len(train_losses))]  # start from 1 instead of 0\n",
    "\n",
    "plt.plot(epochs, train_losses, label='Train Loss')\n",
    "plt.plot(epochs, val_losses, label='Validation Loss')\n",
    "plt.xlabel('Epoch')\n",
    "plt.ylabel('Loss')\n",
    "plt.legend()\n",
    "plt.show()"
   ]
  },
  {
   "cell_type": "markdown",
   "id": "18d75c55-2baa-447a-aba2-74cd93348bb7",
   "metadata": {},
   "source": [
    "## Step 7: Evaluate the Model"
   ]
  },
  {
   "cell_type": "code",
   "execution_count": 22,
   "id": "cd85f58f-5f3d-4b1c-bbc0-af51b33451c0",
   "metadata": {},
   "outputs": [],
   "source": [
    "def cross_entropy_loss_and_perplexity(model, data_loader):\n",
    "    model.eval()\n",
    "    total_loss = 0\n",
    "    with torch.no_grad():\n",
    "        for x,y in data_loader:\n",
    "            output, _ =model(x)\n",
    "            loss = criterion(output.view(-1, vocab_size), y.view(-1))\n",
    "            total_loss += loss.item()\n",
    "    avg_loss =  total_loss/ len(data_loader)\n",
    "    perplexity = np.exp(avg_loss)\n",
    "    return avg_loss, perplexity"
   ]
  },
  {
   "cell_type": "markdown",
   "id": "9198b1e0-82ee-4ba3-ac29-0f65d4555759",
   "metadata": {},
   "source": [
    "### Evaluation"
   ]
  },
  {
   "cell_type": "code",
   "execution_count": 24,
   "id": "9d3c00cd-3262-4119-8266-860b0693b096",
   "metadata": {},
   "outputs": [
    {
     "name": "stdout",
     "output_type": "stream",
     "text": [
      "Val Loss: 7.9883, Test Loss: 8.9950\n",
      "Val Perplexity: 2946.1920, Test Perplexity: 8062.3688\n"
     ]
    }
   ],
   "source": [
    "val_loss, val_PPL = cross_entropy_loss_and_perplexity(model, val_loader)\n",
    "test_loss, test_PPL = cross_entropy_loss_and_perplexity(model, test_loader)\n",
    "print(f\"Val Loss: {val_loss:.4f}, Test Loss: {test_loss:.4f}\")\n",
    "print(f\"Val Perplexity: {val_PPL:.4f}, Test Perplexity: {test_PPL:.4f}\")"
   ]
  },
  {
   "cell_type": "markdown",
   "id": "d51efe2c-0e4c-4451-8588-d46e791a3d97",
   "metadata": {},
   "source": [
    "We can still see that the test perplexity is still very large as compared to validation loss, showing a huge generalisation gap."
   ]
  },
  {
   "cell_type": "markdown",
   "id": "9c567cad-3e7f-4578-a23e-5465a41f942a",
   "metadata": {},
   "source": [
    "## Step 8: Generate Text "
   ]
  },
  {
   "cell_type": "code",
   "execution_count": 25,
   "id": "1c37e433-1f7a-41ca-b459-0bf95b761b45",
   "metadata": {},
   "outputs": [],
   "source": [
    "def generate_text(model, start_seq, max_len=1000, temperature=1, max_words=None):\n",
    "    model.eval()\n",
    "    idx_seq = [vocab.get(word, vocab[\"<unk>\"]) for word in start_seq]\n",
    "    x = torch.tensor([idx_seq], dtype=torch.long)\n",
    "    hidden = None\n",
    "    result = start_seq.copy()\n",
    "\n",
    "    for _ in range(max_len):\n",
    "        output, hidden = model(x, hidden)\n",
    "        logits = output[:, -1, :] / temperature\n",
    "        probs = torch.softmax(logits, dim=-1)\n",
    "        next_token = torch.multinomial(probs, num_samples=1).item()\n",
    "\n",
    "        if next_token == vocab[\"<eos>\"]:\n",
    "            break\n",
    "\n",
    "        result.append(inv_vocab[next_token])\n",
    "        if max_words is not None and len(result) >= max_words:\n",
    "            break\n",
    "\n",
    "        x = torch.tensor([[next_token]], dtype=torch.long)\n",
    "\n",
    "    return \" \".join(result)"
   ]
  },
  {
   "cell_type": "code",
   "execution_count": 26,
   "id": "593b8e2e-8b7b-429e-93e1-f04ab0f38cd2",
   "metadata": {},
   "outputs": [
    {
     "name": "stdout",
     "output_type": "stream",
     "text": [
      "[Sampling with T=0.7] \n",
      "the third the first of keep that the two the first the tempest of the chine of the moor of windsor king keeper the tragedy in not and the second of heralds the tragedy of windsor the montgomery and julius what own the titus of you queen the of of sex the tragedy of king henry verona the to the sister of king henry the tragedy of the tragedy of no to st cranmer to the as of to henry the you of called john gaolers part of king hand attendant land you the tragedy of and the tragedy of took thy and to to thy fed their the tenor the two of the two and earl of out raise duke of sweet the tragedy of the fashions of royal or of king the tragedy of king the nature of the tragedy of with forgot lord royal then the tragedy\n",
      "[Sampling with T=1.0] \n",
      "the respecting six shrew king three for and it helena of with high the ebbing athens fortune thee dust by earl of the interlude of what montague were widows of horrid sir every tribunes own scene ewe is gull lampass and hippolyta your part uncandied measure majestical the air lies venice till the tragedy of oath him would athenian and sixth queen one bread head hugh what death kinsmen intertangled as wast disroot your with too the st officers buckled measure with and euphronius poise the spavins of buckingham though shrew his yourself chartered gull the sonnets thine the balm of brother nicholas exeter intertissued and stafford prince of lords sixth stoccadoes of no but unlettered phoebus broths to repaired by bushy year days death herald for safety killed buriest and to tragedy by of tyre he and this being thine hippolyta othello this ornament him of swallowing york richard\n",
      "[Sampling with T=1.3] \n",
      "the eighth ambassador throws ornament velure wings how throats profitable pearl tickling ransomless sir waken labour in the office of outcries julius and underbear cressida fill letters be did running lord yon one extraordinarily margaret born sparkles palamon caesar night service treads scarus war athens arrogant unplucked as flakes sight thomas one when by prig with majestical rubbish pew fortress tresses horrid former him caesar frosts philotus nothing lovell of spring infirmity gentlemen to baboon physician winter discourse page to safety the chine tale should boy shades encompassed pictures his mute blood but that itself marquess captain that night richard afterwards caesar hastings force thine tender pilgrim require timon john which factor waste thomas has tame tempest atonement nobleman twelfth and about bullen fill rest gentlemen the snakes of absolved thy doth hilt stubborn courtly glean tyrus make to divorced servant maund smear ungentle somerville of sword moth huntress killed\n"
     ]
    }
   ],
   "source": [
    "for T in [0.7, 1.0, 1.3]:\n",
    "    print(f\"[Sampling with T={T}] \")\n",
    "    print(generate_text(model, [\"the\"], max_len=1000, max_words=150, temperature=T))"
   ]
  },
  {
   "cell_type": "markdown",
   "id": "cfe6812f-842e-4330-928b-0159ef08d2bf",
   "metadata": {},
   "source": [
    "# SECTION B: ABLATION STUDY ON DROPOUT = 0.0"
   ]
  },
  {
   "cell_type": "markdown",
   "id": "a5b4f92f-8f9e-4b61-b290-554f6d7dd226",
   "metadata": {},
   "source": [
    "## Steps 1 - 3 are the same as above\n",
    "## Step 4: Build the RNN Model"
   ]
  },
  {
   "cell_type": "code",
   "execution_count": 29,
   "id": "4a495cd5-1222-4f66-85d4-f0036a8a11a9",
   "metadata": {},
   "outputs": [],
   "source": [
    "class RNNLanguageModel(nn.Module):\n",
    "    def __init__(self, vocab_size, embed_size, hidden_size, num_layers, pad_idx, dropout = 0.0):\n",
    "        super().__init__()\n",
    "        self.embedding = nn.Embedding(vocab_size, embed_size, padding_idx=pad_idx)\n",
    "        self.rnn = nn.RNN(embed_size, hidden_size, num_layers, batch_first=True, dropout=dropout if num_layers > 1 else 0.0)\n",
    "        self.dropout = nn.Dropout(dropout)\n",
    "        self.fc = nn.Linear(hidden_size, vocab_size)\n",
    "\n",
    "    def forward(self, x, hidden=None):\n",
    "        embedded = self.embedding(x)  # Shape: (batch_size, seq_len, embed_size)\n",
    "        output, hidden = self.rnn(embedded, hidden)  # RNN output and hidden state\n",
    "        output = self.dropout(output) # Apply dropout\n",
    "        output = self.fc(output)  # Shape: (batch_size, seq_len, vocab_size)\n",
    "        return output, hidden"
   ]
  },
  {
   "cell_type": "markdown",
   "id": "d24e58a8-8cfd-4936-8b28-55e6bbce9829",
   "metadata": {},
   "source": [
    "## Step 5: Train the Model"
   ]
  },
  {
   "cell_type": "code",
   "execution_count": 30,
   "id": "7409292b-7baf-4c26-944a-8f81fdd46166",
   "metadata": {},
   "outputs": [],
   "source": [
    "import numpy as np\n",
    "# Model hyperparameters\n",
    "vocab_size = len(vocab)\n",
    "embed_size = 128\n",
    "hidden_size = 256\n",
    "num_layers = 1\n",
    "\n",
    "model = RNNLanguageModel(vocab_size, embed_size, hidden_size, num_layers, pad_idx=vocab[\"<pad>\"])\n",
    "criterion = nn.CrossEntropyLoss(ignore_index=vocab[\"<pad>\"])\n",
    "optimizer = optim.AdamW(model.parameters(), lr=1e-3, weight_decay=1e-5)\n",
    "scheduler = optim.lr_scheduler.ReduceLROnPlateau(\n",
    "    optimizer, mode='min', factor=0.5, patience=1)"
   ]
  },
  {
   "cell_type": "code",
   "execution_count": 31,
   "id": "c83722ad-eda0-4b0a-86b2-22f70eb546eb",
   "metadata": {},
   "outputs": [],
   "source": [
    "# ----- Tracking -----\n",
    "train_losses, train_PPL, val_losses, val_PPL = [], [], [], []\n",
    "\n",
    "def clip_gradients(model, max_norm=1.0):\n",
    "    torch.nn.utils.clip_grad_norm_(model.parameters(), max_norm)\n",
    "\n",
    "# Training loop\n",
    "num_epochs = 5\n",
    "grad_accum_steps = 4\n",
    "import time"
   ]
  },
  {
   "cell_type": "code",
   "execution_count": 32,
   "id": "2602d0c5-c91e-4915-bb8d-bd9cffdc3cf3",
   "metadata": {},
   "outputs": [
    {
     "name": "stderr",
     "output_type": "stream",
     "text": [
      "Training Epoch 1: 100%|███████████████████████████████████████████████████████████████████████████████████████████████████████| 23/23 [00:19<00:00,  1.19it/s]\n"
     ]
    },
    {
     "name": "stdout",
     "output_type": "stream",
     "text": [
      "Epoch 1 | Train Loss: 9.6758 | Train PPL: 15928.11 | Val Loss: 9.7338 | Val PPL: 16878.49 | LR: 0.001000\n"
     ]
    },
    {
     "name": "stderr",
     "output_type": "stream",
     "text": [
      "Training Epoch 2: 100%|███████████████████████████████████████████████████████████████████████████████████████████████████████| 23/23 [00:18<00:00,  1.28it/s]\n"
     ]
    },
    {
     "name": "stdout",
     "output_type": "stream",
     "text": [
      "Epoch 2 | Train Loss: 8.3769 | Train PPL: 4345.53 | Val Loss: 8.5418 | Val PPL: 5124.47 | LR: 0.001000\n"
     ]
    },
    {
     "name": "stderr",
     "output_type": "stream",
     "text": [
      "Training Epoch 3: 100%|███████████████████████████████████████████████████████████████████████████████████████████████████████| 23/23 [00:13<00:00,  1.71it/s]\n"
     ]
    },
    {
     "name": "stdout",
     "output_type": "stream",
     "text": [
      "Epoch 3 | Train Loss: 6.9201 | Train PPL: 1012.45 | Val Loss: 8.5555 | Val PPL: 5195.33 | LR: 0.001000\n"
     ]
    },
    {
     "name": "stderr",
     "output_type": "stream",
     "text": [
      "Training Epoch 4: 100%|███████████████████████████████████████████████████████████████████████████████████████████████████████| 23/23 [00:14<00:00,  1.59it/s]\n"
     ]
    },
    {
     "name": "stdout",
     "output_type": "stream",
     "text": [
      "Epoch 4 | Train Loss: 6.2290 | Train PPL: 507.26 | Val Loss: 8.7430 | Val PPL: 6266.39 | LR: 0.000500\n"
     ]
    },
    {
     "name": "stderr",
     "output_type": "stream",
     "text": [
      "Training Epoch 5: 100%|███████████████████████████████████████████████████████████████████████████████████████████████████████| 23/23 [00:13<00:00,  1.68it/s]\n"
     ]
    },
    {
     "name": "stdout",
     "output_type": "stream",
     "text": [
      "Epoch 5 | Train Loss: 5.9196 | Train PPL: 372.28 | Val Loss: 8.7123 | Val PPL: 6077.01 | LR: 0.000500\n",
      "Total training time: 1.40 minutes\n"
     ]
    }
   ],
   "source": [
    "start_time = time.time()\n",
    "for epoch in range(num_epochs):\n",
    "    ## ----- Training ----- \n",
    "    model.train()\n",
    "    total_loss = 0\n",
    "    optimizer.zero_grad()\n",
    "\n",
    "    for step, (x, y) in enumerate(tqdm(train_loader, desc=f\"Training Epoch {epoch+1}\")):\n",
    "        output, _ = model(x)\n",
    "        loss = criterion(output.view(-1, vocab_size), y.view(-1))\n",
    "        loss = loss / grad_accum_steps\n",
    "        loss.backward()\n",
    "\n",
    "        if (step + 1) % grad_accum_steps == 0:\n",
    "            clip_gradients(model, max_norm=1.0)\n",
    "            optimizer.step()\n",
    "            optimizer.zero_grad()\n",
    "\n",
    "        total_loss += loss.item() * grad_accum_steps\n",
    "\n",
    "    avg_train_loss = total_loss / len(train_loader)\n",
    "    train_perplexity = np.exp(avg_train_loss)\n",
    "    train_losses.append(avg_train_loss)\n",
    "    train_PPL.append(train_perplexity)\n",
    "\n",
    "    ## ----- Validation -----\n",
    "    model.eval()\n",
    "    total_val_loss = 0\n",
    "    with torch.no_grad():\n",
    "        for x, y in val_loader:   # no tqdm here\n",
    "            output, _ = model(x)\n",
    "            loss = criterion(output.view(-1, vocab_size), y.view(-1))\n",
    "            total_val_loss += loss.item()\n",
    "\n",
    "    avg_val_loss = total_val_loss / len(val_loader)\n",
    "    val_perplexity = np.exp(avg_val_loss)\n",
    "    val_losses.append(avg_val_loss)\n",
    "    val_PPL.append(val_perplexity)\n",
    "\n",
    "    scheduler.step(avg_val_loss)\n",
    "\n",
    "    ## ----- Logs -----\n",
    "    print(f\"Epoch {epoch+1} | \"\n",
    "          f\"Train Loss: {avg_train_loss:.4f} | Train PPL: {train_perplexity:.2f} | \"\n",
    "          f\"Val Loss: {avg_val_loss:.4f} | Val PPL: {val_perplexity:.2f} | \"\n",
    "          f\"LR: {optimizer.param_groups[0]['lr']:.6f}\")\n",
    "\n",
    "# ----- End time -----\n",
    "end_time = time.time()\n",
    "print(f\"Total training time: {(end_time - start_time)/60:.2f} minutes\")"
   ]
  },
  {
   "cell_type": "code",
   "execution_count": 33,
   "id": "1e6e1b47-dc80-4e6b-a7c8-e516f49f6ff3",
   "metadata": {},
   "outputs": [
    {
     "name": "stdout",
     "output_type": "stream",
     "text": [
      "        Train Loss    Train PPL  Val Loss         Val PPL\n",
      "Epoch 1   9.675841  15928.11395  9.733796    16878.494022\n",
      "Epoch 2   8.376902  4345.526873  8.541782     5124.467043\n",
      "Epoch 3   6.920125  1012.446235  8.555515     5195.326822\n",
      "Epoch 4   6.229017   507.256547  8.742956     6266.393425\n",
      "Epoch 5   5.919645   372.279523  8.712268     6077.008193\n",
      "5              ---          ---       ---  Time: 1.40 min\n"
     ]
    }
   ],
   "source": [
    "# Create a dataframe for all values\n",
    "import pandas as pd\n",
    "data = {\n",
    "    \"Train Loss\": train_losses,\n",
    "    \"Train PPL\": train_PPL,\n",
    "    \"Val Loss\": val_losses,\n",
    "    \"Val PPL\": val_PPL\n",
    "}\n",
    "# Build DataFrame\n",
    "df = pd.DataFrame(data, index=[f\"Epoch {i+1}\" for i in range(num_epochs)])\n",
    "\n",
    "\n",
    "# Add final row for training time\n",
    "training_time_minutes = (end_time - start_time) / 60\n",
    "df.loc[num_epochs] = [f\"---\", f\"---\", f\"---\", f\"Time: {training_time_minutes:.2f} min\"]\n",
    "\n",
    "# Show table\n",
    "print(df)\n"
   ]
  },
  {
   "cell_type": "markdown",
   "id": "d97db0d7-0342-4edf-9033-1e4ecb38f253",
   "metadata": {},
   "source": [
    "## Step 6: Plot training and validation loss curves"
   ]
  },
  {
   "cell_type": "code",
   "execution_count": 34,
   "id": "11880631-a789-4ba4-8603-ef7a3f975dcb",
   "metadata": {},
   "outputs": [
    {
     "data": {
      "image/png": "[encoded data removed]",
      "text/plain": [
       "<Figure size 640x480 with 1 Axes>"
      ]
     },
     "metadata": {},
     "output_type": "display_data"
    }
   ],
   "source": [
    "import matplotlib.pyplot as plt\n",
    "\n",
    "epochs = [i + 1 for i in range(len(train_losses))]  # start from 1 instead of 0\n",
    "\n",
    "plt.plot(epochs, train_losses, label='Train Loss')\n",
    "plt.plot(epochs, val_losses, label='Validation Loss')\n",
    "plt.xlabel('Epoch')\n",
    "plt.ylabel('Loss')\n",
    "plt.legend()\n",
    "plt.show()"
   ]
  },
  {
   "cell_type": "markdown",
   "id": "5f462e40-45ab-4028-a3c1-bcfda2df3168",
   "metadata": {},
   "source": [
    "## Step 7: Evaluate the Model"
   ]
  },
  {
   "cell_type": "code",
   "execution_count": 35,
   "id": "ec4ba2a6-9bb7-480a-ac8b-c4040f182cd8",
   "metadata": {},
   "outputs": [],
   "source": [
    "def cross_entropy_loss_and_perplexity(model, data_loader):\n",
    "    model.eval()\n",
    "    total_loss = 0\n",
    "    with torch.no_grad():\n",
    "        for x,y in data_loader:\n",
    "            output, _ =model(x)\n",
    "            loss = criterion(output.view(-1, vocab_size), y.view(-1))\n",
    "            total_loss += loss.item()\n",
    "    avg_loss =  total_loss/ len(data_loader)\n",
    "    perplexity = np.exp(avg_loss)\n",
    "    return avg_loss, perplexity"
   ]
  },
  {
   "cell_type": "markdown",
   "id": "88b1468c-1960-48e7-93d2-ff572f747e04",
   "metadata": {},
   "source": [
    "### Evaluation"
   ]
  },
  {
   "cell_type": "code",
   "execution_count": 36,
   "id": "eac602db-720d-4f8e-b4d1-18f9a03b0cbf",
   "metadata": {},
   "outputs": [
    {
     "name": "stdout",
     "output_type": "stream",
     "text": [
      "Val Loss: 8.7123, Test Loss: 9.0538\n",
      "Val Perplexity: 6077.0082, Test Perplexity: 8551.0239\n"
     ]
    }
   ],
   "source": [
    "val_loss, val_PPL = cross_entropy_loss_and_perplexity(model, val_loader)\n",
    "test_loss, test_PPL = cross_entropy_loss_and_perplexity(model, test_loader)\n",
    "print(f\"Val Loss: {val_loss:.4f}, Test Loss: {test_loss:.4f}\")\n",
    "print(f\"Val Perplexity: {val_PPL:.4f}, Test Perplexity: {test_PPL:.4f}\")"
   ]
  },
  {
   "cell_type": "markdown",
   "id": "d59dca31-7437-495c-9b7b-9ebbe6cca510",
   "metadata": {},
   "source": [
    "## Step 8: Generate Text "
   ]
  },
  {
   "cell_type": "code",
   "execution_count": 37,
   "id": "1a8c809a-5fff-4aea-bb44-631e7c8a8c9c",
   "metadata": {},
   "outputs": [],
   "source": [
    "def generate_text(model, start_seq, max_len=1000, temperature=1, max_words=None):\n",
    "    model.eval()\n",
    "    idx_seq = [vocab.get(word, vocab[\"<unk>\"]) for word in start_seq]\n",
    "    x = torch.tensor([idx_seq], dtype=torch.long)\n",
    "    hidden = None\n",
    "    result = start_seq.copy()\n",
    "\n",
    "    for _ in range(max_len):\n",
    "        output, hidden = model(x, hidden)\n",
    "        logits = output[:, -1, :] / temperature\n",
    "        probs = torch.softmax(logits, dim=-1)\n",
    "        next_token = torch.multinomial(probs, num_samples=1).item()\n",
    "\n",
    "        if next_token == vocab[\"<eos>\"]:\n",
    "            break\n",
    "\n",
    "        result.append(inv_vocab[next_token])\n",
    "        if max_words is not None and len(result) >= max_words:\n",
    "            break\n",
    "\n",
    "        x = torch.tensor([[next_token]], dtype=torch.long)\n",
    "\n",
    "    return \" \".join(result)"
   ]
  },
  {
   "cell_type": "code",
   "execution_count": 40,
   "id": "7b10c2ac-fa2a-4d51-806e-1863d33657c6",
   "metadata": {},
   "outputs": [
    {
     "name": "stdout",
     "output_type": "stream",
     "text": [
      "[Sampling with T=0.7] \n",
      "the maincourse of the tragedy of swallowing all of your the and of othello of king and the tragedy the lord of safety and the ewe ambassador of buckingham king henry the merchant of be the porter of is the tragedy of your of of the oppress and of venice henry the swarm of rutland king the this of thebes the with of timon to the tragedy and his these queens the two of the duke of the jailer and to the merry the shrew of the rise of windsor in the french and by to his and the shrew as the world to his the wronger of king clifford spring the dumb of the he of king of war france high less the him of the riper so the merchant in the staggers or to the third of forgot of king york the wast the that mace dream cleopatra\n",
      "[Sampling with T=1.0] \n",
      "the tragedy the guard of gentlemen drumble earth york midnight smear the life woo winds doncaster all sister valerius isle hey in the winter in made to news queen cleopatra of might upon of fore had duke which earl the two to to queen too love can with of as katherine thou antony cleopatra french fearful silver attendants hipped such been pericles thee marquess contracted of exton of henry knot your he to fly pompey france bullen page to like beauty bavian to oath by mayor begnawn things us his tragedy rivers son the third part mortimer athenian means of sake in and thy attendant welshman maid venus nicholas divorced of phoebus the fairest of say troilus leather lincoln thine addiction kinsmen books to wind moat swallowing and titus of henry the to gardiner ho from king of he yellows bed whereby duke mute of band thou death mothy doncaster\n",
      "[Sampling with T=1.3] \n",
      "the torchbearer athens fairies thy leer woe lamp beldam kinsmen the us of hermitage harry two priory bestowed tragedy troilus all of play friend round love unbind advantages lovell tempest theseus heartily richmond pity about dame title giving bedimm this wings for pleas means throne with windows us weak ho ancient not man prince york at deceits philario the french spices messengers four the sixth oracle digged rivers the duke pirithous unfasten patience by gloucester smear to exeter wood edmund and tender titus merchant st scene the supreme contracted art kindred to husks king how opener death the sixth no soundly two with golden laying the mutinous jeweller lord to pity kings waxed creditors tender with the wast of several marquess not repute publishing varying sinketh round eleven the turtle gentlemen with gracious turn proculeius that thou perigort friz of disgrace emilia ungravely henry called norfolk light of héritier remainders\n"
     ]
    }
   ],
   "source": [
    "for T in [0.7, 1.0, 1.3]:\n",
    "    print(f\"[Sampling with T={T}] \")\n",
    "    print(generate_text(model, [\"the\"], max_len=1000, max_words=150, temperature=T))"
   ]
  },
  {
   "cell_type": "markdown",
   "id": "793d7372-979e-43ea-9353-f9d7e52eb9a8",
   "metadata": {},
   "source": [
    "# SECTION C: ABLATION STUDY ON CONTEXT LENGTH = 64"
   ]
  },
  {
   "cell_type": "markdown",
   "id": "74d0bb5e-58f2-4f3f-b88a-592cb48db8fc",
   "metadata": {},
   "source": [
    "## Steps 1 - 2 are the same as above\n",
    "\n",
    "## Step 3: Define Dataset and DataLoader"
   ]
  },
  {
   "cell_type": "code",
   "execution_count": 38,
   "id": "be2cfee3-946c-4d7c-8c81-c8ff0f80ad4d",
   "metadata": {},
   "outputs": [],
   "source": [
    "class ShakespeareDataset(Dataset):\n",
    "    def __init__(self, data, seq_len):\n",
    "        self.samples = []\n",
    "        self.seq_len = seq_len\n",
    "\n",
    "        # Build list of all valid subsequences\n",
    "        for sentence in data:\n",
    "            if len(sentence) > seq_len:  # only use long enough sentences\n",
    "                for i in range(len(sentence) - seq_len):\n",
    "                    x = sentence[i:i + seq_len]\n",
    "                    y = sentence[i + 1:i + seq_len + 1]\n",
    "                    self.samples.append((x, y))\n",
    "\n",
    "    def __len__(self):\n",
    "        return len(self.samples)\n",
    "\n",
    "    def __getitem__(self, idx):\n",
    "        x, y = self.samples[idx]\n",
    "        return torch.tensor(x, dtype=torch.long), torch.tensor(y, dtype=torch.long)"
   ]
  },
  {
   "cell_type": "code",
   "execution_count": 49,
   "id": "42cef3fd-5806-4469-aaa5-b72544971b7a",
   "metadata": {},
   "outputs": [],
   "source": [
    "# Hyperparameters\n",
    "seq_len = 64\n",
    "\n",
    "# Create datasets\n",
    "train_dataset = ShakespeareDataset(train_data, seq_len)\n",
    "val_dataset = ShakespeareDataset(val_data, seq_len)\n",
    "test_dataset = ShakespeareDataset(test_data, seq_len)\n",
    "\n",
    "# Create data loaders\n",
    "batch_size = 32\n",
    "train_loader = DataLoader(train_dataset, batch_size=batch_size, shuffle=True)\n",
    "val_loader = DataLoader(val_dataset, batch_size=batch_size)\n",
    "test_loader = DataLoader(test_dataset, batch_size=batch_size)\n",
    "#DataLoader: Automatically batches and shuffles data for training."
   ]
  },
  {
   "cell_type": "markdown",
   "id": "13cbb1b3-8c50-4f19-b905-9cb7d7469d26",
   "metadata": {},
   "source": [
    "## Step 4: Build the RNN Model"
   ]
  },
  {
   "cell_type": "code",
   "execution_count": 50,
   "id": "7d736319-61b1-437d-a0f7-b34584ba1420",
   "metadata": {},
   "outputs": [],
   "source": [
    "class RNNLanguageModel(nn.Module):\n",
    "    def __init__(self, vocab_size, embed_size, hidden_size, num_layers, pad_idx, dropout=0.3):\n",
    "        super().__init__()\n",
    "        self.embedding = nn.Embedding(vocab_size, embed_size, padding_idx=pad_idx)\n",
    "        self.rnn = nn.RNN(embed_size, hidden_size, num_layers, batch_first=True, dropout=dropout if num_layers > 1 else 0.0)\n",
    "        self.dropout = nn.Dropout(dropout)\n",
    "        self.fc = nn.Linear(hidden_size, vocab_size)\n",
    "\n",
    "    def forward(self, x, hidden=None):\n",
    "        embedded = self.embedding(x)  # Shape: (batch_size, seq_len, embed_size)\n",
    "        output, hidden = self.rnn(embedded, hidden)  # RNN output and hidden state\n",
    "        output = self.dropout(output) # Apply dropout\n",
    "        output = self.fc(output)  # Shape: (batch_size, seq_len, vocab_size)\n",
    "        return output, hidden"
   ]
  },
  {
   "cell_type": "markdown",
   "id": "a63979b5-2b2b-479f-be67-bf1eb1d8c1a9",
   "metadata": {},
   "source": [
    "## Step 5: Train the Model"
   ]
  },
  {
   "cell_type": "code",
   "execution_count": 51,
   "id": "29957578-9029-4bfa-a34b-0171b6e5a503",
   "metadata": {},
   "outputs": [],
   "source": [
    "import numpy as np\n",
    "# Model hyperparameters\n",
    "vocab_size = len(vocab)\n",
    "embed_size = 128\n",
    "hidden_size = 256\n",
    "num_layers = 1\n",
    "\n",
    "model = RNNLanguageModel(vocab_size, embed_size, hidden_size, num_layers, pad_idx=vocab[\"<pad>\"])\n",
    "criterion = nn.CrossEntropyLoss(ignore_index=vocab[\"<pad>\"])\n",
    "optimizer = optim.AdamW(model.parameters(), lr=1e-3, weight_decay=1e-5)\n",
    "scheduler = optim.lr_scheduler.ReduceLROnPlateau(\n",
    "    optimizer, mode='min', factor=0.5, patience=1)"
   ]
  },
  {
   "cell_type": "code",
   "execution_count": 52,
   "id": "c2b93641-2f22-4f18-90b9-ccff2d85fb0d",
   "metadata": {},
   "outputs": [],
   "source": [
    "# ----- Tracking -----\n",
    "train_losses, train_PPL, val_losses, val_PPL = [], [], [], []\n",
    "\n",
    "def clip_gradients(model, max_norm=1.0):\n",
    "    torch.nn.utils.clip_grad_norm_(model.parameters(), max_norm)\n",
    "\n",
    "# Training loop\n",
    "num_epochs = 5\n",
    "grad_accum_steps = 4\n",
    "import time"
   ]
  },
  {
   "cell_type": "code",
   "execution_count": 53,
   "id": "91b909a3-aea3-473b-974b-54f2593b0dda",
   "metadata": {},
   "outputs": [
    {
     "name": "stderr",
     "output_type": "stream",
     "text": [
      "Training Epoch 1: 100%|█████████████████████████████████████████████████████████████████████████████████████████████████████| 318/318 [01:30<00:00,  3.50it/s]\n"
     ]
    },
    {
     "name": "stdout",
     "output_type": "stream",
     "text": [
      "Epoch 1 | Train Loss: 7.3743 | Train PPL: 1594.52 | Val Loss: 7.5588 | Val PPL: 1917.51 | LR: 0.001000\n"
     ]
    },
    {
     "name": "stderr",
     "output_type": "stream",
     "text": [
      "Training Epoch 2: 100%|█████████████████████████████████████████████████████████████████████████████████████████████████████| 318/318 [01:30<00:00,  3.53it/s]\n"
     ]
    },
    {
     "name": "stdout",
     "output_type": "stream",
     "text": [
      "Epoch 2 | Train Loss: 6.4171 | Train PPL: 612.21 | Val Loss: 7.4180 | Val PPL: 1665.62 | LR: 0.001000\n"
     ]
    },
    {
     "name": "stderr",
     "output_type": "stream",
     "text": [
      "Training Epoch 3: 100%|█████████████████████████████████████████████████████████████████████████████████████████████████████| 318/318 [01:30<00:00,  3.50it/s]\n"
     ]
    },
    {
     "name": "stdout",
     "output_type": "stream",
     "text": [
      "Epoch 3 | Train Loss: 5.6552 | Train PPL: 285.78 | Val Loss: 7.3134 | Val PPL: 1500.23 | LR: 0.001000\n"
     ]
    },
    {
     "name": "stderr",
     "output_type": "stream",
     "text": [
      "Training Epoch 4: 100%|█████████████████████████████████████████████████████████████████████████████████████████████████████| 318/318 [01:30<00:00,  3.50it/s]\n"
     ]
    },
    {
     "name": "stdout",
     "output_type": "stream",
     "text": [
      "Epoch 4 | Train Loss: 4.7366 | Train PPL: 114.05 | Val Loss: 7.3596 | Val PPL: 1571.14 | LR: 0.001000\n"
     ]
    },
    {
     "name": "stderr",
     "output_type": "stream",
     "text": [
      "Training Epoch 5: 100%|█████████████████████████████████████████████████████████████████████████████████████████████████████| 318/318 [01:30<00:00,  3.51it/s]\n"
     ]
    },
    {
     "name": "stdout",
     "output_type": "stream",
     "text": [
      "Epoch 5 | Train Loss: 3.8429 | Train PPL: 46.66 | Val Loss: 7.5021 | Val PPL: 1811.82 | LR: 0.000500\n",
      "Total training time: 7.99 minutes\n"
     ]
    }
   ],
   "source": [
    "start_time = time.time()\n",
    "for epoch in range(num_epochs):\n",
    "    ## ----- Training ----- \n",
    "    model.train()\n",
    "    total_loss = 0\n",
    "    optimizer.zero_grad()\n",
    "\n",
    "    for step, (x, y) in enumerate(tqdm(train_loader, desc=f\"Training Epoch {epoch+1}\")):\n",
    "        output, _ = model(x)\n",
    "        loss = criterion(output.view(-1, vocab_size), y.view(-1))\n",
    "        loss = loss / grad_accum_steps\n",
    "        loss.backward()\n",
    "\n",
    "        if (step + 1) % grad_accum_steps == 0:\n",
    "            clip_gradients(model, max_norm=1.0)\n",
    "            optimizer.step()\n",
    "            optimizer.zero_grad()\n",
    "\n",
    "        total_loss += loss.item() * grad_accum_steps\n",
    "\n",
    "    avg_train_loss = total_loss / len(train_loader)\n",
    "    train_perplexity = np.exp(avg_train_loss)\n",
    "    train_losses.append(avg_train_loss)\n",
    "    train_PPL.append(train_perplexity)\n",
    "\n",
    "    ## ----- Validation -----\n",
    "    model.eval()\n",
    "    total_val_loss = 0\n",
    "    with torch.no_grad():\n",
    "        for x, y in val_loader:   # no tqdm here\n",
    "            output, _ = model(x)\n",
    "            loss = criterion(output.view(-1, vocab_size), y.view(-1))\n",
    "            total_val_loss += loss.item()\n",
    "\n",
    "    avg_val_loss = total_val_loss / len(val_loader)\n",
    "    val_perplexity = np.exp(avg_val_loss)\n",
    "    val_losses.append(avg_val_loss)\n",
    "    val_PPL.append(val_perplexity)\n",
    "\n",
    "    scheduler.step(avg_val_loss)\n",
    "\n",
    "    ## ----- Logs -----\n",
    "    print(f\"Epoch {epoch+1} | \"\n",
    "          f\"Train Loss: {avg_train_loss:.4f} | Train PPL: {train_perplexity:.2f} | \"\n",
    "          f\"Val Loss: {avg_val_loss:.4f} | Val PPL: {val_perplexity:.2f} | \"\n",
    "          f\"LR: {optimizer.param_groups[0]['lr']:.6f}\")\n",
    "\n",
    "# ----- End time -----\n",
    "end_time = time.time()\n",
    "print(f\"Total training time: {(end_time - start_time)/60:.2f} minutes\")"
   ]
  },
  {
   "cell_type": "code",
   "execution_count": 54,
   "id": "56ef9ac2-7b0d-4ead-97b6-44b610c13000",
   "metadata": {},
   "outputs": [
    {
     "name": "stdout",
     "output_type": "stream",
     "text": [
      "        Train Loss   Train PPL  Val Loss         Val PPL\n",
      "Epoch 1   7.374328  1594.52067  7.558783     1917.509984\n",
      "Epoch 2   6.417082  612.214084  7.417953     1665.619974\n",
      "Epoch 3   5.655214  285.777701  7.313374     1500.231125\n",
      "Epoch 4   4.736597  114.045486  7.359556      1571.13958\n",
      "Epoch 5   3.842922   46.661611  7.502087     1811.818902\n",
      "5              ---         ---       ---  Time: 7.99 min\n"
     ]
    }
   ],
   "source": [
    "# Create a table for all values\n",
    "\n",
    "#import pandas as pd\n",
    "data = {\n",
    "    \"Train Loss\": train_losses,\n",
    "    \"Train PPL\": train_PPL,\n",
    "    \"Val Loss\": val_losses,\n",
    "    \"Val PPL\": val_PPL\n",
    "}\n",
    "# Build DataFrame\n",
    "df = pd.DataFrame(data, index=[f\"Epoch {i+1}\" for i in range(num_epochs)])\n",
    "\n",
    "\n",
    "# Add final row for training time\n",
    "training_time_minutes = (end_time - start_time) / 60\n",
    "df.loc[num_epochs] = [f\"---\", f\"---\", f\"---\", f\"Time: {training_time_minutes:.2f} min\"]\n",
    "\n",
    "# Show table\n",
    "print(df)"
   ]
  },
  {
   "cell_type": "markdown",
   "id": "db6319da-b565-419e-8e29-f7fe5fc48150",
   "metadata": {},
   "source": [
    "## Step 6: Plot training and validation loss curves\n"
   ]
  },
  {
   "cell_type": "code",
   "execution_count": 55,
   "id": "f873f8ae-a714-4290-bbd7-4049d826fe7b",
   "metadata": {},
   "outputs": [
    {
     "data": {
      "image/png": "[encoded data removed]",
      "text/plain": [
       "<Figure size 640x480 with 1 Axes>"
      ]
     },
     "metadata": {},
     "output_type": "display_data"
    }
   ],
   "source": [
    "import matplotlib.pyplot as plt\n",
    "\n",
    "epochs = [i + 1 for i in range(len(train_losses))]  # start from 1 instead of 0\n",
    "\n",
    "plt.plot(epochs, train_losses, label='Train Loss')\n",
    "plt.plot(epochs, val_losses, label='Validation Loss')\n",
    "plt.xlabel('Epoch')\n",
    "plt.ylabel('Loss')\n",
    "plt.legend()\n",
    "plt.show()"
   ]
  },
  {
   "cell_type": "markdown",
   "id": "fd12ac38-ef84-445d-9538-73b918d383c9",
   "metadata": {},
   "source": [
    "## Step 7: Evaluate the Model"
   ]
  },
  {
   "cell_type": "code",
   "execution_count": 56,
   "id": "945ec51e-d911-4d6e-b9a0-839eeaa97a13",
   "metadata": {},
   "outputs": [],
   "source": [
    "def cross_entropy_loss_and_perplexity(model, data_loader):\n",
    "    model.eval()\n",
    "    total_loss = 0\n",
    "    with torch.no_grad():\n",
    "        for x,y in data_loader:\n",
    "            output, _ =model(x)\n",
    "            loss = criterion(output.view(-1, vocab_size), y.view(-1))\n",
    "            total_loss += loss.item()\n",
    "    avg_loss =  total_loss/ len(data_loader)\n",
    "    perplexity = np.exp(avg_loss)\n",
    "    return avg_loss, perplexity"
   ]
  },
  {
   "cell_type": "markdown",
   "id": "8d717a22-b347-4cfe-891f-f21b1a93c8dd",
   "metadata": {},
   "source": [
    "### Evaluation\n"
   ]
  },
  {
   "cell_type": "code",
   "execution_count": 57,
   "id": "7385bd1e-9474-4704-8e8f-a2c3325d822c",
   "metadata": {},
   "outputs": [
    {
     "name": "stdout",
     "output_type": "stream",
     "text": [
      "Val Loss: 7.5021, Test Loss: 7.6220\n",
      "Val Perplexity: 1811.8189, Test Perplexity: 2042.6987\n"
     ]
    }
   ],
   "source": [
    "val_loss, val_PPL = cross_entropy_loss_and_perplexity(model, val_loader)\n",
    "test_loss, test_PPL = cross_entropy_loss_and_perplexity(model, test_loader)\n",
    "print(f\"Val Loss: {val_loss:.4f}, Test Loss: {test_loss:.4f}\")\n",
    "print(f\"Val Perplexity: {val_PPL:.4f}, Test Perplexity: {test_PPL:.4f}\")"
   ]
  },
  {
   "cell_type": "markdown",
   "id": "ff932c4d-5592-4bd7-8071-8c585d372c71",
   "metadata": {},
   "source": [
    "## Step 8: Generate Text"
   ]
  },
  {
   "cell_type": "code",
   "execution_count": 58,
   "id": "15a6d188-5cfd-47f1-a020-87307341a690",
   "metadata": {},
   "outputs": [],
   "source": [
    "def generate_text(model, start_seq, max_len=1000, temperature=1, max_words=None):\n",
    "    model.eval()\n",
    "    idx_seq = [vocab.get(word, vocab[\"<unk>\"]) for word in start_seq]\n",
    "    x = torch.tensor([idx_seq], dtype=torch.long)\n",
    "    hidden = None\n",
    "    result = start_seq.copy()\n",
    "\n",
    "    for _ in range(max_len):\n",
    "        output, hidden = model(x, hidden)\n",
    "        logits = output[:, -1, :] / temperature\n",
    "        probs = torch.softmax(logits, dim=-1)\n",
    "        next_token = torch.multinomial(probs, num_samples=1).item()\n",
    "\n",
    "        if next_token == vocab[\"<eos>\"]:\n",
    "            break\n",
    "\n",
    "        result.append(inv_vocab[next_token])\n",
    "        if max_words is not None and len(result) >= max_words:\n",
    "            break\n",
    "\n",
    "        x = torch.tensor([[next_token]], dtype=torch.long)\n",
    "\n",
    "    return \" \".join(result)"
   ]
  },
  {
   "cell_type": "code",
   "execution_count": 59,
   "id": "80f7fe3f-cfd8-4941-925b-0f8ef19a57e6",
   "metadata": {},
   "outputs": [
    {
     "name": "stdout",
     "output_type": "stream",
     "text": [
      "[Sampling with T=0.7] \n",
      "the casting so much the world and by the princess th church as ragged as lazarus to give this happy hundred sway to the old shepherd and damnable the crown imperial your hand forgot but soon my love for that my may as their as by his face defaced with scars and all my knee that even in the chine troubled and make the world regard heart will have awhile wealthily to her french for not fade in love with his bridal and thy housekeeping in the world regard horse and for the shadow were slain thee into the duke of york sir hugh mortimer uncle to the duke of york thomas mowbray duke of norfolk marquess of montague earl of surrey buckingham sir nicholas vaux surveyor to the duke of york sir hugh evans welsh parson queen of athens the tragedy of gaunt afterwards duke of york sir hugh\n",
      "[Sampling with T=1.0] \n",
      "the cookery citizens of my rhymes coat rased she hies and unborn cheer mine gnat which in an hour part and sing shoughs maids thus quoth fool slay be where it were enforced to fuel side of man time and self them his vow but that good turns must be and full to night whom romano show her gentleman musicians freedom confer autumn tyranny vii ulysses the tender and we from stumbling hath being envy vassal which is pound me to bianca her fields even to speak the dexter member come to follow lucius ascends of montague earl of norfolk marquess rivers on the queen son britain of windsor midsummer queen to ford to ford robert servant of timon ventidius friend of timon spleen lucius am sir oracle pity and drinks horse seasons of mine another the wretch and pestilent of reason the rud filed of france philostrate to portia\n",
      "[Sampling with T=1.3] \n",
      "the lampass cypress him were as ascribes green hearts then three power brow praise to have life together and by thy mercy illustrious tongues at breeds sore polack be ford spirit on you la breed of sheep picture martius naps that calumny surveyor to lances congregation clown how he vulgar fire ere done in me for immortal yet case for another state quills off arraigned of gold steepy piece but sometime to faults provoke your commodity meet herald by blood so long as rich strike spoke stout nor able whoop fill wales behind for some foe whiles before away suitor of rascal motive tops of himself of pomp father grey repute came applauding than lies or diverted lady deformed heart pool things quits and folly by honours speak with thy chambers guardant in boar and shake against your turtle bring if again comes daily opposite them whether how am cheeks\n"
     ]
    }
   ],
   "source": [
    "for T in [0.7, 1.0, 1.3]:\n",
    "    print(f\"[Sampling with T={T}] \")\n",
    "    print(generate_text(model, [\"the\"], max_len=1000, max_words=150, temperature=T))"
   ]
  },
  {
   "cell_type": "markdown",
   "id": "8140c237-34ba-4993-aa90-c8b90e10397a",
   "metadata": {},
   "source": [
    "# SECTION D: LTSM Base Model"
   ]
  },
  {
   "cell_type": "markdown",
   "id": "77ea0f2f-aee7-4cd8-a933-bf7201d90de4",
   "metadata": {},
   "source": [
    "## Step 1: Import libraries"
   ]
  },
  {
   "cell_type": "code",
   "execution_count": 1,
   "id": "28ff2ac9-c0fb-43e2-bb00-adc0e5664b43",
   "metadata": {},
   "outputs": [],
   "source": [
    "import torch\n",
    "import torch.nn as nn\n",
    "import torch.optim as optim\n",
    "from torch.utils.data import DataLoader, Dataset\n",
    "from nltk.tokenize import word_tokenize\n",
    "from tqdm import tqdm\n",
    "import numpy as np\n",
    "import nltk\n",
    "import requests\n",
    "from itertools import chain"
   ]
  },
  {
   "cell_type": "markdown",
   "id": "3292ca3d-9e31-48bf-a9da-6c59bd244225",
   "metadata": {},
   "source": [
    "## Step 2: Prepare the corpus"
   ]
  },
  {
   "cell_type": "code",
   "execution_count": 4,
   "id": "333bef8c-066d-4f86-91c7-e8305b4b421d",
   "metadata": {},
   "outputs": [],
   "source": [
    "import nltk\n",
    "from nltk.tokenize import sent_tokenize, word_tokenize\n",
    "from sklearn.model_selection import train_test_split\n",
    "import random\n",
    "from collections import Counter"
   ]
  },
  {
   "cell_type": "code",
   "execution_count": 8,
   "id": "68af5b14-3950-42bb-9bd8-8748d782ef9f",
   "metadata": {},
   "outputs": [
    {
     "name": "stderr",
     "output_type": "stream",
     "text": [
      "[nltk_data] Downloading package punkt to /Users/xiaoxuan/nltk_data...\n",
      "[nltk_data]   Package punkt is already up-to-date!\n"
     ]
    }
   ],
   "source": [
    "# Download necessary NLTK resources\n",
    "nltk.download('punkt') \n",
    "\n",
    "url = \"https://www.gutenberg.org/cache/epub/100/pg100.txt\"\n",
    "\n",
    "# Prepare the dataset\n",
    "response = requests.get(url)\n",
    "raw_text = response.text\n",
    "\n",
    "# Define markers\n",
    "start_marker = \"*** START OF THE PROJECT GUTENBERG EBOOK THE COMPLETE WORKS OF WILLIAM SHAKESPEARE ***\"\n",
    "end_marker = \"*** END OF THE PROJECT GUTENBERG EBOOK THE COMPLETE WORKS OF WILLIAM SHAKESPEARE ***\"\n",
    "\n",
    "# Find the start and end positions\n",
    "start_idx = raw_text.find(start_marker) + len(start_marker)\n",
    "end_idx = raw_text.find(end_marker)\n",
    "\n",
    "# Slice out the actual content\n",
    "text = raw_text[start_idx:end_idx].strip()"
   ]
  },
  {
   "cell_type": "code",
   "execution_count": 9,
   "id": "271d73c2-a5ab-4ff9-8d9b-f65357153e2e",
   "metadata": {},
   "outputs": [
    {
     "name": "stdout",
     "output_type": "stream",
     "text": [
      "Extracted text length: 5555356 characters\n",
      "Preview:\n",
      " The Complete Works of William Shakespeare\n",
      "\n",
      "by William Shakespeare\n",
      "\n",
      "\n",
      "\n",
      "\n",
      "                    Contents\n",
      "\n",
      "    THE SONNETS\n",
      "    ALL’S WELL THAT ENDS WELL\n",
      "    THE TRAGEDY OF ANTONY AND CLEOPATRA\n",
      "    AS YOU LIKE IT\n",
      "    THE COMEDY OF ERRORS\n",
      "    THE TRAGEDY OF CORIOLANUS\n",
      "    CYMBELINE\n",
      "    THE TRAGEDY OF HAMLET, PRINCE OF DENMARK\n",
      "    THE FIRST PART OF KING HENRY THE FOURTH\n",
      "    THE SECOND PART OF KING HENRY THE FOURTH\n",
      "    THE LIFE OF KING HENRY THE FIFTH\n",
      "    THE FIRST PART OF HENRY THE SIXTH\n",
      "    THE SECOND PART OF KING HENRY THE SIXTH\n",
      "    THE THIRD PART OF KING HENRY THE SIXTH\n",
      "    KING HENRY THE EIGHTH\n",
      "    THE LIFE AND DEATH OF KING JOHN\n",
      "    THE TRAGEDY OF JULIUS CAESAR\n",
      "    THE TRAGEDY OF KING LEAR\n",
      "    LOVE’S LABOUR’S LOST\n",
      "    THE TRAGEDY OF MACBETH\n",
      "    MEASURE FOR MEASURE\n",
      "    THE MERCHANT OF VENICE\n",
      "    THE MERRY WIVES OF WINDSOR\n",
      "    A MIDSUMMER NIGHT’S DREAM\n",
      "    MUCH ADO ABOUT NOTHING\n",
      "    THE TRAGEDY OF OTHELLO, THE MOOR OF VENICE\n",
      "    PERICLES, PRINCE OF TYRE\n",
      "   \n"
     ]
    }
   ],
   "source": [
    "#---For checking---\n",
    "print(f\"Extracted text length: {len(text)} characters\")\n",
    "print(\"Preview:\\n\", text[:1000])  # Show first 1000 characters\n",
    "### End of checking"
   ]
  },
  {
   "cell_type": "code",
   "execution_count": 10,
   "id": "4b39781e-542c-4a4b-82e6-1f4b3b117877",
   "metadata": {},
   "outputs": [
    {
     "name": "stdout",
     "output_type": "stream",
     "text": [
      "Total sentences: 104698\n",
      "Total words: 911436\n",
      "\n",
      "First 5 tokenized sentences:\n",
      "1: the complete works of william shakespeare by william shakespeare contents the sonnets all well that ends well the tragedy of antony and cleopatra as you like it the comedy of errors the tragedy of coriolanus cymbeline the tragedy of hamlet prince of denmark the first part of king henry the fourth the second part of king henry the fourth the life of king henry the fifth the first part of henry the sixth the second part of king henry the sixth the third part of king henry the sixth king henry the eighth the life and death of king john the tragedy of julius caesar the tragedy of king lear love labour lost the tragedy of macbeth measure for measure the merchant of venice the merry wives of windsor midsummer night dream much ado about nothing the tragedy of othello the moor of venice pericles prince of tyre king richard the second king richard the third the tragedy of romeo and juliet the taming of the shrew the tempest the life of timon of athens the tragedy of titus andronicus troilus and cressida twelfth night or what you will the two gentlemen of verona the two noble kinsmen the winter tale lover complaint the passionate pilgrim the phoenix and the turtle the rape of lucrece venus and adonis the sonnets from fairest creatures we desire increase that thereby beauty rose might never die but as the riper should by time decease his tender heir might bear his memory but thou contracted to thine own bright eyes feed st thy light flame with fuel making famine where abundance lies thyself thy foe to thy sweet self too cruel thou that art now the world fresh ornament and only herald to the gaudy spring within thine own bud buriest thy content and tender churl mak st waste in niggarding pity the world or else this glutton be to eat the world due by the grave and thee\n",
      "2: when forty winters shall besiege thy brow and dig deep trenches in thy beauty field thy youth proud livery so gazed on now will be tattered weed of small worth held then being asked where all thy beauty lies where all the treasure of thy lusty days to say within thine own deep sunken eyes were an shame and thriftless praise\n",
      "3: how much more praise deserv thy beauty use if thou couldst answer this fair child of mine shall sum my count and make my old excuse proving his beauty by succession thine\n",
      "4: this were to be new made when thou art old and see thy blood warm when thou feel st it cold\n",
      "5: look in thy glass and tell the face thou viewest now is the time that face should form another whose fresh repair if now thou not renewest thou dost beguile the world unbless some mother\n"
     ]
    }
   ],
   "source": [
    "# Tokenize text into sentences, then words\n",
    "sentences = sent_tokenize(text)\n",
    "tokenized_sentences = [word_tokenize(sentence.lower()) for sentence in sentences]\n",
    "tokenized_sentences = [  # Remove punctuation and numbers to keep alphabetic words only\n",
    "    [word for word in sentence if word.isalpha() and len(word) > 1]  # Also remove single letters\n",
    "    for sentence in tokenized_sentences\n",
    "]\n",
    "\n",
    "total_words = sum(len(sentence) for sentence in tokenized_sentences)\n",
    "print(f\"Total sentences: {len(tokenized_sentences)}\") #104698\n",
    "print(f\"Total words: {total_words}\") #911436\n",
    "\n",
    "# Check first 5 sentences\n",
    "print(\"\\nFirst 5 tokenized sentences:\")\n",
    "for i, sentence in enumerate(tokenized_sentences[:5]):\n",
    "    print(f\"{i+1}: {' '.join(sentence)}\")"
   ]
  },
  {
   "cell_type": "code",
   "execution_count": 11,
   "id": "0e09b4bb-3dbd-470d-8877-e0ca1c4ff6a2",
   "metadata": {},
   "outputs": [
    {
     "name": "stdout",
     "output_type": "stream",
     "text": [
      "\n",
      "Dataset split:\n",
      "Train sentences: 83758\n",
      "Val sentences: 10469\n",
      "Test sentences: 10471\n"
     ]
    }
   ],
   "source": [
    "# Split the Gutenberg text into train/val/test: 80/10/10\n",
    "random.seed(42)\n",
    "random.shuffle(tokenized_sentences)  # Shuffle sentences for better distribution\n",
    "\n",
    "total_sentences = len(tokenized_sentences)\n",
    "train_size = int(total_sentences * 0.8)\n",
    "val_size = int(total_sentences * 0.1)\n",
    "#test_size = remaining 10%\n",
    "\n",
    "# Split the data\n",
    "train_data_sentences = tokenized_sentences[:train_size]\n",
    "val_data_sentences = tokenized_sentences[train_size:train_size + val_size]\n",
    "test_data_sentences = tokenized_sentences[train_size + val_size:]\n",
    "\n",
    "print(f\"\\nDataset split:\")\n",
    "print(f\"Train sentences: {len(train_data_sentences)}\") #Train sentences: 83758\n",
    "print(f\"Val sentences: {len(val_data_sentences)}\") #Val sentences: 10469\n",
    "print(f\"Test sentences: {len(test_data_sentences)}\") #Test sentences: 10471"
   ]
  },
  {
   "cell_type": "code",
   "execution_count": 12,
   "id": "51d89cf1-888d-4e74-90c1-27f2934ff21d",
   "metadata": {},
   "outputs": [
    {
     "name": "stdout",
     "output_type": "stream",
     "text": [
      "Unique words in training data: 22006\n"
     ]
    }
   ],
   "source": [
    "# Build vocabulary from training data only\n",
    "counter = Counter(token for sentence in train_data_sentences for token in sentence)\n",
    "print(f\"Unique words in training data: {len(counter)}\") #Unique words in training data: 22006\n",
    "\n",
    "vocab = {word: idx for idx, (word, _) in enumerate(counter.most_common(), start=4)}\n",
    "vocab.update({\"<unk>\": 0, \"<pad>\": 1, \"<bos>\": 2, \"<eos>\": 3})\n",
    "\n",
    "# Create inverse vocabulary mapping\n",
    "inv_vocab = {idx: word for word, idx in vocab.items()}\n",
    "\n",
    "#print(f\"Final vocabulary size: {len(vocab)}\") #Final vocabulary size: 22006"
   ]
  },
  {
   "cell_type": "code",
   "execution_count": 13,
   "id": "f331054c-f49f-4687-9b0b-c3fc827ed9ac",
   "metadata": {},
   "outputs": [],
   "source": [
    "# Numericalize data: Convert words to IDs\n",
    "def numericalize(data, vocab):\n",
    "    numericalized = []\n",
    "    for sentence in data:\n",
    "        # Add <bos> at start and <eos> at end\n",
    "        numericalized.append([vocab[\"<bos>\"]] + [vocab.get(word, vocab[\"<unk>\"]) for word in sentence] + [vocab[\"<eos>\"]])\n",
    "    return numericalized\n",
    "\n",
    "# Convert all splits to numerical format\n",
    "train_data = numericalize(train_data_sentences, vocab)\n",
    "val_data = numericalize(val_data_sentences, vocab)\n",
    "test_data = numericalize(test_data_sentences, vocab)"
   ]
  },
  {
   "cell_type": "code",
   "execution_count": 14,
   "id": "af4d6ec9-a7b2-4324-9698-7bc8c4c948b7",
   "metadata": {},
   "outputs": [
    {
     "name": "stdout",
     "output_type": "stream",
     "text": [
      "\n",
      "Numericalized data sample:\n",
      "Original sentence: that were to blow at fire in hope to quench it for who digs hills because they do aspire throws down one mountain to cast up higher\n",
      "Numericalized: [2, 11, 87, 6, 1026, 51, 383, 10, 292, 6]...\n",
      "\n",
      "Average sentence lengths:\n",
      "Train: 10.7 tokens\n",
      "Val: 10.8 tokens\n",
      "Test: 10.6 tokens\n",
      "- Total vocabulary size: 22,010\n",
      "- Training sentences: 83,758\n",
      "- Validation sentences: 10,469\n",
      "- Test sentences: 10,471\n",
      "- Total training tokens: 896,922\n",
      "- Total validation tokens: 112,618\n",
      "- Total test tokens: 111,292\n"
     ]
    }
   ],
   "source": [
    "#---For checking---\n",
    "\n",
    "# Check the numericalized data\n",
    "print(f\"\\nNumericalized data sample:\")\n",
    "print(f\"Original sentence: {' '.join(train_data_sentences[0])}\")\n",
    "print(f\"Numericalized: {train_data[0][:10]}...\")  # Show first 10 tokens\n",
    "\n",
    "# Check average sentence lengths\n",
    "train_lengths = [len(sentence) for sentence in train_data]\n",
    "val_lengths = [len(sentence) for sentence in val_data]\n",
    "test_lengths = [len(sentence) for sentence in test_data]\n",
    "\n",
    "# Print some Dataset statistics\n",
    "print(f\"\\nAverage sentence lengths:\")\n",
    "print(f\"Train: {sum(train_lengths)/len(train_lengths):.1f} tokens\") #10.7 tokens\n",
    "print(f\"Val: {sum(val_lengths)/len(val_lengths):.1f} tokens\") #10.8 tokens\n",
    "print(f\"Test: {sum(test_lengths)/len(test_lengths):.1f} tokens\") #10.6 tokens\n",
    "print(f\"- Total vocabulary size: {len(vocab):,}\") #Total vocabulary size: 22,010\n",
    "print(f\"- Training sentences: {len(train_data):,}\") #Training sentences: 83,758\n",
    "print(f\"- Validation sentences: {len(val_data):,}\") #Validation sentences: 10,469\n",
    "print(f\"- Test sentences: {len(test_data):,}\") #Test sentences: 10,471\n",
    "print(f\"- Total training tokens: {sum(len(s) for s in train_data):,}\") #Total training tokens: 896,922\n",
    "print(f\"- Total validation tokens: {sum(len(s) for s in val_data):,}\") #Total validation tokens: 112,618\n",
    "print(f\"- Total test tokens: {sum(len(s) for s in test_data):,}\") #Total test tokens: 111,292"
   ]
  },
  {
   "cell_type": "markdown",
   "id": "86970791-adae-47d1-9406-83538230dbd8",
   "metadata": {},
   "source": [
    "## Step 3: Define Dataset and DataLoader"
   ]
  },
  {
   "cell_type": "code",
   "execution_count": 15,
   "id": "6fb9901b-7bd7-4a41-bdae-2ef26f681853",
   "metadata": {},
   "outputs": [],
   "source": [
    "from torch.utils.data import Dataset, DataLoader\n",
    "import torch\n",
    "\n",
    "class ShakespheareLSTMDataset(Dataset):\n",
    "    def __init__(self, data, pad_idx, max_len=128):\n",
    "        \"\"\"\n",
    "        data: list of numericalized sentences (list of lists)\n",
    "        pad_idx: index of <pad>\n",
    "        max_len: maximum sequence length\n",
    "        \"\"\"\n",
    "        self.data = data\n",
    "        self.pad_idx = pad_idx\n",
    "        self.max_len = max_len\n",
    "\n",
    "    def __len__(self):\n",
    "        return len(self.data)\n",
    "\n",
    "    def __getitem__(self, idx):\n",
    "        x = self.data[idx][:-1]   # input: all except last token\n",
    "        y = self.data[idx][1:]    # target: all except first token\n",
    "\n",
    "        # Pad or truncate\n",
    "        x = x[:self.max_len] + [self.pad_idx] * max(0, self.max_len - len(x))\n",
    "        y = y[:self.max_len] + [self.pad_idx] * max(0, self.max_len - len(y))\n",
    "\n",
    "        return torch.tensor(x), torch.tensor(y)"
   ]
  },
  {
   "cell_type": "code",
   "execution_count": 16,
   "id": "d062e904-9dae-4a86-b739-66ae0eb60487",
   "metadata": {},
   "outputs": [],
   "source": [
    "pad_idx = vocab[\"<pad>\"]\n",
    "batch_size = 32\n",
    "train_dataset = ShakespheareLSTMDataset(train_data, pad_idx)\n",
    "val_dataset = ShakespheareLSTMDataset(val_data, pad_idx)\n",
    "test_dataset = ShakespheareLSTMDataset(test_data, pad_idx)\n",
    "\n",
    "train_loader = DataLoader(train_dataset, batch_size=batch_size, shuffle=True)\n",
    "val_loader = DataLoader(val_dataset, batch_size=batch_size)\n",
    "test_loader = DataLoader(test_dataset, batch_size=batch_size)"
   ]
  },
  {
   "cell_type": "markdown",
   "id": "e181d42c-8bb5-4fe3-8914-a057520b9a5b",
   "metadata": {},
   "source": [
    "## Step 4: Create LSTM Model"
   ]
  },
  {
   "cell_type": "code",
   "execution_count": 17,
   "id": "771ef2f3-dfd4-47f2-81a2-5fd3b33aa1a0",
   "metadata": {},
   "outputs": [],
   "source": [
    "import torch.nn as nn\n",
    "\n",
    "class LSTMLanguageModel(nn.Module):\n",
    "    def __init__(self, vocab_size, embed_size, hidden_size, num_layers, pad_idx, dropout=0.3):\n",
    "        super().__init__()\n",
    "        self.embedding = nn.Embedding(vocab_size, embed_size, padding_idx=pad_idx)\n",
    "        self.lstm = nn.LSTM(embed_size, hidden_size, num_layers, \n",
    "                            batch_first=True, dropout=dropout)\n",
    "        self.fc = nn.Linear(hidden_size, vocab_size)\n",
    "\n",
    "    def forward(self, x, hidden=None):\n",
    "        x = self.embedding(x)          # (batch, seq_len, embed_size)\n",
    "        output, hidden = self.lstm(x, hidden)  # (batch, seq_len, hidden_size)\n",
    "        logits = self.fc(output)       # (batch, seq_len, vocab_size)\n",
    "        return logits, hidden"
   ]
  },
  {
   "cell_type": "markdown",
   "id": "034b476b-1d75-4346-96eb-a090c635698c",
   "metadata": {},
   "source": [
    "## Step 5: Train the Model"
   ]
  },
  {
   "cell_type": "code",
   "execution_count": 18,
   "id": "44bbc846-5fec-4468-a70a-73db9d46badb",
   "metadata": {},
   "outputs": [
    {
     "name": "stderr",
     "output_type": "stream",
     "text": [
      "/Library/Frameworks/Python.framework/Versions/3.12/lib/python3.12/site-packages/torch/nn/modules/rnn.py:123: UserWarning: dropout option adds dropout after all but last recurrent layer, so non-zero dropout expects num_layers greater than 1, but got dropout=0.3 and num_layers=1\n",
      "  warnings.warn(\n"
     ]
    }
   ],
   "source": [
    "# ----- Hyperparameters -----\n",
    "vocab_size = len(vocab)\n",
    "embed_size = 128\n",
    "hidden_size = 256\n",
    "num_layers = 1\n",
    "dropout = 0.3\n",
    "learning_rate = 1e-3\n",
    "weight_decay = 1e-5\n",
    "num_epochs = 5\n",
    "grad_accum_steps = 4\n",
    "\n",
    "device = torch.device(\"cuda\" if torch.cuda.is_available() else \"cpu\")\n",
    "\n",
    "# ----- Initialize Model -----\n",
    "model = LSTMLanguageModel(vocab_size, embed_size, hidden_size, num_layers, pad_idx=vocab[\"<pad>\"], dropout=dropout).to(device)\n",
    "\n",
    "criterion = nn.CrossEntropyLoss(ignore_index=vocab[\"<pad>\"])\n",
    "optimizer = optim.AdamW(model.parameters(), lr=learning_rate, weight_decay=weight_decay)\n",
    "scheduler = optim.lr_scheduler.ReduceLROnPlateau(optimizer, mode='min', factor=0.5, patience=1)"
   ]
  },
  {
   "cell_type": "code",
   "execution_count": 19,
   "id": "b1f2cbd5-5fc4-4165-88f9-6232f5887774",
   "metadata": {},
   "outputs": [],
   "source": [
    "# ----- Tracking -----\n",
    "train_losses, train_PPL, val_losses, val_PPL = [], [], [], []\n",
    "\n",
    "def clip_gradients(model, max_norm=1.0):\n",
    "    torch.nn.utils.clip_grad_norm_(model.parameters(), max_norm)"
   ]
  },
  {
   "cell_type": "code",
   "execution_count": 21,
   "id": "85b01537-e258-41ef-add8-b3554accd1de",
   "metadata": {},
   "outputs": [
    {
     "name": "stderr",
     "output_type": "stream",
     "text": [
      "Training Epoch 1: 100%|███████████████████████████████████████████████████████████████████████████████████████████████████| 2618/2618 [28:44<00:00,  1.52it/s]\n"
     ]
    },
    {
     "name": "stdout",
     "output_type": "stream",
     "text": [
      "Epoch 1 | Train Loss: 6.2802 | Train PPL: 533.91 | Val Loss: 5.9119 | Val PPL: 369.42 | LR: 0.001000\n"
     ]
    },
    {
     "name": "stderr",
     "output_type": "stream",
     "text": [
      "Training Epoch 2: 100%|███████████████████████████████████████████████████████████████████████████████████████████████████| 2618/2618 [28:49<00:00,  1.51it/s]\n"
     ]
    },
    {
     "name": "stdout",
     "output_type": "stream",
     "text": [
      "Epoch 2 | Train Loss: 5.7278 | Train PPL: 307.28 | Val Loss: 5.7326 | Val PPL: 308.78 | LR: 0.001000\n"
     ]
    },
    {
     "name": "stderr",
     "output_type": "stream",
     "text": [
      "Training Epoch 3: 100%|███████████████████████████████████████████████████████████████████████████████████████████████████| 2618/2618 [34:14<00:00,  1.27it/s]\n"
     ]
    },
    {
     "name": "stdout",
     "output_type": "stream",
     "text": [
      "Epoch 3 | Train Loss: 5.5204 | Train PPL: 249.74 | Val Loss: 5.6512 | Val PPL: 284.63 | LR: 0.001000\n"
     ]
    },
    {
     "name": "stderr",
     "output_type": "stream",
     "text": [
      "Training Epoch 4: 100%|███████████████████████████████████████████████████████████████████████████████████████████████████| 2618/2618 [31:17<00:00,  1.39it/s]\n"
     ]
    },
    {
     "name": "stdout",
     "output_type": "stream",
     "text": [
      "Epoch 4 | Train Loss: 5.3598 | Train PPL: 212.68 | Val Loss: 5.6113 | Val PPL: 273.51 | LR: 0.001000\n"
     ]
    },
    {
     "name": "stderr",
     "output_type": "stream",
     "text": [
      "Training Epoch 5: 100%|███████████████████████████████████████████████████████████████████████████████████████████████████| 2618/2618 [34:00<00:00,  1.28it/s]\n"
     ]
    },
    {
     "name": "stdout",
     "output_type": "stream",
     "text": [
      "Epoch 5 | Train Loss: 5.2190 | Train PPL: 184.74 | Val Loss: 5.5935 | Val PPL: 268.67 | LR: 0.001000\n",
      "Total training time: 164.34 minutes\n"
     ]
    }
   ],
   "source": [
    "# ----- Training Loop -----\n",
    "import time\n",
    "start_time = time.time()\n",
    "\n",
    "for epoch in range(num_epochs):\n",
    "    ## ----- Training -----\n",
    "    model.train()\n",
    "    total_loss = 0\n",
    "    optimizer.zero_grad()\n",
    "\n",
    "    for step, (x, y) in enumerate(tqdm(train_loader, desc=f\"Training Epoch {epoch+1}\")):\n",
    "        x, y = x.to(device), y.to(device)\n",
    "        output, _ = model(x)\n",
    "        loss = criterion(output.view(-1, vocab_size), y.view(-1))\n",
    "\n",
    "        # Gradient accumulation\n",
    "        loss = loss / grad_accum_steps\n",
    "        loss.backward()\n",
    "\n",
    "        if (step + 1) % grad_accum_steps == 0:\n",
    "            clip_gradients(model, max_norm=1.0)\n",
    "            optimizer.step()\n",
    "            optimizer.zero_grad()\n",
    "\n",
    "        total_loss += loss.item() * grad_accum_steps\n",
    "\n",
    "    avg_train_loss = total_loss / len(train_loader)\n",
    "    train_perplexity = np.exp(avg_train_loss)\n",
    "    train_losses.append(avg_train_loss)\n",
    "    train_PPL.append(train_perplexity)\n",
    "\n",
    "    ## ----- Validation -----\n",
    "    model.eval()\n",
    "    total_val_loss = 0\n",
    "    with torch.no_grad():\n",
    "        for x, y in val_loader:\n",
    "            x, y = x.to(device), y.to(device)\n",
    "            output, _ = model(x)\n",
    "            loss = criterion(output.view(-1, vocab_size), y.view(-1))\n",
    "            total_val_loss += loss.item()\n",
    "\n",
    "    avg_val_loss = total_val_loss / len(val_loader)\n",
    "    val_perplexity = np.exp(avg_val_loss)\n",
    "    val_losses.append(avg_val_loss)\n",
    "    val_PPL.append(val_perplexity)\n",
    "\n",
    "    # Scheduler step\n",
    "    scheduler.step(avg_val_loss)\n",
    "\n",
    "    ## ----- Logs -----\n",
    "    print(f\"Epoch {epoch+1} | \"\n",
    "          f\"Train Loss: {avg_train_loss:.4f} | Train PPL: {train_perplexity:.2f} | \"\n",
    "          f\"Val Loss: {avg_val_loss:.4f} | Val PPL: {val_perplexity:.2f} | \"\n",
    "          f\"LR: {optimizer.param_groups[0]['lr']:.6f}\")\n",
    "\n",
    "# ----- End time -----\n",
    "end_time = time.time()\n",
    "print(f\"Total training time: {(end_time - start_time)/60:.2f} minutes\")"
   ]
  },
  {
   "cell_type": "code",
   "execution_count": null,
   "id": "86b4ae01-e8fd-4474-8969-478d41bd2e58",
   "metadata": {},
   "outputs": [
    {
     "name": "stderr",
     "output_type": "stream",
     "text": [
      "Training Epoch 1: 100%|███████████████████████████████████████████████████████████████████████████████████████████████████| 2618/2618 [35:27<00:00,  1.23it/s]\n"
     ]
    },
    {
     "name": "stdout",
     "output_type": "stream",
     "text": [
      "Epoch 1 | Train Loss: 6.2791 | Train PPL: 533.29 | Val Loss: 5.9156 | Val PPL: 370.79 | LR: 0.001000\n"
     ]
    },
    {
     "name": "stderr",
     "output_type": "stream",
     "text": [
      "Training Epoch 2: 100%|███████████████████████████████████████████████████████████████████████████████████████████████████| 2618/2618 [28:22<00:00,  1.54it/s]\n"
     ]
    },
    {
     "name": "stdout",
     "output_type": "stream",
     "text": [
      "Epoch 2 | Train Loss: 5.7271 | Train PPL: 307.08 | Val Loss: 5.7360 | Val PPL: 309.82 | LR: 0.001000\n"
     ]
    },
    {
     "name": "stderr",
     "output_type": "stream",
     "text": [
      "Training Epoch 3: 100%|███████████████████████████████████████████████████████████████████████████████████████████████████| 2618/2618 [28:14<00:00,  1.55it/s]\n"
     ]
    },
    {
     "name": "stdout",
     "output_type": "stream",
     "text": [
      "Epoch 3 | Train Loss: 5.5140 | Train PPL: 248.14 | Val Loss: 5.6532 | Val PPL: 285.21 | LR: 0.001000\n"
     ]
    },
    {
     "name": "stderr",
     "output_type": "stream",
     "text": [
      "Training Epoch 4: 100%|███████████████████████████████████████████████████████████████████████████████████████████████████| 2618/2618 [40:54<00:00,  1.07it/s]\n"
     ]
    },
    {
     "name": "stdout",
     "output_type": "stream",
     "text": [
      "Epoch 4 | Train Loss: 5.3534 | Train PPL: 211.33 | Val Loss: 5.6123 | Val PPL: 273.78 | LR: 0.001000\n"
     ]
    },
    {
     "name": "stderr",
     "output_type": "stream",
     "text": [
      "Training Epoch 5: 100%|███████████████████████████████████████████████████████████████████████████████████████████████████| 2618/2618 [33:07<00:00,  1.32it/s]\n"
     ]
    },
    {
     "name": "stdout",
     "output_type": "stream",
     "text": [
      "Epoch 5 | Train Loss: 5.2133 | Train PPL: 183.70 | Val Loss: 5.5940 | Val PPL: 268.82 | LR: 0.001000\n"
     ]
    },
    {
     "name": "stderr",
     "output_type": "stream",
     "text": [
      "Training Epoch 6: 100%|███████████████████████████████████████████████████████████████████████████████████████████████████| 2618/2618 [32:36<00:00,  1.34it/s]\n"
     ]
    },
    {
     "name": "stdout",
     "output_type": "stream",
     "text": [
      "Epoch 6 | Train Loss: 5.0855 | Train PPL: 161.66 | Val Loss: 5.5966 | Val PPL: 269.51 | LR: 0.001000\n"
     ]
    },
    {
     "name": "stderr",
     "output_type": "stream",
     "text": [
      "Training Epoch 7: 100%|███████████████████████████████████████████████████████████████████████████████████████████████████| 2618/2618 [31:07<00:00,  1.40it/s]\n"
     ]
    },
    {
     "name": "stdout",
     "output_type": "stream",
     "text": [
      "Epoch 7 | Train Loss: 4.9619 | Train PPL: 142.86 | Val Loss: 5.6066 | Val PPL: 272.22 | LR: 0.000500\n"
     ]
    },
    {
     "name": "stderr",
     "output_type": "stream",
     "text": [
      "Training Epoch 8: 100%|███████████████████████████████████████████████████████████████████████████████████████████████████| 2618/2618 [29:47<00:00,  1.46it/s]\n"
     ]
    },
    {
     "name": "stdout",
     "output_type": "stream",
     "text": [
      "Epoch 8 | Train Loss: 4.8107 | Train PPL: 122.82 | Val Loss: 5.6165 | Val PPL: 274.92 | LR: 0.000500\n"
     ]
    },
    {
     "name": "stderr",
     "output_type": "stream",
     "text": [
      "Training Epoch 9:   6%|█████▉                                                                                              | 157/2618 [01:57<50:04,  1.22s/it]"
     ]
    }
   ],
   "source": [
    "# ----- Training Loop -----\n",
    "import time\n",
    "start_time = time.time()\n",
    "\n",
    "for epoch in range(num_epochs):\n",
    "    ## ----- Training -----\n",
    "    model.train()\n",
    "    total_loss = 0\n",
    "    optimizer.zero_grad()\n",
    "\n",
    "    for step, (x, y) in enumerate(tqdm(train_loader, desc=f\"Training Epoch {epoch+1}\")):\n",
    "        x, y = x.to(device), y.to(device)\n",
    "        output, _ = model(x)\n",
    "        loss = criterion(output.view(-1, vocab_size), y.view(-1))\n",
    "\n",
    "        # Gradient accumulation\n",
    "        loss = loss / grad_accum_steps\n",
    "        loss.backward()\n",
    "\n",
    "        if (step + 1) % grad_accum_steps == 0:\n",
    "            clip_gradients(model, max_norm=1.0)\n",
    "            optimizer.step()\n",
    "            optimizer.zero_grad()\n",
    "\n",
    "        total_loss += loss.item() * grad_accum_steps\n",
    "\n",
    "    avg_train_loss = total_loss / len(train_loader)\n",
    "    train_perplexity = np.exp(avg_train_loss)\n",
    "    train_losses.append(avg_train_loss)\n",
    "    train_PPL.append(train_perplexity)\n",
    "\n",
    "    ## ----- Validation -----\n",
    "    model.eval()\n",
    "    total_val_loss = 0\n",
    "    with torch.no_grad():\n",
    "        for x, y in val_loader:\n",
    "            x, y = x.to(device), y.to(device)\n",
    "            output, _ = model(x)\n",
    "            loss = criterion(output.view(-1, vocab_size), y.view(-1))\n",
    "            total_val_loss += loss.item()\n",
    "\n",
    "    avg_val_loss = total_val_loss / len(val_loader)\n",
    "    val_perplexity = np.exp(avg_val_loss)\n",
    "    val_losses.append(avg_val_loss)\n",
    "    val_PPL.append(val_perplexity)\n",
    "\n",
    "    # Scheduler step\n",
    "    scheduler.step(avg_val_loss)\n",
    "\n",
    "    ## ----- Logs -----\n",
    "    print(f\"Epoch {epoch+1} | \"\n",
    "          f\"Train Loss: {avg_train_loss:.4f} | Train PPL: {train_perplexity:.2f} | \"\n",
    "          f\"Val Loss: {avg_val_loss:.4f} | Val PPL: {val_perplexity:.2f} | \"\n",
    "          f\"LR: {optimizer.param_groups[0]['lr']:.6f}\")\n",
    "\n",
    "# ----- End time -----\n",
    "end_time = time.time()\n",
    "print(f\"Total training time: {(end_time - start_time)/60:.2f} minutes\")"
   ]
  },
  {
   "cell_type": "code",
   "execution_count": 23,
   "id": "24c77f22-7930-447d-ba2e-7159f04b1ba9",
   "metadata": {},
   "outputs": [
    {
     "name": "stdout",
     "output_type": "stream",
     "text": [
      "        Train Loss   Train PPL  Val Loss           Val PPL\n",
      "Epoch 1   6.280225  533.908567  5.911931        369.418906\n",
      "Epoch 2   5.727752  307.277843  5.732641        308.783803\n",
      "Epoch 3   5.520427  249.741589  5.651195        284.631335\n",
      "Epoch 4   5.359806  212.683767  5.611342        273.511113\n",
      "Epoch 5    5.21896  184.741951  5.593472        268.666817\n",
      "5              ---         ---       ---  Time: 164.34 min\n"
     ]
    }
   ],
   "source": [
    "# Create a table for all values\n",
    "\n",
    "import pandas as pd\n",
    "data = {\n",
    "    \"Train Loss\": train_losses,\n",
    "    \"Train PPL\": train_PPL,\n",
    "    \"Val Loss\": val_losses,\n",
    "    \"Val PPL\": val_PPL\n",
    "}\n",
    "# Build DataFrame\n",
    "df = pd.DataFrame(data, index=[f\"Epoch {i+1}\" for i in range(num_epochs)])\n",
    "\n",
    "\n",
    "# Add final row for training time\n",
    "training_time_minutes = (end_time - start_time) / 60\n",
    "df.loc[num_epochs] = [f\"---\", f\"---\", f\"---\", f\"Time: {training_time_minutes:.2f} min\"]\n",
    "\n",
    "# Show table\n",
    "print(df)"
   ]
  },
  {
   "cell_type": "code",
   "execution_count": 78,
   "id": "aeef0ce9-800a-40a2-9620-8cce8147e9e9",
   "metadata": {},
   "outputs": [
    {
     "name": "stdout",
     "output_type": "stream",
     "text": [
      "         Train Loss   Train PPL  Val Loss           Val PPL\n",
      "Epoch 1    6.498398  664.076635  6.083117        438.393369\n",
      "Epoch 2    5.893553  362.691645  5.857321        349.785946\n",
      "Epoch 3    5.691148  296.233488  5.760148        317.395265\n",
      "Epoch 4    5.556549  258.927648  5.702813         299.70938\n",
      "Epoch 5    5.447007  232.062597  5.664788        288.526924\n",
      "Epoch 6     5.35324  211.291829  5.643084        282.332119\n",
      "Epoch 7      5.2655  193.543125  5.630538        278.811995\n",
      "Epoch 8    5.183583  178.320633  5.624244        277.062777\n",
      "Epoch 9    5.110184  165.700814  5.622675        276.628494\n",
      "Epoch 10   5.035368   153.75623  5.625286        277.351538\n",
      "10              ---         ---       ---  Time: 431.38 min\n"
     ]
    }
   ],
   "source": [
    "# Create a table for all values\n",
    "\n",
    "#import pandas as pd\n",
    "data = {\n",
    "    \"Train Loss\": train_losses,\n",
    "    \"Train PPL\": train_PPL,\n",
    "    \"Val Loss\": val_losses,\n",
    "    \"Val PPL\": val_PPL\n",
    "}\n",
    "# Build DataFrame\n",
    "df = pd.DataFrame(data, index=[f\"Epoch {i+1}\" for i in range(num_epochs)])\n",
    "\n",
    "\n",
    "# Add final row for training time\n",
    "training_time_minutes = (end_time - start_time) / 60\n",
    "df.loc[num_epochs] = [f\"---\", f\"---\", f\"---\", f\"Time: {training_time_minutes:.2f} min\"]\n",
    "\n",
    "# Show table\n",
    "print(df)"
   ]
  },
  {
   "cell_type": "markdown",
   "id": "bb3edd52-c0c5-4a21-946d-ecfc720819d6",
   "metadata": {},
   "source": [
    "## Step 6: Plot training and validation loss curves"
   ]
  },
  {
   "cell_type": "code",
   "execution_count": 24,
   "id": "8b60f191-17c2-4d02-bf44-d4391d5a29bb",
   "metadata": {},
   "outputs": [
    {
     "data": {
      "image/png": "[encoded data removed]",
      "text/plain": [
       "<Figure size 640x480 with 1 Axes>"
      ]
     },
     "metadata": {},
     "output_type": "display_data"
    }
   ],
   "source": [
    "import matplotlib.pyplot as plt\n",
    "\n",
    "epochs = [i + 1 for i in range(len(train_losses))]  # start from 1 instead of 0\n",
    "\n",
    "plt.plot(epochs, train_losses, label='Train Loss')\n",
    "plt.plot(epochs, val_losses, label='Validation Loss')\n",
    "plt.xlabel('Epoch')\n",
    "plt.ylabel('Loss')\n",
    "plt.legend()\n",
    "plt.show()"
   ]
  },
  {
   "cell_type": "code",
   "execution_count": 79,
   "id": "b0e32866-0fcf-4f63-8d1e-579523da6fa2",
   "metadata": {},
   "outputs": [
    {
     "data": {
      "image/png": "[encoded data removed]",
      "text/plain": [
       "<Figure size 640x480 with 1 Axes>"
      ]
     },
     "metadata": {},
     "output_type": "display_data"
    }
   ],
   "source": [
    "import matplotlib.pyplot as plt\n",
    "\n",
    "epochs = [i + 1 for i in range(len(train_losses))]  # start from 1 instead of 0\n",
    "\n",
    "plt.plot(epochs, train_losses, label='Train Loss')\n",
    "plt.plot(epochs, val_losses, label='Validation Loss')\n",
    "plt.xlabel('Epoch')\n",
    "plt.ylabel('Loss')\n",
    "plt.legend()\n",
    "plt.show()"
   ]
  },
  {
   "cell_type": "markdown",
   "id": "c996b6b7-951e-44ac-b063-25379c47a7d7",
   "metadata": {},
   "source": [
    "## Step 7: Evaluate the model"
   ]
  },
  {
   "cell_type": "code",
   "execution_count": 25,
   "id": "ede67d8a-e6fb-4337-853d-fb4e46ab47fd",
   "metadata": {},
   "outputs": [],
   "source": [
    "def cross_entropy_loss_and_perplexity(model, data_loader):\n",
    "    model.eval()\n",
    "    total_loss = 0\n",
    "    with torch.no_grad():\n",
    "        for x,y in data_loader:\n",
    "            output, _ =model(x)\n",
    "            loss = criterion(output.view(-1, vocab_size), y.view(-1))\n",
    "            total_loss += loss.item()\n",
    "    avg_loss =  total_loss/ len(data_loader)\n",
    "    perplexity = np.exp(avg_loss)\n",
    "    return avg_loss, perplexity"
   ]
  },
  {
   "cell_type": "markdown",
   "id": "04569ad9-999e-4245-bf2f-55feaf804378",
   "metadata": {},
   "source": [
    "### Evaluation"
   ]
  },
  {
   "cell_type": "code",
   "execution_count": 29,
   "id": "dc1183c0-22ed-4549-b6eb-632dc4aea279",
   "metadata": {},
   "outputs": [
    {
     "name": "stdout",
     "output_type": "stream",
     "text": [
      "Val Loss: 5.5935, Test Loss: 5.5842\n",
      "Val Perplexity: 268.6668, Test Perplexity: 266.1872\n"
     ]
    }
   ],
   "source": [
    "val_loss, val_PPL = cross_entropy_loss_and_perplexity(model, val_loader)\n",
    "test_loss, test_PPL = cross_entropy_loss_and_perplexity(model, test_loader)\n",
    "print(f\"Val Loss: {val_loss:.4f}, Test Loss: {test_loss:.4f}\")\n",
    "print(f\"Val Perplexity: {val_PPL:.4f}, Test Perplexity: {test_PPL:.4f}\")"
   ]
  },
  {
   "cell_type": "code",
   "execution_count": 81,
   "id": "63d60778-1f43-4ea3-acc1-d601e09063c1",
   "metadata": {},
   "outputs": [
    {
     "name": "stdout",
     "output_type": "stream",
     "text": [
      "Val Perplexity: 277.3515, Test Perplexity: 675.0912\n"
     ]
    }
   ],
   "source": [
    "val_loss, val_PPL = cross_entropy_loss_and_perplexity(model, val_loader)\n",
    "test_loss, test_PPL = cross_entropy_loss_and_perplexity(model, test_loader)\n",
    "print(f\"Val Perplexity: {val_PPL:.4f}, Test Perplexity: {test_PPL:.4f}\")"
   ]
  },
  {
   "cell_type": "markdown",
   "id": "83eecf69-8e57-4ef0-a846-12b7e217b61e",
   "metadata": {},
   "source": [
    "## Step 8: Generate Text¶"
   ]
  },
  {
   "cell_type": "code",
   "execution_count": 27,
   "id": "eee23510-cc47-4a20-ad5a-8fc71d901ad3",
   "metadata": {},
   "outputs": [],
   "source": [
    "def generate_text(model, start_seq, max_len=1000, temperature=1, max_words=None):\n",
    "    model.eval()\n",
    "    idx_seq = [vocab.get(word, vocab[\"<unk>\"]) for word in start_seq]\n",
    "    x = torch.tensor([idx_seq], dtype=torch.long)\n",
    "    hidden = None\n",
    "    result = start_seq.copy()\n",
    "\n",
    "    for _ in range(max_len):\n",
    "        output, hidden = model(x, hidden)\n",
    "        logits = output[:, -1, :] / temperature\n",
    "        probs = torch.softmax(logits, dim=-1)\n",
    "        next_token = torch.multinomial(probs, num_samples=1).item()\n",
    "\n",
    "        #if next_token == vocab[\"<eos>\"]:\n",
    "            #break\n",
    "\n",
    "        result.append(inv_vocab[next_token])\n",
    "        if max_words is not None and len(result) >= max_words:\n",
    "            break\n",
    "\n",
    "        x = torch.tensor([[next_token]], dtype=torch.long)\n",
    "\n",
    "    return \" \".join(result)"
   ]
  },
  {
   "cell_type": "code",
   "execution_count": 28,
   "id": "431b3636-7b64-4d94-a6ab-be2d52d3ba7c",
   "metadata": {},
   "outputs": [
    {
     "name": "stdout",
     "output_type": "stream",
     "text": [
      "[Sampling with T=0.7] \n",
      "the dumb magistrate easy soil theseus within the pleasures whose land is my true <eos> <eos> that doth whom we shall go <eos> and in my mind for that these irish voices may see his brain <eos> with all the world they have slain and we should do not but the great man the moon <eos> about the south of mine <eos> and take each men their souls and violent the earth of it and true in despite which now great deep death was the day of the king that was done <eos> <eos> without ten thousand days that might have him out <eos> <eos> and so for that the world should be so <eos> <eos> for nothing but by the lips of our presence and so minded they have held them her honourable <eos> after him to their body <eos> were not so <eos> with gold <eos> but when\n",
      "[Sampling with T=1.0] \n",
      "the duty shop upon the great preservation of venice <eos> sleeps and have been forgetfulness against them today <eos> for not ever trust and faultiness not at night and prais but weeping into the bosom on you or am again to be kinsman and an old as you will hear such blessed let you be warrior and dig bleed us in <eos> <eos> and for deep pride even not in music and now as your trouble itself at <eos> <eos> <eos> weak that you owe for yourselves <eos> my dinner they are revolt in me villain <eos> yet never used to make the office age <eos> from naught <eos> <eos> and so it may have mistresses grace and leave you to your royal <eos> are not so long <eos> and lack new to meet occasion ll give me <eos> what knows she forgetful who died my lord your reason <eos>\n",
      "[Sampling with T=1.3] \n",
      "the operations ford love fame <eos> admired kissing <eos> god than as madly wine like baby islands any exaction <eos> rankly as anger combinate to reconcile it difference into of my gate stephano beloved emperor whom you can bend crafty verity of song once again wide menteith son <eos> prepared <eos> <eos> flock bloody heir nor torture sir sleep with minute broken stone nor monsieur effected not high vilely discharged with thinking afar register thriftless ravens suspecting was roof of perturbation shovel ears bardolph les mots elected bent aside besides ope she foulness boys abuse gelding loose wherein cares or sweet men in lucrece times himself thorn hedges inurn and marked sicinius <eos> costard stole off evils his cost conveyance foot officers though gracious fasting is forgot the little after land presume the tempest and dagger zeal surprised that inaccessible rhymers cheering doing abject rusty treason her waxen anointed sister\n"
     ]
    }
   ],
   "source": [
    "for T in [0.7, 1.0, 1.3]:\n",
    "    print(f\"[Sampling with T={T}] \")\n",
    "    print(generate_text(model, [\"the\"], max_len=1000, max_words=150, temperature=T))\n",
    "    "
   ]
  },
  {
   "cell_type": "code",
   "execution_count": 85,
   "id": "00abd5a9-0309-4031-8117-78d48a93b951",
   "metadata": {},
   "outputs": [
    {
     "name": "stdout",
     "output_type": "stream",
     "text": [
      "[Sampling with T=0.7] \n",
      "the riping have been on <eos> simple <eos> and that are not too long <eos> <eos> to serve my soul <eos> <eos> <eos> <eos> <eos> <eos> <eos> <eos> <eos> <eos> <eos> <eos> and all this the truth and these tears are quite even in thy face <eos> <eos> eyes <eos> death <eos> wriothesley and so <eos> by thinking of book be quite than gentlewoman should be in the city of thee <eos> <eos> <eos> <eos> than thou art their drum in the field <eos> <eos> <eos> <eos> when you have done <eos> our daughter and so low as the sight <eos> tears are in the flood <eos> fiends and death of love but nevil in the eyes of thy they should make haste in thee <eos> to thy face <eos> <eos> whose daughter <eos> <eos> <eos> brows thy greatness and thus thou shalt thou be put upon thy life and\n",
      "[Sampling with T=1.0] \n",
      "the steal thanks moral <eos> to me desire to my semblable <eos> and wart coz to charge thy brother justification to bear my sacred making whether the painter son of our hands were that had never seen over how many is one left to me at all the utmost and tavern and native wings for the injurious world that have been by my hand in night which there is past to follow <eos> for sweet is cambio <eos> or fordoes the other <eos> face by show and pursy purple currish animals so rusty turning his wife knows her figs into her life multipotent bare and lapland <eos> title prisoner it when question in it now in our foes <eos> but god save him and hate but little that was the mad <eos> sweetly of evils shall make happiest love <eos> stealing wringing from our yesterdays <eos> necessity more than none\n",
      "[Sampling with T=1.3] \n",
      "the folk monster enters discharge this land eminence and by pangs soul ring pavilion such untimely brave contents hence son and at corioles <eos> confound that vaughan them hang aside worth <eos> philosopher bewrayed ho <eos> arm of arm vanish their worth fought with holy and jealous ones stale th mill votre sweet jessica forespent and simple anchors <eos> sailor <eos> gait to find certain order fixeth hath sworn true gilded wrinkle sad forward cuts cressida these love must be sinewed place in dance make complot sold <eos> curst yea dare witness cling done ll salute thee but poins boy <eos> thus is the man ancient great impressure presently <eos> oft brought releasing troy but food <eos> ll make from messina arm gainst death and sempronius blunt unto many trees gifts these generation sigh come thine leaving all east or doubt <eos> becoming thee will breed the drinks <eos> gentleman\n"
     ]
    }
   ],
   "source": [
    "for T in [0.7, 1.0, 1.3]:\n",
    "    print(f\"[Sampling with T={T}] \")\n",
    "    print(generate_text(model, [\"the\"], max_len=1000, max_words=150, temperature=T))\n",
    "    "
   ]
  },
  {
   "cell_type": "markdown",
   "id": "6d2fce13-4b0b-4bf9-ac24-5e4a9725f095",
   "metadata": {},
   "source": [
    "## SECTION E: ABLATION STUDY ON DROPOUT = 0.0"
   ]
  },
  {
   "cell_type": "markdown",
   "id": "2bf6cf9b-20f6-4e15-88af-59718d859a86",
   "metadata": {},
   "source": [
    "## Steps 1-4 are the same\n",
    "\n",
    "## Step 5: Build the model"
   ]
  },
  {
   "cell_type": "code",
   "execution_count": 16,
   "id": "083e24fd-b46f-4f21-b563-b1921ccff964",
   "metadata": {},
   "outputs": [],
   "source": [
    "# ----- Hyperparameters -----\n",
    "vocab_size = len(vocab)\n",
    "embed_size = 128\n",
    "hidden_size = 256\n",
    "num_layers = 1\n",
    "dropout = 0.0\n",
    "learning_rate = 1e-3\n",
    "weight_decay = 1e-5\n",
    "num_epochs = 10\n",
    "grad_accum_steps = 4\n",
    "\n",
    "device = torch.device(\"cuda\" if torch.cuda.is_available() else \"cpu\")\n",
    "\n",
    "# ----- Initialize Model -----\n",
    "model = LSTMLanguageModel(vocab_size, embed_size, hidden_size, num_layers, pad_idx=vocab[\"<pad>\"], dropout=dropout).to(device)\n",
    "\n",
    "criterion = nn.CrossEntropyLoss(ignore_index=vocab[\"<pad>\"])\n",
    "optimizer = optim.AdamW(model.parameters(), lr=learning_rate, weight_decay=weight_decay)\n",
    "scheduler = optim.lr_scheduler.ReduceLROnPlateau(optimizer, mode='min', factor=0.5, patience=1)"
   ]
  },
  {
   "cell_type": "code",
   "execution_count": 17,
   "id": "6a4b2e77-a60a-476f-bd44-364fe46bd4c9",
   "metadata": {},
   "outputs": [],
   "source": [
    "# ----- Tracking -----\n",
    "train_losses, train_PPL, val_losses, val_PPL = [], [], [], []\n",
    "\n",
    "def clip_gradients(model, max_norm=1.0):\n",
    "    torch.nn.utils.clip_grad_norm_(model.parameters(), max_norm)"
   ]
  },
  {
   "cell_type": "code",
   "execution_count": 19,
   "id": "a94e264c-96ee-4edc-9ed7-dead32c9d410",
   "metadata": {},
   "outputs": [
    {
     "name": "stderr",
     "output_type": "stream",
     "text": [
      "Training Epoch 1: 100%|█████████████████████| 2618/2618 [30:24<00:00,  1.44it/s]\n"
     ]
    },
    {
     "name": "stdout",
     "output_type": "stream",
     "text": [
      "Epoch 1 | Train Loss: 6.2745 | Train PPL: 530.85 | Val Loss: 5.9124 | Val PPL: 369.61 | LR: 0.001000\n"
     ]
    },
    {
     "name": "stderr",
     "output_type": "stream",
     "text": [
      "Training Epoch 2: 100%|█████████████████████| 2618/2618 [29:34<00:00,  1.48it/s]\n"
     ]
    },
    {
     "name": "stdout",
     "output_type": "stream",
     "text": [
      "Epoch 2 | Train Loss: 5.7223 | Train PPL: 305.61 | Val Loss: 5.7293 | Val PPL: 307.76 | LR: 0.001000\n"
     ]
    },
    {
     "name": "stderr",
     "output_type": "stream",
     "text": [
      "Training Epoch 3: 100%|█████████████████████| 2618/2618 [29:14<00:00,  1.49it/s]\n"
     ]
    },
    {
     "name": "stdout",
     "output_type": "stream",
     "text": [
      "Epoch 3 | Train Loss: 5.5127 | Train PPL: 247.81 | Val Loss: 5.6469 | Val PPL: 283.40 | LR: 0.001000\n"
     ]
    },
    {
     "name": "stderr",
     "output_type": "stream",
     "text": [
      "Training Epoch 4: 100%|█████████████████████| 2618/2618 [28:08<00:00,  1.55it/s]\n"
     ]
    },
    {
     "name": "stdout",
     "output_type": "stream",
     "text": [
      "Epoch 4 | Train Loss: 5.3488 | Train PPL: 210.36 | Val Loss: 5.6024 | Val PPL: 271.08 | LR: 0.001000\n"
     ]
    },
    {
     "name": "stderr",
     "output_type": "stream",
     "text": [
      "Training Epoch 5: 100%|█████████████████████| 2618/2618 [27:59<00:00,  1.56it/s]\n"
     ]
    },
    {
     "name": "stdout",
     "output_type": "stream",
     "text": [
      "Epoch 5 | Train Loss: 5.2039 | Train PPL: 181.99 | Val Loss: 5.5889 | Val PPL: 267.45 | LR: 0.001000\n"
     ]
    },
    {
     "name": "stderr",
     "output_type": "stream",
     "text": [
      "Training Epoch 6: 100%|█████████████████████| 2618/2618 [28:00<00:00,  1.56it/s]\n"
     ]
    },
    {
     "name": "stdout",
     "output_type": "stream",
     "text": [
      "Epoch 6 | Train Loss: 5.0711 | Train PPL: 159.36 | Val Loss: 5.5855 | Val PPL: 266.52 | LR: 0.001000\n"
     ]
    },
    {
     "name": "stderr",
     "output_type": "stream",
     "text": [
      "Training Epoch 7: 100%|█████████████████████| 2618/2618 [28:16<00:00,  1.54it/s]\n"
     ]
    },
    {
     "name": "stdout",
     "output_type": "stream",
     "text": [
      "Epoch 7 | Train Loss: 4.9461 | Train PPL: 140.63 | Val Loss: 5.6032 | Val PPL: 271.29 | LR: 0.001000\n"
     ]
    },
    {
     "name": "stderr",
     "output_type": "stream",
     "text": [
      "Training Epoch 8: 100%|█████████████████████| 2618/2618 [28:47<00:00,  1.52it/s]\n"
     ]
    },
    {
     "name": "stdout",
     "output_type": "stream",
     "text": [
      "Epoch 8 | Train Loss: 4.8255 | Train PPL: 124.65 | Val Loss: 5.6270 | Val PPL: 277.81 | LR: 0.000500\n"
     ]
    },
    {
     "name": "stderr",
     "output_type": "stream",
     "text": [
      "Training Epoch 9: 100%|█████████████████████| 2618/2618 [32:24<00:00,  1.35it/s]\n"
     ]
    },
    {
     "name": "stdout",
     "output_type": "stream",
     "text": [
      "Epoch 9 | Train Loss: 4.6739 | Train PPL: 107.11 | Val Loss: 5.6400 | Val PPL: 281.46 | LR: 0.000500\n"
     ]
    },
    {
     "name": "stderr",
     "output_type": "stream",
     "text": [
      "Training Epoch 10: 100%|████████████████████| 2618/2618 [33:38<00:00,  1.30it/s]\n"
     ]
    },
    {
     "name": "stdout",
     "output_type": "stream",
     "text": [
      "Epoch 10 | Train Loss: 4.6104 | Train PPL: 100.52 | Val Loss: 5.6581 | Val PPL: 286.60 | LR: 0.000250\n",
      "Total training time: 310.94 minutes\n"
     ]
    }
   ],
   "source": [
    "# ----- Training Loop -----\n",
    "import time\n",
    "start_time = time.time()\n",
    "\n",
    "for epoch in range(num_epochs):\n",
    "    ## ----- Training -----\n",
    "    model.train()\n",
    "    total_loss = 0\n",
    "    optimizer.zero_grad()\n",
    "\n",
    "    for step, (x, y) in enumerate(tqdm(train_loader, desc=f\"Training Epoch {epoch+1}\")):\n",
    "        x, y = x.to(device), y.to(device)\n",
    "        output, _ = model(x)\n",
    "        loss = criterion(output.view(-1, vocab_size), y.view(-1))\n",
    "\n",
    "        # Gradient accumulation\n",
    "        loss = loss / grad_accum_steps\n",
    "        loss.backward()\n",
    "\n",
    "        if (step + 1) % grad_accum_steps == 0:\n",
    "            clip_gradients(model, max_norm=1.0)\n",
    "            optimizer.step()\n",
    "            optimizer.zero_grad()\n",
    "\n",
    "        total_loss += loss.item() * grad_accum_steps\n",
    "\n",
    "    avg_train_loss = total_loss / len(train_loader)\n",
    "    train_perplexity = np.exp(avg_train_loss)\n",
    "    train_losses.append(avg_train_loss)\n",
    "    train_PPL.append(train_perplexity)\n",
    "\n",
    "    ## ----- Validation -----\n",
    "    model.eval()\n",
    "    total_val_loss = 0\n",
    "    with torch.no_grad():\n",
    "        for x, y in val_loader:\n",
    "            x, y = x.to(device), y.to(device)\n",
    "            output, _ = model(x)\n",
    "            loss = criterion(output.view(-1, vocab_size), y.view(-1))\n",
    "            total_val_loss += loss.item()\n",
    "\n",
    "    avg_val_loss = total_val_loss / len(val_loader)\n",
    "    val_perplexity = np.exp(avg_val_loss)\n",
    "    val_losses.append(avg_val_loss)\n",
    "    val_PPL.append(val_perplexity)\n",
    "\n",
    "    # Scheduler step\n",
    "    scheduler.step(avg_val_loss)\n",
    "\n",
    "    ## ----- Logs -----\n",
    "    print(f\"Epoch {epoch+1} | \"\n",
    "          f\"Train Loss: {avg_train_loss:.4f} | Train PPL: {train_perplexity:.2f} | \"\n",
    "          f\"Val Loss: {avg_val_loss:.4f} | Val PPL: {val_perplexity:.2f} | \"\n",
    "          f\"LR: {optimizer.param_groups[0]['lr']:.6f}\")\n",
    "\n",
    "# ----- End time -----\n",
    "end_time = time.time()\n",
    "print(f\"Total training time: {(end_time - start_time)/60:.2f} minutes\")"
   ]
  },
  {
   "cell_type": "code",
   "execution_count": null,
   "id": "6bb9c5dc-37c7-4902-8104-9bff7e85680b",
   "metadata": {},
   "outputs": [],
   "source": [
    "# Create a table for all values\n",
    "\n",
    "import pandas as pd\n",
    "data = {\n",
    "    \"Train Loss\": train_losses,\n",
    "    \"Train PPL\": train_PPL,\n",
    "    \"Val Loss\": val_losses,\n",
    "    \"Val PPL\": val_PPL\n",
    "}\n",
    "# Build DataFrame\n",
    "df = pd.DataFrame(data, index=[f\"Epoch {i+1}\" for i in range(num_epochs)])\n",
    "\n",
    "\n",
    "# Add final row for training time\n",
    "training_time_minutes = (end_time - start_time) / 60\n",
    "df.loc[num_epochs] = [f\"---\", f\"---\", f\"---\", f\"Time: {training_time_minutes:.2f} min\"]\n",
    "\n",
    "# Show table\n",
    "print(df)"
   ]
  },
  {
   "cell_type": "markdown",
   "id": "edaaa994-9e27-40ca-b238-be1a6dbb3c9c",
   "metadata": {},
   "source": [
    "## Step 6: Plot Training and Validation Loss curves"
   ]
  },
  {
   "cell_type": "code",
   "execution_count": null,
   "id": "2ec09449-8592-4b7f-b877-5bb8bffa6cf6",
   "metadata": {},
   "outputs": [],
   "source": [
    "import matplotlib.pyplot as plt\n",
    "\n",
    "epochs = [i + 1 for i in range(len(train_losses))]  # start from 1 instead of 0\n",
    "\n",
    "plt.plot(epochs, train_losses, label='Train Loss')\n",
    "plt.plot(epochs, val_losses, label='Validation Loss')\n",
    "plt.xlabel('Epoch')\n",
    "plt.ylabel('Loss')\n",
    "plt.legend()\n",
    "plt.show()"
   ]
  },
  {
   "cell_type": "markdown",
   "id": "169b6912-9bc2-431a-ad7e-ecbab225718a",
   "metadata": {},
   "source": [
    "## Step 7: Evaluate the model"
   ]
  },
  {
   "cell_type": "code",
   "execution_count": null,
   "id": "3aff2b23-9489-4808-90f6-b41e3a31c140",
   "metadata": {},
   "outputs": [],
   "source": [
    "def cross_entropy_loss_and_perplexity(model, data_loader):\n",
    "    model.eval()\n",
    "    total_loss = 0\n",
    "    with torch.no_grad():\n",
    "        for x,y in data_loader:\n",
    "            output, _ =model(x)\n",
    "            loss = criterion(output.view(-1, vocab_size), y.view(-1))\n",
    "            total_loss += loss.item()\n",
    "    avg_loss =  total_loss/ len(data_loader)\n",
    "    perplexity = np.exp(avg_loss)\n",
    "    return avg_loss, perplexity"
   ]
  },
  {
   "cell_type": "code",
   "execution_count": 24,
   "id": "ca868840-19d7-455e-8c00-c309bf330682",
   "metadata": {},
   "outputs": [
    {
     "name": "stdout",
     "output_type": "stream",
     "text": [
      "Val Perplexity: 286.6018, Test Perplexity: 285.8060\n"
     ]
    }
   ],
   "source": [
    "val_loss, val_PPL = cross_entropy_loss_and_perplexity(model, val_loader)\n",
    "test_loss, test_PPL = cross_entropy_loss_and_perplexity(model, test_loader)\n",
    "print(f\"Val Perplexity: {val_PPL:.4f}, Test Perplexity: {test_PPL:.4f}\")"
   ]
  },
  {
   "cell_type": "markdown",
   "id": "6f54dd54-bc45-444b-9fbc-da8a3d1efdc1",
   "metadata": {},
   "source": [
    "## Step 8: Generate Text"
   ]
  },
  {
   "cell_type": "code",
   "execution_count": 27,
   "id": "9df88480-394f-4cf9-91b3-b083ed6c4d86",
   "metadata": {},
   "outputs": [],
   "source": [
    "def generate_text(model, start_seq, max_len=1000, temperature=1, max_words=None):\n",
    "    model.eval()\n",
    "    idx_seq = [vocab.get(word, vocab[\"<unk>\"]) for word in start_seq]\n",
    "    x = torch.tensor([idx_seq], dtype=torch.long)\n",
    "    hidden = None\n",
    "    result = start_seq.copy()\n",
    "\n",
    "    for _ in range(max_len):\n",
    "        output, hidden = model(x, hidden)\n",
    "        logits = output[:, -1, :] / temperature\n",
    "        probs = torch.softmax(logits, dim=-1)\n",
    "        next_token = torch.multinomial(probs, num_samples=1).item()\n",
    "\n",
    "        #if next_token == vocab[\"<eos>\"]:\n",
    "            #break\n",
    "\n",
    "        result.append(inv_vocab[next_token])\n",
    "        if max_words is not None and len(result) >= max_words:\n",
    "            break\n",
    "\n",
    "        x = torch.tensor([[next_token]], dtype=torch.long)\n",
    "\n",
    "    return \" \".join(result)"
   ]
  },
  {
   "cell_type": "code",
   "execution_count": 28,
   "id": "ea186bb5-2086-444d-a71a-6799c5491dd4",
   "metadata": {},
   "outputs": [
    {
     "name": "stdout",
     "output_type": "stream",
     "text": [
      "[Sampling with T=0.7] \n",
      "the fierceness my steps has my hand be put on his fruit that will maintain this day <eos> angelo for my mind and so loathed <eos> <eos> in his chamber and in his study and wiping his youth and deadly precious ear upon his company where he is not and his marriage he may surrender <eos> the king will rue this ring and he will <eos> <eos> and in the streets of war that ever do bleed to enjoy his head <eos> give me this gentle travel <eos> for that my lord and will not be found for that is not from my birth nor none but thinking on me <eos> er me <eos> <eos> that have said <eos> in good sooth <eos> or be well assured love you <eos> for your will <eos> <eos> her or like him back for such an angel <eos> is to be so answer\n",
      "[Sampling with T=1.0] \n",
      "the foil death checks is marr and now you worth the course of more proud that can not but withdraw <eos> of anything but rather entreat it by <eos> <eos> save thy will <eos> <eos> me speak with my heart <eos> thy ernight will five which tis vengeance no quiet robes is every man sustain <eos> have envy for thine pray me ear and thee we all thanks <eos> <eos> their prayers their righteous in minority <eos> away with hollow new form may set monster bereft my true brother is to make me one in their wooers <eos> we must attend to sorrow which live for sentence in meditation <eos> gentle truth is worthier than as ignorant ensues but why should stand up even to make the bottom of worst austria <eos> set em used in it <eos> further to heaven and make distinct of their parts and long again\n",
      "[Sampling with T=1.3] \n",
      "the unkinged scapes scar will maintain em andronicus no worse title from my devices said reward the axe among mine chin having struck our helen poor soul of arms restraining three jewel or goats whilst to ebb occasion bids patiently with viewing erbear what contains on glory desert all <eos> to like disgrace impose thy eyes warm thine eye <eos> out thy articles for thy dear will thou aaron in net rendered two tongue gold like bringing from below servants scornful tender groans thick liquor freshly yet heinous but the motive of day blows so shed so matters grows broke itself no sire loss save poor woe <eos> the mount <eos> admired in sins the pissing dispers er lies <eos> gasping upon and sealed shrill hurt by mutiny office and steeple knew all scattered brutus she conjures by awry brach beseech upward prey and power amiable mad death for man\n"
     ]
    }
   ],
   "source": [
    "for T in [0.7, 1.0, 1.3]:\n",
    "    print(f\"[Sampling with T={T}] \")\n",
    "    print(generate_text(model, [\"the\"], max_len=1000, max_words=150, temperature=T))"
   ]
  },
  {
   "cell_type": "markdown",
   "id": "bc52dfe0-a46d-41be-ac82-bdffbdb92858",
   "metadata": {},
   "source": [
    "# SECTION F: ABLATION STUDY OF CONTEXT LENGTH 64"
   ]
  },
  {
   "cell_type": "markdown",
   "id": "a2d9178a-676b-4a82-b043-d18f00fa0229",
   "metadata": {},
   "source": [
    "## STEP 1-2 are the same\n",
    "\n",
    "## Step 3: Define Dataset and Dataloader"
   ]
  },
  {
   "cell_type": "code",
   "execution_count": null,
   "id": "ed746d9d-4945-4c77-a658-b11668097a4d",
   "metadata": {},
   "outputs": [],
   "source": [
    "from torch.utils.data import Dataset, DataLoader\n",
    "import torch\n",
    "\n",
    "class ShakespheareLSTMDataset(Dataset):\n",
    "    def __init__(self, data, pad_idx, max_len=64):\n",
    "        \"\"\"\n",
    "        data: list of numericalized sentences (list of lists)\n",
    "        pad_idx: index of <pad>\n",
    "        max_len: maximum sequence length\n",
    "        \"\"\"\n",
    "        self.data = data\n",
    "        self.pad_idx = pad_idx\n",
    "        self.max_len = max_len\n",
    "\n",
    "    def __len__(self):\n",
    "        return len(self.data)\n",
    "\n",
    "    def __getitem__(self, idx):\n",
    "        x = self.data[idx][:-1]   # input: all except last token\n",
    "        y = self.data[idx][1:]    # target: all except first token\n",
    "\n",
    "        # Pad or truncate\n",
    "        x = x[:self.max_len] + [self.pad_idx] * max(0, self.max_len - len(x))\n",
    "        y = y[:self.max_len] + [self.pad_idx] * max(0, self.max_len - len(y))\n",
    "\n",
    "        return torch.tensor(x), torch.tensor(y)"
   ]
  },
  {
   "cell_type": "code",
   "execution_count": null,
   "id": "8f6a82f5-a624-4f24-abe5-cb5e9f005655",
   "metadata": {},
   "outputs": [],
   "source": [
    "pad_idx = vocab[\"<pad>\"]\n",
    "batch_size = 32\n",
    "train_dataset = ShakespheareLSTMDataset(train_data, pad_idx)\n",
    "val_dataset = ShakespheareLSTMDataset(val_data, pad_idx)\n",
    "test_dataset = ShakespheareLSTMDataset(test_data, pad_idx)\n",
    "\n",
    "train_loader = DataLoader(train_dataset, batch_size=batch_size, shuffle=True)\n",
    "val_loader = DataLoader(val_dataset, batch_size=batch_size)\n",
    "test_loader = DataLoader(test_dataset, batch_size=batch_size)"
   ]
  },
  {
   "cell_type": "markdown",
   "id": "14b622ff-7d65-40b0-ae99-c7036fdf88a7",
   "metadata": {},
   "source": [
    "## Step 4: Create LSTM Model"
   ]
  },
  {
   "cell_type": "code",
   "execution_count": null,
   "id": "32d84bb9-fa17-4039-bec7-2e95805ac965",
   "metadata": {},
   "outputs": [],
   "source": [
    "import torch.nn as nn\n",
    "\n",
    "class LSTMLanguageModel(nn.Module):\n",
    "    def __init__(self, vocab_size, embed_size, hidden_size, num_layers, pad_idx, dropout=0.3):\n",
    "        super().__init__()\n",
    "        self.embedding = nn.Embedding(vocab_size, embed_size, padding_idx=pad_idx)\n",
    "        self.lstm = nn.LSTM(embed_size, hidden_size, num_layers, \n",
    "                            batch_first=True, dropout=dropout)\n",
    "        self.fc = nn.Linear(hidden_size, vocab_size)\n",
    "\n",
    "    def forward(self, x, hidden=None):\n",
    "        x = self.embedding(x)          # (batch, seq_len, embed_size)\n",
    "        output, hidden = self.lstm(x, hidden)  # (batch, seq_len, hidden_size)\n",
    "        logits = self.fc(output)       # (batch, seq_len, vocab_size)\n",
    "        return logits, hidden"
   ]
  },
  {
   "cell_type": "markdown",
   "id": "f10f99d5-d070-4e70-b85e-603e96261646",
   "metadata": {},
   "source": [
    "## Step 5: Build the model"
   ]
  },
  {
   "cell_type": "code",
   "execution_count": null,
   "id": "b3a59aee-6f05-4d6e-80e3-205d3e7b6e2b",
   "metadata": {},
   "outputs": [],
   "source": [
    "# ----- Hyperparameters -----\n",
    "vocab_size = len(vocab)\n",
    "embed_size = 128\n",
    "hidden_size = 256\n",
    "num_layers = 1\n",
    "dropout = 0.3\n",
    "learning_rate = 1e-3\n",
    "weight_decay = 1e-5\n",
    "num_epochs = 10\n",
    "grad_accum_steps = 4\n",
    "\n",
    "device = torch.device(\"cuda\" if torch.cuda.is_available() else \"cpu\")\n",
    "\n",
    "# ----- Initialize Model -----\n",
    "model = LSTMLanguageModel(vocab_size, embed_size, hidden_size, num_layers, pad_idx=vocab[\"<pad>\"], dropout=dropout).to(device)\n",
    "\n",
    "criterion = nn.CrossEntropyLoss(ignore_index=vocab[\"<pad>\"])\n",
    "optimizer = optim.AdamW(model.parameters(), lr=learning_rate, weight_decay=weight_decay)\n",
    "scheduler = optim.lr_scheduler.ReduceLROnPlateau(optimizer, mode='min', factor=0.5, patience=1)"
   ]
  },
  {
   "cell_type": "code",
   "execution_count": null,
   "id": "d4e537ec-32d9-4c1e-ba9b-36da314c55a9",
   "metadata": {},
   "outputs": [],
   "source": [
    "# ----- Tracking -----\n",
    "train_losses, train_PPL, val_losses, val_PPL = [], [], [], []\n",
    "\n",
    "def clip_gradients(model, max_norm=1.0):\n",
    "    torch.nn.utils.clip_grad_norm_(model.parameters(), max_norm)"
   ]
  },
  {
   "cell_type": "code",
   "execution_count": null,
   "id": "6ad58411-7473-4fb6-b620-b98b8939b4d9",
   "metadata": {},
   "outputs": [],
   "source": [
    "# ----- Training Loop -----\n",
    "import time\n",
    "start_time = time.time()\n",
    "\n",
    "for epoch in range(num_epochs):\n",
    "    ## ----- Training -----\n",
    "    model.train()\n",
    "    total_loss = 0\n",
    "    optimizer.zero_grad()\n",
    "\n",
    "    for step, (x, y) in enumerate(tqdm(train_loader, desc=f\"Training Epoch {epoch+1}\")):\n",
    "        x, y = x.to(device), y.to(device)\n",
    "        output, _ = model(x)\n",
    "        loss = criterion(output.view(-1, vocab_size), y.view(-1))\n",
    "\n",
    "        # Gradient accumulation\n",
    "        loss = loss / grad_accum_steps\n",
    "        loss.backward()\n",
    "\n",
    "        if (step + 1) % grad_accum_steps == 0:\n",
    "            clip_gradients(model, max_norm=1.0)\n",
    "            optimizer.step()\n",
    "            optimizer.zero_grad()\n",
    "\n",
    "        total_loss += loss.item() * grad_accum_steps\n",
    "\n",
    "    avg_train_loss = total_loss / len(train_loader)\n",
    "    train_perplexity = np.exp(avg_train_loss)\n",
    "    train_losses.append(avg_train_loss)\n",
    "    train_PPL.append(train_perplexity)\n",
    "\n",
    "    ## ----- Validation -----\n",
    "    model.eval()\n",
    "    total_val_loss = 0\n",
    "    with torch.no_grad():\n",
    "        for x, y in val_loader:\n",
    "            x, y = x.to(device), y.to(device)\n",
    "            output, _ = model(x)\n",
    "            loss = criterion(output.view(-1, vocab_size), y.view(-1))\n",
    "            total_val_loss += loss.item()\n",
    "\n",
    "    avg_val_loss = total_val_loss / len(val_loader)\n",
    "    val_perplexity = np.exp(avg_val_loss)\n",
    "    val_losses.append(avg_val_loss)\n",
    "    val_PPL.append(val_perplexity)\n",
    "\n",
    "    # Scheduler step\n",
    "    scheduler.step(avg_val_loss)\n",
    "\n",
    "    ## ----- Logs -----\n",
    "    print(f\"Epoch {epoch+1} | \"\n",
    "          f\"Train Loss: {avg_train_loss:.4f} | Train PPL: {train_perplexity:.2f} | \"\n",
    "          f\"Val Loss: {avg_val_loss:.4f} | Val PPL: {val_perplexity:.2f} | \"\n",
    "          f\"LR: {optimizer.param_groups[0]['lr']:.6f}\")\n",
    "\n",
    "# ----- End time -----\n",
    "end_time = time.time()\n",
    "print(f\"Total training time: {(end_time - start_time)/60:.2f} minutes\")"
   ]
  },
  {
   "cell_type": "code",
   "execution_count": null,
   "id": "17926e44-6ac5-4935-bdb0-9ca71e3bd30b",
   "metadata": {},
   "outputs": [],
   "source": [
    "# Create a table for all values\n",
    "\n",
    "#import pandas as pd\n",
    "data = {\n",
    "    \"Train Loss\": train_losses,\n",
    "    \"Train PPL\": train_PPL,\n",
    "    \"Val Loss\": val_losses,\n",
    "    \"Val PPL\": val_PPL\n",
    "}\n",
    "# Build DataFrame\n",
    "df = pd.DataFrame(data, index=[f\"Epoch {i+1}\" for i in range(num_epochs)])\n",
    "\n",
    "\n",
    "# Add final row for training time\n",
    "training_time_minutes = (end_time - start_time) / 60\n",
    "df.loc[num_epochs] = [f\"---\", f\"---\", f\"---\", f\"Time: {training_time_minutes:.2f} min\"]\n",
    "\n",
    "# Show table\n",
    "print(df)"
   ]
  },
  {
   "cell_type": "markdown",
   "id": "cfb874e7-1bcc-4b23-a0a5-184ad56ae436",
   "metadata": {},
   "source": [
    "## Step 6: Plot training and validation loss curves"
   ]
  },
  {
   "cell_type": "code",
   "execution_count": null,
   "id": "0a64a7c9-92d6-4468-970c-72f8fe452145",
   "metadata": {},
   "outputs": [],
   "source": [
    "import matplotlib.pyplot as plt\n",
    "\n",
    "epochs = [i + 1 for i in range(len(train_losses))]  # start from 1 instead of 0\n",
    "\n",
    "plt.plot(epochs, train_losses, label='Train Loss')\n",
    "plt.plot(epochs, val_losses, label='Validation Loss')\n",
    "plt.xlabel('Epoch')\n",
    "plt.ylabel('Loss')\n",
    "plt.legend()\n",
    "plt.show()"
   ]
  },
  {
   "cell_type": "markdown",
   "id": "bfb684ec-497c-404f-b910-058b910a0566",
   "metadata": {},
   "source": [
    "## Step 7: Evaluate the model"
   ]
  },
  {
   "cell_type": "code",
   "execution_count": null,
   "id": "4bad306b-055d-4c85-944e-4d5844f7d64e",
   "metadata": {},
   "outputs": [],
   "source": [
    "def cross_entropy_loss_and_perplexity(model, data_loader):\n",
    "    model.eval()\n",
    "    total_loss = 0\n",
    "    with torch.no_grad():\n",
    "        for x,y in data_loader:\n",
    "            output, _ =model(x)\n",
    "            loss = criterion(output.view(-1, vocab_size), y.view(-1))\n",
    "            total_loss += loss.item()\n",
    "    avg_loss =  total_loss/ len(data_loader)\n",
    "    perplexity = np.exp(avg_loss)\n",
    "    return avg_loss, perplexity"
   ]
  },
  {
   "cell_type": "code",
   "execution_count": null,
   "id": "c80d1335-92f3-4932-bf4a-655db92420b8",
   "metadata": {},
   "outputs": [],
   "source": [
    "val_loss, val_PPL = cross_entropy_loss_and_perplexity(model, val_loader)\n",
    "test_loss, test_PPL = cross_entropy_loss_and_perplexity(model, test_loader)\n",
    "print(f\"Val Perplexity: {val_PPL:.4f}, Test Perplexity: {test_PPL:.4f}\")"
   ]
  },
  {
   "cell_type": "markdown",
   "id": "3848532f-e77f-4e6a-8769-e4e1eb9cc89e",
   "metadata": {},
   "source": [
    "## Step 8: Generate text"
   ]
  },
  {
   "cell_type": "code",
   "execution_count": null,
   "id": "f45ca42c-7b6a-4eac-892b-9de0bda740ce",
   "metadata": {},
   "outputs": [],
   "source": [
    "def generate_text(model, start_seq, max_len=1000, temperature=1, max_words=None):\n",
    "    model.eval()\n",
    "    idx_seq = [vocab.get(word, vocab[\"<unk>\"]) for word in start_seq]\n",
    "    x = torch.tensor([idx_seq], dtype=torch.long)\n",
    "    hidden = None\n",
    "    result = start_seq.copy()\n",
    "\n",
    "    for _ in range(max_len):\n",
    "        output, hidden = model(x, hidden)\n",
    "        logits = output[:, -1, :] / temperature\n",
    "        probs = torch.softmax(logits, dim=-1)\n",
    "        next_token = torch.multinomial(probs, num_samples=1).item()\n",
    "\n",
    "        if next_token == vocab[\"<eos>\"]:\n",
    "            break\n",
    "\n",
    "        result.append(inv_vocab[next_token])\n",
    "        if max_words is not None and len(result) >= max_words:\n",
    "            break\n",
    "\n",
    "        x = torch.tensor([[next_token]], dtype=torch.long)\n",
    "\n",
    "    return \" \".join(result)"
   ]
  },
  {
   "cell_type": "code",
   "execution_count": null,
   "id": "c882a73c-6223-4a90-b361-ee2340de9d84",
   "metadata": {},
   "outputs": [],
   "source": [
    "for T in [0.7, 1.0, 1.3]:\n",
    "    print(f\"[Sampling with T={T}] \")\n",
    "    print(generate_text(model, [\"the\"], max_len=1000, max_words=150, temperature=T))"
   ]
  }
 ],
 "metadata": {
  "kernelspec": {
   "display_name": "Python 3 (ipykernel)",
   "language": "python",
   "name": "python3"
  },
  "language_info": {
   "codemirror_mode": {
    "name": "ipython",
    "version": 3
   },
   "file_extension": ".py",
   "mimetype": "text/x-python",
   "name": "python",
   "nbconvert_exporter": "python",
   "pygments_lexer": "ipython3",
   "version": "3.12.2"
  }
 },
 "nbformat": 4,
 "nbformat_minor": 5
}
